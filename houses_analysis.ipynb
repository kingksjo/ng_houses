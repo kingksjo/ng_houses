{
 "cells": [
  {
   "cell_type": "code",
   "execution_count": 601,
   "metadata": {},
   "outputs": [],
   "source": [
    "import pandas as pd\n",
    "import matplotlib.pyplot as plt\n",
    "import numpy as np\n",
    "from sklearn.ensemble import RandomForestRegressor, GradientBoostingRegressor\n",
    "from sklearn.linear_model import LinearRegression, LogisticRegression\n",
    "from sklearn.compose import ColumnTransformer\n",
    "from sklearn.pipeline import Pipeline\n",
    "from sklearn.model_selection import train_test_split, GridSearchCV\n",
    "from sklearn.metrics import root_mean_squared_error, mean_absolute_error, mean_squared_error, r2_score, accuracy_score\n",
    "import seaborn as sns\n",
    "from sklearn.preprocessing import StandardScaler, MinMaxScaler, LabelEncoder, OneHotEncoder\n",
    "sns.set_style(\"whitegrid\")"
   ]
  },
  {
   "cell_type": "code",
   "execution_count": 602,
   "metadata": {},
   "outputs": [],
   "source": [
    "data = pd.read_csv(\"results/properties_april.csv\")"
   ]
  },
  {
   "cell_type": "code",
   "execution_count": 603,
   "metadata": {},
   "outputs": [
    {
     "data": {
      "application/vnd.microsoft.datawrangler.viewer.v0+json": {
       "columns": [
        {
         "name": "index",
         "rawType": "int64",
         "type": "integer"
        },
        {
         "name": "type_of_house",
         "rawType": "object",
         "type": "string"
        },
        {
         "name": "location",
         "rawType": "object",
         "type": "string"
        },
        {
         "name": "price",
         "rawType": "object",
         "type": "string"
        },
        {
         "name": "bedrooms",
         "rawType": "float64",
         "type": "float"
        },
        {
         "name": "bathrooms",
         "rawType": "float64",
         "type": "float"
        },
        {
         "name": "toilets",
         "rawType": "float64",
         "type": "float"
        },
        {
         "name": "parking_space",
         "rawType": "float64",
         "type": "float"
        }
       ],
       "conversionMethod": "pd.DataFrame",
       "ref": "0106523f-37ef-47c7-9e22-8d59389ed08c",
       "rows": [
        [
         "0",
         "Office space for sale",
         "Victoria Island (VI), Lagos",
         "₦52,500,000,000",
         null,
         null,
         null,
         null
        ],
        [
         "1",
         "Office space for sale",
         "Victoria Island (VI), Lagos",
         "₦30,000,000,000",
         null,
         null,
         null,
         null
        ],
        [
         "2",
         "5 bedroom detached duplex for sale",
         "Chevron Drive, Lekki, Lagos",
         "₦690,000,000",
         "5.0",
         "5.0",
         "6.0",
         null
        ],
        [
         "3",
         "5 bedroom detached duplex for sale",
         "Ikate, Lekki, Lagos",
         "₦750,000,000",
         "5.0",
         "5.0",
         "6.0",
         null
        ],
        [
         "4",
         "5 bedroom detached duplex for sale",
         "Ikate, Lekki, Lagos",
         "₦700,000,000",
         "5.0",
         "5.0",
         "6.0",
         "4.0"
        ],
        [
         "5",
         "5 bedroom detached duplex for sale",
         "Ikate, Lekki, Lagos",
         "₦875,000,000",
         "5.0",
         "5.0",
         "6.0",
         null
        ],
        [
         "6",
         "2 bedroom block of flats for sale",
         "Ikota, Lekki, Lagos",
         "₦120,000,000",
         "2.0",
         "2.0",
         "3.0",
         "2.0"
        ],
        [
         "7",
         "4 bedroom terraced duplex for sale",
         "Lekki County, Ikota, Lekki, Lagos",
         "₦140,000,000",
         "4.0",
         "4.0",
         "5.0",
         null
        ],
        [
         "8",
         "4 bedroom detached duplex for sale",
         "Oral Estate, Ikota, Lekki, Lagos",
         "₦180,000,000",
         "4.0",
         "5.0",
         "5.0",
         null
        ],
        [
         "9",
         "5 bedroom detached duplex for sale",
         "Lekki County, Ikota, Lekki, Lagos",
         "₦230,000,000",
         "5.0",
         "5.0",
         "6.0",
         "9.0"
        ],
        [
         "10",
         "4 bedroom terraced duplex for sale",
         "Ikota, Lekki, Lagos",
         "₦140,000,000",
         "4.0",
         "4.0",
         "5.0",
         "2.0"
        ],
        [
         "11",
         "4 bedroom detached duplex for sale",
         "Ikota, Lekki, Lagos",
         "₦200,000,000",
         "4.0",
         "4.0",
         "5.0",
         "3.0"
        ],
        [
         "12",
         "5 bedroom detached duplex for sale",
         "Ikate Elegushi, Lekki, Lagos",
         "₦750,000,000",
         "5.0",
         "5.0",
         "7.0",
         null
        ],
        [
         "13",
         "5 bedroom detached duplex for sale",
         "Pinnock Beach Estate, Osapa, Lekki, Lagos",
         "₦1,700,000,000",
         "5.0",
         "5.0",
         "6.0",
         null
        ],
        [
         "14",
         "5 bedroom detached duplex for sale",
         "Agungi, Lekki, Lagos",
         "₦320,000,000",
         "5.0",
         "5.0",
         "6.0",
         null
        ],
        [
         "15",
         "5 bedroom detached duplex for sale",
         "Agungi, Lekki, Lagos",
         "₦300,000,000",
         "5.0",
         "5.0",
         "6.0",
         null
        ],
        [
         "16",
         "6 bedroom detached duplex for sale",
         "Lekki Phase 1, Lekki, Lagos",
         "₦1,600,000,000",
         "6.0",
         "6.0",
         "7.0",
         "8.0"
        ],
        [
         "17",
         "4 bedroom detached duplex for sale",
         "Banana Island, Ikoyi, Lagos",
         "₦3,500,000,000",
         "4.0",
         "4.0",
         "5.0",
         null
        ],
        [
         "18",
         "5 bedroom detached duplex for sale",
         "Royal Garden Estate, Ajah, Lagos",
         "₦550,000,000",
         "5.0",
         "5.0",
         "6.0",
         null
        ],
        [
         "19",
         "5 bedroom detached duplex for sale",
         "Royal Garden Estate, Ajah, Lagos",
         "₦650,000,000",
         "5.0",
         "5.0",
         "6.0",
         null
        ],
        [
         "20",
         "5 bedroom semi-detached duplex for sale",
         "In A Fully Serviced Estate Near Pinnock Beach, Osapa, Lekki, Lagos, Lekki, Lagos",
         "₦310,000,000",
         "5.0",
         null,
         null,
         null
        ],
        [
         "21",
         "6 bedroom detached duplex for sale",
         "In A Serviced Estate At Osapa, Lekki, Lagos, Lekki, Lagos",
         "₦415,000,000",
         "6.0",
         null,
         null,
         null
        ],
        [
         "22",
         "3 bedroom flat / apartment for sale",
         "Northern Foreshore Estate, Lekki Lagos., Lekki, Lagos",
         "₦150,000,000",
         "3.0",
         null,
         null,
         null
        ],
        [
         "23",
         "4 bedroom terraced duplex for sale",
         "Lekki, Lagos",
         "₦200,000,000",
         "4.0",
         "4.0",
         "5.0",
         null
        ],
        [
         "24",
         "Commercial property for sale",
         "Lekki Phase 1, Lekki, Lagos",
         "₦850,000,000",
         null,
         null,
         null,
         null
        ],
        [
         "25",
         "5 bedroom detached duplex for sale",
         "Osapa, Lekki, Lagos",
         "₦650,000,000",
         "5.0",
         null,
         null,
         null
        ],
        [
         "26",
         "4 bedroom terraced duplex for sale",
         "Orchid Road, Second Toll Gate, Lekki Phase 2, Lekki, Lagos",
         "₦100,000,000",
         "4.0",
         "4.0",
         "5.0",
         null
        ],
        [
         "27",
         "5 bedroom detached duplex for sale",
         "Lekki Phase 1, Lekki, Lagos",
         "₦500,000,000",
         "5.0",
         "5.0",
         "6.0",
         "5.0"
        ],
        [
         "28",
         "3 bedroom flat / apartment for sale",
         "Yaba, Lagos",
         "₦110,000,000",
         "3.0",
         null,
         null,
         null
        ],
        [
         "29",
         "4 bedroom flat / apartment for sale",
         "Banana Island, Ikoyi, Lagos",
         "$1,300,000",
         "4.0",
         null,
         null,
         null
        ],
        [
         "30",
         "3 bedroom block of flats for sale",
         "Omole Phase 1, Ikeja, Lagos",
         "₦200,000,000",
         "3.0",
         "4.0",
         "4.0",
         "3.0"
        ],
        [
         "31",
         "5 bedroom house for sale",
         "Monastery Road, Ajah, Lagos",
         "₦190,000,000",
         "5.0",
         null,
         null,
         null
        ],
        [
         "32",
         "4 bedroom semi-detached duplex for sale",
         "Offering The Perfect Blend Of Comfort And Luxury., Sangotedo, Ajah, Lagos",
         "₦140,000,000",
         "4.0",
         "4.0",
         "5.0",
         "3.0"
        ],
        [
         "33",
         "3 bedroom detached bungalow for sale",
         "Alafara, Ologuneru, Ibadan, Oyo",
         "₦65,000,000",
         "3.0",
         null,
         null,
         null
        ],
        [
         "34",
         "3 bedroom terraced duplex for sale",
         "Dawaki, Gwarinpa, Abuja",
         "₦120,000,000",
         "3.0",
         "3.0",
         "4.0",
         "2.0"
        ],
        [
         "35",
         "Residential land for sale",
         "GRA Phase 2, Magodo, Lagos",
         "₦890,000,000",
         null,
         null,
         null,
         null
        ],
        [
         "36",
         "5 bedroom detached duplex for sale",
         "GRA Phase 2, Magodo, Lagos",
         "₦500,000,000",
         "5.0",
         null,
         null,
         null
        ],
        [
         "37",
         "Mixed-use land for sale",
         "After Coza Church Headquarters, Guzape District, Abuja",
         "₦110,000,000",
         null,
         null,
         null,
         "4.0"
        ],
        [
         "38",
         "Residential land for sale",
         "Gilmore Construction Yard, Guzape 2, Guzape District, Abuja",
         "₦60,000,000",
         null,
         null,
         null,
         "16.0"
        ],
        [
         "39",
         "Mixed-use land for sale",
         "Behind Belham Estate, Kubwa Express Way, Karsana, Abuja",
         "₦40,000,000",
         null,
         null,
         null,
         "20.0"
        ],
        [
         "40",
         "Office space for sale",
         "Victoria Island (VI), Lagos",
         "₦5,000,000,000",
         null,
         null,
         null,
         null
        ],
        [
         "41",
         "2 bedroom flat / apartment for sale",
         "Orchid, Lekki, Lagos",
         "₦65,000,000",
         "2.0",
         "2.0",
         "3.0",
         "2.0"
        ],
        [
         "42",
         "5 bedroom detached duplex for sale",
         "Osapa, Lekki, Lagos",
         "₦300,000,000",
         "5.0",
         "5.0",
         "6.0",
         "4.0"
        ],
        [
         "43",
         "4 bedroom terraced duplex for sale",
         "Osapa, Lekki, Lagos",
         "₦280,000,000",
         "4.0",
         "4.0",
         "5.0",
         "4.0"
        ],
        [
         "44",
         "4 bedroom semi-detached duplex for sale",
         "Osapa, Lekki, Lagos",
         "₦185,000,000",
         "4.0",
         "4.0",
         "5.0",
         "3.0"
        ],
        [
         "45",
         "4 bedroom semi-detached duplex for sale",
         "Osapa, Lekki, Lagos",
         "₦180,000,000",
         "4.0",
         "4.0",
         "5.0",
         "3.0"
        ],
        [
         "46",
         "4 bedroom semi-detached duplex for sale",
         "Osapa, Lekki, Lagos",
         "₦160,000,000",
         "4.0",
         "4.0",
         "5.0",
         "3.0"
        ],
        [
         "47",
         "5 bedroom detached duplex for sale",
         "Osapa, Lekki, Lagos",
         "₦500,000,000",
         "5.0",
         "5.0",
         "6.0",
         "4.0"
        ],
        [
         "48",
         "5 bedroom detached duplex for sale",
         "Agungi, Lekki, Lagos",
         "₦300,000,000",
         "5.0",
         "5.0",
         "6.0",
         "4.0"
        ],
        [
         "49",
         "5 bedroom detached duplex for sale",
         "Agungi, Lekki, Lagos",
         "₦300,000,000",
         "5.0",
         "5.0",
         "6.0",
         null
        ]
       ],
       "shape": {
        "columns": 7,
        "rows": 82422
       }
      },
      "text/html": [
       "<div>\n",
       "<style scoped>\n",
       "    .dataframe tbody tr th:only-of-type {\n",
       "        vertical-align: middle;\n",
       "    }\n",
       "\n",
       "    .dataframe tbody tr th {\n",
       "        vertical-align: top;\n",
       "    }\n",
       "\n",
       "    .dataframe thead th {\n",
       "        text-align: right;\n",
       "    }\n",
       "</style>\n",
       "<table border=\"1\" class=\"dataframe\">\n",
       "  <thead>\n",
       "    <tr style=\"text-align: right;\">\n",
       "      <th></th>\n",
       "      <th>type_of_house</th>\n",
       "      <th>location</th>\n",
       "      <th>price</th>\n",
       "      <th>bedrooms</th>\n",
       "      <th>bathrooms</th>\n",
       "      <th>toilets</th>\n",
       "      <th>parking_space</th>\n",
       "    </tr>\n",
       "  </thead>\n",
       "  <tbody>\n",
       "    <tr>\n",
       "      <th>0</th>\n",
       "      <td>Office space for sale</td>\n",
       "      <td>Victoria Island (VI), Lagos</td>\n",
       "      <td>₦52,500,000,000</td>\n",
       "      <td>NaN</td>\n",
       "      <td>NaN</td>\n",
       "      <td>NaN</td>\n",
       "      <td>NaN</td>\n",
       "    </tr>\n",
       "    <tr>\n",
       "      <th>1</th>\n",
       "      <td>Office space for sale</td>\n",
       "      <td>Victoria Island (VI), Lagos</td>\n",
       "      <td>₦30,000,000,000</td>\n",
       "      <td>NaN</td>\n",
       "      <td>NaN</td>\n",
       "      <td>NaN</td>\n",
       "      <td>NaN</td>\n",
       "    </tr>\n",
       "    <tr>\n",
       "      <th>2</th>\n",
       "      <td>5 bedroom detached duplex for sale</td>\n",
       "      <td>Chevron Drive, Lekki, Lagos</td>\n",
       "      <td>₦690,000,000</td>\n",
       "      <td>5.0</td>\n",
       "      <td>5.0</td>\n",
       "      <td>6.0</td>\n",
       "      <td>NaN</td>\n",
       "    </tr>\n",
       "    <tr>\n",
       "      <th>3</th>\n",
       "      <td>5 bedroom detached duplex for sale</td>\n",
       "      <td>Ikate, Lekki, Lagos</td>\n",
       "      <td>₦750,000,000</td>\n",
       "      <td>5.0</td>\n",
       "      <td>5.0</td>\n",
       "      <td>6.0</td>\n",
       "      <td>NaN</td>\n",
       "    </tr>\n",
       "    <tr>\n",
       "      <th>4</th>\n",
       "      <td>5 bedroom detached duplex for sale</td>\n",
       "      <td>Ikate, Lekki, Lagos</td>\n",
       "      <td>₦700,000,000</td>\n",
       "      <td>5.0</td>\n",
       "      <td>5.0</td>\n",
       "      <td>6.0</td>\n",
       "      <td>4.0</td>\n",
       "    </tr>\n",
       "    <tr>\n",
       "      <th>...</th>\n",
       "      <td>...</td>\n",
       "      <td>...</td>\n",
       "      <td>...</td>\n",
       "      <td>...</td>\n",
       "      <td>...</td>\n",
       "      <td>...</td>\n",
       "      <td>...</td>\n",
       "    </tr>\n",
       "    <tr>\n",
       "      <th>82417</th>\n",
       "      <td>Mixed-use land for sale</td>\n",
       "      <td>Lateef Jakande, Ikoyi, Lagos</td>\n",
       "      <td>₦1,200,000</td>\n",
       "      <td>NaN</td>\n",
       "      <td>NaN</td>\n",
       "      <td>NaN</td>\n",
       "      <td>NaN</td>\n",
       "    </tr>\n",
       "    <tr>\n",
       "      <th>82418</th>\n",
       "      <td>Block of flats for sale</td>\n",
       "      <td>Gbagada, Lagos</td>\n",
       "      <td>₦70,000,000</td>\n",
       "      <td>NaN</td>\n",
       "      <td>NaN</td>\n",
       "      <td>NaN</td>\n",
       "      <td>NaN</td>\n",
       "    </tr>\n",
       "    <tr>\n",
       "      <th>82419</th>\n",
       "      <td>2 bedroom flat / apartment for sale</td>\n",
       "      <td>Off Freedom Way, Ikate, Lekki, Lagos</td>\n",
       "      <td>₦245,000,000</td>\n",
       "      <td>2.0</td>\n",
       "      <td>2.0</td>\n",
       "      <td>3.0</td>\n",
       "      <td>NaN</td>\n",
       "    </tr>\n",
       "    <tr>\n",
       "      <th>82420</th>\n",
       "      <td>2 bedroom flat / apartment for sale</td>\n",
       "      <td>Ikate, Lekki, Lagos</td>\n",
       "      <td>₦80,000,000</td>\n",
       "      <td>2.0</td>\n",
       "      <td>2.0</td>\n",
       "      <td>2.0</td>\n",
       "      <td>2.0</td>\n",
       "    </tr>\n",
       "    <tr>\n",
       "      <th>82421</th>\n",
       "      <td>2 bedroom flat / apartment for sale</td>\n",
       "      <td>Alverton Estate, Beside Fara Park, Sangotedo, ...</td>\n",
       "      <td>₦90,000,000</td>\n",
       "      <td>2.0</td>\n",
       "      <td>3.0</td>\n",
       "      <td>3.0</td>\n",
       "      <td>NaN</td>\n",
       "    </tr>\n",
       "  </tbody>\n",
       "</table>\n",
       "<p>82422 rows × 7 columns</p>\n",
       "</div>"
      ],
      "text/plain": [
       "                             type_of_house  \\\n",
       "0                    Office space for sale   \n",
       "1                    Office space for sale   \n",
       "2       5 bedroom detached duplex for sale   \n",
       "3       5 bedroom detached duplex for sale   \n",
       "4       5 bedroom detached duplex for sale   \n",
       "...                                    ...   \n",
       "82417              Mixed-use land for sale   \n",
       "82418              Block of flats for sale   \n",
       "82419  2 bedroom flat / apartment for sale   \n",
       "82420  2 bedroom flat / apartment for sale   \n",
       "82421  2 bedroom flat / apartment for sale   \n",
       "\n",
       "                                                location            price  \\\n",
       "0                            Victoria Island (VI), Lagos  ₦52,500,000,000   \n",
       "1                            Victoria Island (VI), Lagos  ₦30,000,000,000   \n",
       "2                            Chevron Drive, Lekki, Lagos     ₦690,000,000   \n",
       "3                                    Ikate, Lekki, Lagos     ₦750,000,000   \n",
       "4                                    Ikate, Lekki, Lagos     ₦700,000,000   \n",
       "...                                                  ...              ...   \n",
       "82417                       Lateef Jakande, Ikoyi, Lagos       ₦1,200,000   \n",
       "82418                                     Gbagada, Lagos      ₦70,000,000   \n",
       "82419               Off Freedom Way, Ikate, Lekki, Lagos     ₦245,000,000   \n",
       "82420                                Ikate, Lekki, Lagos      ₦80,000,000   \n",
       "82421  Alverton Estate, Beside Fara Park, Sangotedo, ...      ₦90,000,000   \n",
       "\n",
       "       bedrooms  bathrooms  toilets  parking_space  \n",
       "0           NaN        NaN      NaN            NaN  \n",
       "1           NaN        NaN      NaN            NaN  \n",
       "2           5.0        5.0      6.0            NaN  \n",
       "3           5.0        5.0      6.0            NaN  \n",
       "4           5.0        5.0      6.0            4.0  \n",
       "...         ...        ...      ...            ...  \n",
       "82417       NaN        NaN      NaN            NaN  \n",
       "82418       NaN        NaN      NaN            NaN  \n",
       "82419       2.0        2.0      3.0            NaN  \n",
       "82420       2.0        2.0      2.0            2.0  \n",
       "82421       2.0        3.0      3.0            NaN  \n",
       "\n",
       "[82422 rows x 7 columns]"
      ]
     },
     "execution_count": 603,
     "metadata": {},
     "output_type": "execute_result"
    }
   ],
   "source": [
    "data"
   ]
  },
  {
   "cell_type": "code",
   "execution_count": 604,
   "metadata": {},
   "outputs": [
    {
     "data": {
      "text/plain": [
       "(82422, 7)"
      ]
     },
     "execution_count": 604,
     "metadata": {},
     "output_type": "execute_result"
    }
   ],
   "source": [
    "data.shape"
   ]
  },
  {
   "cell_type": "code",
   "execution_count": 605,
   "metadata": {},
   "outputs": [
    {
     "name": "stdout",
     "output_type": "stream",
     "text": [
      "<class 'pandas.core.frame.DataFrame'>\n",
      "RangeIndex: 82422 entries, 0 to 82421\n",
      "Data columns (total 7 columns):\n",
      " #   Column         Non-Null Count  Dtype  \n",
      "---  ------         --------------  -----  \n",
      " 0   type_of_house  82422 non-null  object \n",
      " 1   location       82422 non-null  object \n",
      " 2   price          82422 non-null  object \n",
      " 3   bedrooms       60064 non-null  float64\n",
      " 4   bathrooms      53270 non-null  float64\n",
      " 5   toilets        54901 non-null  float64\n",
      " 6   parking_space  35978 non-null  float64\n",
      "dtypes: float64(4), object(3)\n",
      "memory usage: 4.4+ MB\n"
     ]
    }
   ],
   "source": [
    "data.info()"
   ]
  },
  {
   "cell_type": "code",
   "execution_count": 606,
   "metadata": {},
   "outputs": [
    {
     "data": {
      "application/vnd.microsoft.datawrangler.viewer.v0+json": {
       "columns": [
        {
         "name": "index",
         "rawType": "object",
         "type": "string"
        },
        {
         "name": "bedrooms",
         "rawType": "float64",
         "type": "float"
        },
        {
         "name": "bathrooms",
         "rawType": "float64",
         "type": "float"
        },
        {
         "name": "toilets",
         "rawType": "float64",
         "type": "float"
        },
        {
         "name": "parking_space",
         "rawType": "float64",
         "type": "float"
        }
       ],
       "conversionMethod": "pd.DataFrame",
       "ref": "8cbf9324-4ad6-40a9-91fe-4c24852eaeef",
       "rows": [
        [
         "count",
         "60064.0",
         "53270.0",
         "54901.0",
         "35978.0"
        ],
        [
         "mean",
         "4.990743207245605",
         "4.889449971841562",
         "7837.864264767491",
         "929.0819945522263"
        ],
        [
         "std",
         "85.6828397118241",
         "25.631511363824238",
         "1835178.5415679382",
         "138071.78240016647"
        ],
        [
         "min",
         "1.0",
         "1.0",
         "1.0",
         "1.0"
        ],
        [
         "25%",
         "3.0",
         "3.0",
         "4.0",
         "3.0"
        ],
        [
         "50%",
         "4.0",
         "4.0",
         "5.0",
         "4.0"
        ],
        [
         "75%",
         "5.0",
         "5.0",
         "6.0",
         "5.0"
        ],
        [
         "max",
         "20540.0",
         "4000.0",
         "430000000.0",
         "25948403.0"
        ]
       ],
       "shape": {
        "columns": 4,
        "rows": 8
       }
      },
      "text/html": [
       "<div>\n",
       "<style scoped>\n",
       "    .dataframe tbody tr th:only-of-type {\n",
       "        vertical-align: middle;\n",
       "    }\n",
       "\n",
       "    .dataframe tbody tr th {\n",
       "        vertical-align: top;\n",
       "    }\n",
       "\n",
       "    .dataframe thead th {\n",
       "        text-align: right;\n",
       "    }\n",
       "</style>\n",
       "<table border=\"1\" class=\"dataframe\">\n",
       "  <thead>\n",
       "    <tr style=\"text-align: right;\">\n",
       "      <th></th>\n",
       "      <th>bedrooms</th>\n",
       "      <th>bathrooms</th>\n",
       "      <th>toilets</th>\n",
       "      <th>parking_space</th>\n",
       "    </tr>\n",
       "  </thead>\n",
       "  <tbody>\n",
       "    <tr>\n",
       "      <th>count</th>\n",
       "      <td>60064.000000</td>\n",
       "      <td>53270.000000</td>\n",
       "      <td>5.490100e+04</td>\n",
       "      <td>3.597800e+04</td>\n",
       "    </tr>\n",
       "    <tr>\n",
       "      <th>mean</th>\n",
       "      <td>4.990743</td>\n",
       "      <td>4.889450</td>\n",
       "      <td>7.837864e+03</td>\n",
       "      <td>9.290820e+02</td>\n",
       "    </tr>\n",
       "    <tr>\n",
       "      <th>std</th>\n",
       "      <td>85.682840</td>\n",
       "      <td>25.631511</td>\n",
       "      <td>1.835179e+06</td>\n",
       "      <td>1.380718e+05</td>\n",
       "    </tr>\n",
       "    <tr>\n",
       "      <th>min</th>\n",
       "      <td>1.000000</td>\n",
       "      <td>1.000000</td>\n",
       "      <td>1.000000e+00</td>\n",
       "      <td>1.000000e+00</td>\n",
       "    </tr>\n",
       "    <tr>\n",
       "      <th>25%</th>\n",
       "      <td>3.000000</td>\n",
       "      <td>3.000000</td>\n",
       "      <td>4.000000e+00</td>\n",
       "      <td>3.000000e+00</td>\n",
       "    </tr>\n",
       "    <tr>\n",
       "      <th>50%</th>\n",
       "      <td>4.000000</td>\n",
       "      <td>4.000000</td>\n",
       "      <td>5.000000e+00</td>\n",
       "      <td>4.000000e+00</td>\n",
       "    </tr>\n",
       "    <tr>\n",
       "      <th>75%</th>\n",
       "      <td>5.000000</td>\n",
       "      <td>5.000000</td>\n",
       "      <td>6.000000e+00</td>\n",
       "      <td>5.000000e+00</td>\n",
       "    </tr>\n",
       "    <tr>\n",
       "      <th>max</th>\n",
       "      <td>20540.000000</td>\n",
       "      <td>4000.000000</td>\n",
       "      <td>4.300000e+08</td>\n",
       "      <td>2.594840e+07</td>\n",
       "    </tr>\n",
       "  </tbody>\n",
       "</table>\n",
       "</div>"
      ],
      "text/plain": [
       "           bedrooms     bathrooms       toilets  parking_space\n",
       "count  60064.000000  53270.000000  5.490100e+04   3.597800e+04\n",
       "mean       4.990743      4.889450  7.837864e+03   9.290820e+02\n",
       "std       85.682840     25.631511  1.835179e+06   1.380718e+05\n",
       "min        1.000000      1.000000  1.000000e+00   1.000000e+00\n",
       "25%        3.000000      3.000000  4.000000e+00   3.000000e+00\n",
       "50%        4.000000      4.000000  5.000000e+00   4.000000e+00\n",
       "75%        5.000000      5.000000  6.000000e+00   5.000000e+00\n",
       "max    20540.000000   4000.000000  4.300000e+08   2.594840e+07"
      ]
     },
     "execution_count": 606,
     "metadata": {},
     "output_type": "execute_result"
    }
   ],
   "source": [
    "data.describe()"
   ]
  },
  {
   "cell_type": "markdown",
   "metadata": {},
   "source": [
    "### Data Cleaning and Normalization"
   ]
  },
  {
   "cell_type": "markdown",
   "metadata": {},
   "source": [
    "Firstly, it would be more suitable to pull out the `state` and `town` from the location column"
   ]
  },
  {
   "cell_type": "code",
   "execution_count": 607,
   "metadata": {},
   "outputs": [
    {
     "data": {
      "text/plain": [
       "location\n",
       " Lekki         27920\n",
       " Ajah           5102\n",
       " Ikeja          4213\n",
       " Ikoyi          3963\n",
       "Ajah            2828\n",
       "               ...  \n",
       "Saki East          1\n",
       "Aboh Mbaise        1\n",
       "Keffi              1\n",
       " Nassarawa         1\n",
       " Rafi              1\n",
       "Name: count, Length: 478, dtype: int64"
      ]
     },
     "execution_count": 607,
     "metadata": {},
     "output_type": "execute_result"
    }
   ],
   "source": [
    "data[\"location\"].str.split(\",\").str[-2].value_counts()"
   ]
  },
  {
   "cell_type": "code",
   "execution_count": 608,
   "metadata": {},
   "outputs": [
    {
     "data": {
      "application/vnd.microsoft.datawrangler.viewer.v0+json": {
       "columns": [
        {
         "name": "index",
         "rawType": "int64",
         "type": "integer"
        },
        {
         "name": "type_of_house",
         "rawType": "object",
         "type": "string"
        },
        {
         "name": "location",
         "rawType": "object",
         "type": "string"
        },
        {
         "name": "price",
         "rawType": "object",
         "type": "string"
        },
        {
         "name": "bedrooms",
         "rawType": "float64",
         "type": "float"
        },
        {
         "name": "bathrooms",
         "rawType": "float64",
         "type": "float"
        },
        {
         "name": "toilets",
         "rawType": "float64",
         "type": "float"
        },
        {
         "name": "parking_space",
         "rawType": "float64",
         "type": "float"
        }
       ],
       "conversionMethod": "pd.DataFrame",
       "ref": "c0565fd9-37b3-456f-9c59-61d919060e9a",
       "rows": [
        [
         "636",
         "Filling station for sale",
         "Hammadiyah B/stop,lagos-abeokuta Express, Agege, Lagos",
         "₦600,000,000",
         null,
         null,
         null,
         null
        ],
        [
         "1155",
         "Commercial property for sale",
         "Ibadan-lagos Express Way, Ojodu Berger, Ojodu, Lagos",
         "₦750,000,000",
         null,
         null,
         null,
         null
        ],
        [
         "11298",
         "Mixed-use land for sale",
         "Oloworedo,lagos-ibadan Expressway, Mowe Ofada, Ogun",
         "₦250,000,000",
         null,
         null,
         null,
         null
        ],
        [
         "24903",
         "5 bedroom detached duplex for sale",
         "Osapa,lekki,lagos, Osapa, Lekki, Lagos",
         "₦300,000,000",
         "5.0",
         "5.0",
         "6.0",
         "3.0"
        ],
        [
         "26811",
         "Mixed-use land for sale",
         "Museyo/aberekodo,ibeju Lekki,lagos.down Town Lagos,commercial City, Eleko, Ibeju Lekki, Lagos",
         "₦47,000,000",
         null,
         null,
         null,
         null
        ],
        [
         "27982",
         "4 bedroom house for sale",
         "Lekki ,phase 1,lagos ,nigeria, Lekki Phase 1, Lekki, Lagos",
         "₦450,000,000",
         "4.0",
         null,
         null,
         null
        ],
        [
         "34010",
         "5 bedroom detached duplex for sale",
         "Orchid Hotel Road ,lagos Ocean Bay Estate, Lekki, Lagos",
         "₦380,000,000",
         "5.0",
         "5.0",
         "6.0",
         "3.0"
        ],
        [
         "37079",
         "4 bedroom detached duplex for sale",
         "Ajah ,lagos, Ajah, Lagos",
         "₦120,000,000",
         "4.0",
         "5.0",
         "5.0",
         "3.0"
        ],
        [
         "51138",
         "Residential land for sale",
         "Oju Olobun Street ,victoria Island ,lagos , Nigeria, Victoria Island (VI), Lagos",
         "₦1,600,000",
         null,
         null,
         null,
         null
        ],
        [
         "53367",
         "2 bedroom flat / apartment for sale",
         "Autograph,lagos, Ilasan, Lekki, Lagos",
         "₦120,000,000",
         "2.0",
         "2.0",
         "2.0",
         null
        ],
        [
         "57341",
         "Industrial land for sale",
         "Km 8, Abeokuta-lagos Expressway, Ile-ise Awo Bus-stop, Abeokuta North, Ogun",
         "₦100,000,000",
         null,
         null,
         null,
         null
        ],
        [
         "57756",
         "Land for sale",
         "Close To Oke Ogun Tennis Mins Off Abeokuta-lagos Road And Ace Mall, Iseyin, Oyo",
         "₦900,000",
         null,
         null,
         null,
         null
        ],
        [
         "59537",
         "Land for sale",
         "Few Mins Off Abeokuta-lagos Road Close To Ace Mall And Saf Polytechnic, Iseyin, Oyo",
         "₦900,000",
         null,
         null,
         null,
         null
        ],
        [
         "60032",
         "Land for sale",
         "Ogere ,lagos Ibadan Express Way., Ojodu Berger, Ojodu, Lagos",
         "₦60,000,000",
         null,
         null,
         null,
         null
        ],
        [
         "68272",
         "Commercial land for sale",
         "Along Abeokuta-lagos Road, Ado-awaye, Iseyin, Oyo",
         "₦900,000",
         null,
         null,
         null,
         null
        ],
        [
         "75767",
         "4 bedroom semi-detached duplex for sale",
         "Ikate,lekki,lagos, Ikate, Lekki, Lagos",
         "₦110,000,000",
         "4.0",
         "4.0",
         "5.0",
         "2.0"
        ]
       ],
       "shape": {
        "columns": 7,
        "rows": 16
       }
      },
      "text/html": [
       "<div>\n",
       "<style scoped>\n",
       "    .dataframe tbody tr th:only-of-type {\n",
       "        vertical-align: middle;\n",
       "    }\n",
       "\n",
       "    .dataframe tbody tr th {\n",
       "        vertical-align: top;\n",
       "    }\n",
       "\n",
       "    .dataframe thead th {\n",
       "        text-align: right;\n",
       "    }\n",
       "</style>\n",
       "<table border=\"1\" class=\"dataframe\">\n",
       "  <thead>\n",
       "    <tr style=\"text-align: right;\">\n",
       "      <th></th>\n",
       "      <th>type_of_house</th>\n",
       "      <th>location</th>\n",
       "      <th>price</th>\n",
       "      <th>bedrooms</th>\n",
       "      <th>bathrooms</th>\n",
       "      <th>toilets</th>\n",
       "      <th>parking_space</th>\n",
       "    </tr>\n",
       "  </thead>\n",
       "  <tbody>\n",
       "    <tr>\n",
       "      <th>636</th>\n",
       "      <td>Filling station for sale</td>\n",
       "      <td>Hammadiyah B/stop,lagos-abeokuta Express, Ageg...</td>\n",
       "      <td>₦600,000,000</td>\n",
       "      <td>NaN</td>\n",
       "      <td>NaN</td>\n",
       "      <td>NaN</td>\n",
       "      <td>NaN</td>\n",
       "    </tr>\n",
       "    <tr>\n",
       "      <th>1155</th>\n",
       "      <td>Commercial property for sale</td>\n",
       "      <td>Ibadan-lagos Express Way, Ojodu Berger, Ojodu,...</td>\n",
       "      <td>₦750,000,000</td>\n",
       "      <td>NaN</td>\n",
       "      <td>NaN</td>\n",
       "      <td>NaN</td>\n",
       "      <td>NaN</td>\n",
       "    </tr>\n",
       "    <tr>\n",
       "      <th>11298</th>\n",
       "      <td>Mixed-use land for sale</td>\n",
       "      <td>Oloworedo,lagos-ibadan Expressway, Mowe Ofada,...</td>\n",
       "      <td>₦250,000,000</td>\n",
       "      <td>NaN</td>\n",
       "      <td>NaN</td>\n",
       "      <td>NaN</td>\n",
       "      <td>NaN</td>\n",
       "    </tr>\n",
       "    <tr>\n",
       "      <th>24903</th>\n",
       "      <td>5 bedroom detached duplex for sale</td>\n",
       "      <td>Osapa,lekki,lagos, Osapa, Lekki, Lagos</td>\n",
       "      <td>₦300,000,000</td>\n",
       "      <td>5.0</td>\n",
       "      <td>5.0</td>\n",
       "      <td>6.0</td>\n",
       "      <td>3.0</td>\n",
       "    </tr>\n",
       "    <tr>\n",
       "      <th>26811</th>\n",
       "      <td>Mixed-use land for sale</td>\n",
       "      <td>Museyo/aberekodo,ibeju Lekki,lagos.down Town L...</td>\n",
       "      <td>₦47,000,000</td>\n",
       "      <td>NaN</td>\n",
       "      <td>NaN</td>\n",
       "      <td>NaN</td>\n",
       "      <td>NaN</td>\n",
       "    </tr>\n",
       "    <tr>\n",
       "      <th>27982</th>\n",
       "      <td>4 bedroom house for sale</td>\n",
       "      <td>Lekki ,phase 1,lagos ,nigeria, Lekki Phase 1, ...</td>\n",
       "      <td>₦450,000,000</td>\n",
       "      <td>4.0</td>\n",
       "      <td>NaN</td>\n",
       "      <td>NaN</td>\n",
       "      <td>NaN</td>\n",
       "    </tr>\n",
       "    <tr>\n",
       "      <th>34010</th>\n",
       "      <td>5 bedroom detached duplex for sale</td>\n",
       "      <td>Orchid Hotel Road ,lagos Ocean Bay Estate, Lek...</td>\n",
       "      <td>₦380,000,000</td>\n",
       "      <td>5.0</td>\n",
       "      <td>5.0</td>\n",
       "      <td>6.0</td>\n",
       "      <td>3.0</td>\n",
       "    </tr>\n",
       "    <tr>\n",
       "      <th>37079</th>\n",
       "      <td>4 bedroom detached duplex for sale</td>\n",
       "      <td>Ajah ,lagos, Ajah, Lagos</td>\n",
       "      <td>₦120,000,000</td>\n",
       "      <td>4.0</td>\n",
       "      <td>5.0</td>\n",
       "      <td>5.0</td>\n",
       "      <td>3.0</td>\n",
       "    </tr>\n",
       "    <tr>\n",
       "      <th>51138</th>\n",
       "      <td>Residential land for sale</td>\n",
       "      <td>Oju Olobun Street ,victoria Island ,lagos , Ni...</td>\n",
       "      <td>₦1,600,000</td>\n",
       "      <td>NaN</td>\n",
       "      <td>NaN</td>\n",
       "      <td>NaN</td>\n",
       "      <td>NaN</td>\n",
       "    </tr>\n",
       "    <tr>\n",
       "      <th>53367</th>\n",
       "      <td>2 bedroom flat / apartment for sale</td>\n",
       "      <td>Autograph,lagos, Ilasan, Lekki, Lagos</td>\n",
       "      <td>₦120,000,000</td>\n",
       "      <td>2.0</td>\n",
       "      <td>2.0</td>\n",
       "      <td>2.0</td>\n",
       "      <td>NaN</td>\n",
       "    </tr>\n",
       "    <tr>\n",
       "      <th>57341</th>\n",
       "      <td>Industrial land for sale</td>\n",
       "      <td>Km 8, Abeokuta-lagos Expressway, Ile-ise Awo B...</td>\n",
       "      <td>₦100,000,000</td>\n",
       "      <td>NaN</td>\n",
       "      <td>NaN</td>\n",
       "      <td>NaN</td>\n",
       "      <td>NaN</td>\n",
       "    </tr>\n",
       "    <tr>\n",
       "      <th>57756</th>\n",
       "      <td>Land for sale</td>\n",
       "      <td>Close To Oke Ogun Tennis Mins Off Abeokuta-lag...</td>\n",
       "      <td>₦900,000</td>\n",
       "      <td>NaN</td>\n",
       "      <td>NaN</td>\n",
       "      <td>NaN</td>\n",
       "      <td>NaN</td>\n",
       "    </tr>\n",
       "    <tr>\n",
       "      <th>59537</th>\n",
       "      <td>Land for sale</td>\n",
       "      <td>Few Mins Off Abeokuta-lagos Road Close To Ace ...</td>\n",
       "      <td>₦900,000</td>\n",
       "      <td>NaN</td>\n",
       "      <td>NaN</td>\n",
       "      <td>NaN</td>\n",
       "      <td>NaN</td>\n",
       "    </tr>\n",
       "    <tr>\n",
       "      <th>60032</th>\n",
       "      <td>Land for sale</td>\n",
       "      <td>Ogere ,lagos Ibadan Express Way., Ojodu Berger...</td>\n",
       "      <td>₦60,000,000</td>\n",
       "      <td>NaN</td>\n",
       "      <td>NaN</td>\n",
       "      <td>NaN</td>\n",
       "      <td>NaN</td>\n",
       "    </tr>\n",
       "    <tr>\n",
       "      <th>68272</th>\n",
       "      <td>Commercial land for sale</td>\n",
       "      <td>Along Abeokuta-lagos Road, Ado-awaye, Iseyin, Oyo</td>\n",
       "      <td>₦900,000</td>\n",
       "      <td>NaN</td>\n",
       "      <td>NaN</td>\n",
       "      <td>NaN</td>\n",
       "      <td>NaN</td>\n",
       "    </tr>\n",
       "    <tr>\n",
       "      <th>75767</th>\n",
       "      <td>4 bedroom semi-detached duplex for sale</td>\n",
       "      <td>Ikate,lekki,lagos, Ikate, Lekki, Lagos</td>\n",
       "      <td>₦110,000,000</td>\n",
       "      <td>4.0</td>\n",
       "      <td>4.0</td>\n",
       "      <td>5.0</td>\n",
       "      <td>2.0</td>\n",
       "    </tr>\n",
       "  </tbody>\n",
       "</table>\n",
       "</div>"
      ],
      "text/plain": [
       "                                 type_of_house  \\\n",
       "636                   Filling station for sale   \n",
       "1155              Commercial property for sale   \n",
       "11298                  Mixed-use land for sale   \n",
       "24903       5 bedroom detached duplex for sale   \n",
       "26811                  Mixed-use land for sale   \n",
       "27982                 4 bedroom house for sale   \n",
       "34010       5 bedroom detached duplex for sale   \n",
       "37079       4 bedroom detached duplex for sale   \n",
       "51138                Residential land for sale   \n",
       "53367      2 bedroom flat / apartment for sale   \n",
       "57341                 Industrial land for sale   \n",
       "57756                            Land for sale   \n",
       "59537                            Land for sale   \n",
       "60032                            Land for sale   \n",
       "68272                 Commercial land for sale   \n",
       "75767  4 bedroom semi-detached duplex for sale   \n",
       "\n",
       "                                                location         price  \\\n",
       "636    Hammadiyah B/stop,lagos-abeokuta Express, Ageg...  ₦600,000,000   \n",
       "1155   Ibadan-lagos Express Way, Ojodu Berger, Ojodu,...  ₦750,000,000   \n",
       "11298  Oloworedo,lagos-ibadan Expressway, Mowe Ofada,...  ₦250,000,000   \n",
       "24903             Osapa,lekki,lagos, Osapa, Lekki, Lagos  ₦300,000,000   \n",
       "26811  Museyo/aberekodo,ibeju Lekki,lagos.down Town L...   ₦47,000,000   \n",
       "27982  Lekki ,phase 1,lagos ,nigeria, Lekki Phase 1, ...  ₦450,000,000   \n",
       "34010  Orchid Hotel Road ,lagos Ocean Bay Estate, Lek...  ₦380,000,000   \n",
       "37079                           Ajah ,lagos, Ajah, Lagos  ₦120,000,000   \n",
       "51138  Oju Olobun Street ,victoria Island ,lagos , Ni...    ₦1,600,000   \n",
       "53367              Autograph,lagos, Ilasan, Lekki, Lagos  ₦120,000,000   \n",
       "57341  Km 8, Abeokuta-lagos Expressway, Ile-ise Awo B...  ₦100,000,000   \n",
       "57756  Close To Oke Ogun Tennis Mins Off Abeokuta-lag...      ₦900,000   \n",
       "59537  Few Mins Off Abeokuta-lagos Road Close To Ace ...      ₦900,000   \n",
       "60032  Ogere ,lagos Ibadan Express Way., Ojodu Berger...   ₦60,000,000   \n",
       "68272  Along Abeokuta-lagos Road, Ado-awaye, Iseyin, Oyo      ₦900,000   \n",
       "75767             Ikate,lekki,lagos, Ikate, Lekki, Lagos  ₦110,000,000   \n",
       "\n",
       "       bedrooms  bathrooms  toilets  parking_space  \n",
       "636         NaN        NaN      NaN            NaN  \n",
       "1155        NaN        NaN      NaN            NaN  \n",
       "11298       NaN        NaN      NaN            NaN  \n",
       "24903       5.0        5.0      6.0            3.0  \n",
       "26811       NaN        NaN      NaN            NaN  \n",
       "27982       4.0        NaN      NaN            NaN  \n",
       "34010       5.0        5.0      6.0            3.0  \n",
       "37079       4.0        5.0      5.0            3.0  \n",
       "51138       NaN        NaN      NaN            NaN  \n",
       "53367       2.0        2.0      2.0            NaN  \n",
       "57341       NaN        NaN      NaN            NaN  \n",
       "57756       NaN        NaN      NaN            NaN  \n",
       "59537       NaN        NaN      NaN            NaN  \n",
       "60032       NaN        NaN      NaN            NaN  \n",
       "68272       NaN        NaN      NaN            NaN  \n",
       "75767       4.0        4.0      5.0            2.0  "
      ]
     },
     "execution_count": 608,
     "metadata": {},
     "output_type": "execute_result"
    }
   ],
   "source": [
    "data[data[\"location\"].str.contains(\"lagos\")]"
   ]
  },
  {
   "cell_type": "code",
   "execution_count": 609,
   "metadata": {},
   "outputs": [],
   "source": [
    "# To remove all white spaces\n",
    "data[\"location\"] = data[\"location\"].str.strip().replace(r'\\s+', ' ', regex=True)\n",
    "data[\"location\"] = data[\"location\"].str.replace(r'\\s*,\\s*', ', ', regex=True)"
   ]
  },
  {
   "cell_type": "code",
   "execution_count": 610,
   "metadata": {},
   "outputs": [],
   "source": [
    "def split_location(location):\n",
    "    \"\"\"Splits location into state and town.\"\"\"\n",
    "    try:\n",
    "        parts = location.rsplit(\",\", 2)  # Split from right, max 2 splits\n",
    "        state = parts[-1].strip()\n",
    "        town = parts[-2].strip()\n",
    "        return state, town\n",
    "    except IndexError:\n",
    "        # Handle cases with missing state or town\n",
    "        return None, None"
   ]
  },
  {
   "cell_type": "markdown",
   "metadata": {},
   "source": [
    "This line of code takes the `location` column, applies the split_location function to extract the state and town into tuples, unpacks those tuples into separate columns using pd.Series, and then assigns those columns to the \"state\" and \"town\" columns of the original DataFrame data."
   ]
  },
  {
   "cell_type": "code",
   "execution_count": 611,
   "metadata": {},
   "outputs": [],
   "source": [
    "data[[\"state\", \"town\"]] = data[\"location\"].apply(split_location).apply(pd.Series)"
   ]
  },
  {
   "cell_type": "code",
   "execution_count": 612,
   "metadata": {},
   "outputs": [],
   "source": [
    "data['state'] = data['state'].str.title()\n",
    "data['town'] = data['town'].str.title()"
   ]
  },
  {
   "cell_type": "code",
   "execution_count": 613,
   "metadata": {},
   "outputs": [
    {
     "data": {
      "text/plain": [
       "array(['Lagos', 'Oyo', 'Abuja', 'Delta', 'Enugu', 'Ogun', 'Plateau',\n",
       "       'Osun', 'Nasarawa', 'Ekiti', 'Imo', 'Rivers', 'Akwa Ibom',\n",
       "       'Anambra', 'Edo', 'Benue', 'Abia', 'Ondo', 'Kaduna', 'Kwara',\n",
       "       'Cross River', 'Bauchi', 'Niger', 'Bayelsa', 'Kano', 'Ebonyi',\n",
       "       'Kogi', 'Katsina', 'Sokoto', 'Taraba', 'Jigawa', 'Gombe', 'Yobe',\n",
       "       'Kebbi', 'Borno'], dtype=object)"
      ]
     },
     "execution_count": 613,
     "metadata": {},
     "output_type": "execute_result"
    }
   ],
   "source": [
    "data[\"state\"].unique()"
   ]
  },
  {
   "cell_type": "code",
   "execution_count": 614,
   "metadata": {},
   "outputs": [
    {
     "data": {
      "application/vnd.microsoft.datawrangler.viewer.v0+json": {
       "columns": [
        {
         "name": "index",
         "rawType": "int64",
         "type": "integer"
        },
        {
         "name": "type_of_house",
         "rawType": "object",
         "type": "string"
        },
        {
         "name": "location",
         "rawType": "object",
         "type": "string"
        },
        {
         "name": "price",
         "rawType": "object",
         "type": "string"
        },
        {
         "name": "bedrooms",
         "rawType": "float64",
         "type": "float"
        },
        {
         "name": "bathrooms",
         "rawType": "float64",
         "type": "float"
        },
        {
         "name": "toilets",
         "rawType": "float64",
         "type": "float"
        },
        {
         "name": "parking_space",
         "rawType": "float64",
         "type": "float"
        },
        {
         "name": "state",
         "rawType": "object",
         "type": "string"
        },
        {
         "name": "town",
         "rawType": "object",
         "type": "string"
        }
       ],
       "conversionMethod": "pd.DataFrame",
       "ref": "60785b86-6678-4611-84c9-8c5064d7eff3",
       "rows": [
        [
         "29",
         "4 bedroom flat / apartment for sale",
         "Banana Island, Ikoyi, Lagos",
         "$1,300,000",
         "4.0",
         null,
         null,
         null,
         "Lagos",
         "Ikoyi"
        ],
        [
         "100",
         "Land for sale",
         "Vi, Victoria Island (VI), Lagos",
         "$1,400,000",
         null,
         null,
         null,
         null,
         "Lagos",
         "Victoria Island (Vi)"
        ],
        [
         "106",
         "6 bedroom detached duplex for sale",
         "Banana Island, Ikoyi, Lagos",
         "$18,000,000",
         "6.0",
         "6.0",
         "7.0",
         "20.0",
         "Lagos",
         "Ikoyi"
        ],
        [
         "333",
         "Land for sale",
         "Off Adeyemo Alakija, Victoria Island (VI), Lagos",
         "$1,400,000",
         null,
         null,
         null,
         null,
         "Lagos",
         "Victoria Island (Vi)"
        ],
        [
         "366",
         "3 bedroom flat / apartment for sale",
         "Off Bourdillon Road, Old Ikoyi, Ikoyi, Lagos",
         "$1,100,000",
         "3.0",
         "3.0",
         "4.0",
         "3.0",
         "Lagos",
         "Ikoyi"
        ],
        [
         "417",
         "12 bedroom house for sale",
         "Maitama District, Abuja",
         "$7,500,000",
         "12.0",
         null,
         "13.0",
         null,
         "Abuja",
         "Maitama District"
        ],
        [
         "432",
         "Mixed-use land for sale",
         "Guzape District, Abuja",
         "$2,000,000,000",
         null,
         null,
         null,
         null,
         "Abuja",
         "Guzape District"
        ],
        [
         "474",
         "4 bedroom house for sale",
         "Ikoyi, Lagos",
         "$1,000,000",
         "4.0",
         null,
         "5.0",
         null,
         "Lagos",
         "Ikoyi"
        ],
        [
         "532",
         "Land for sale",
         "Sango Ota, Ogun",
         "$2,000,000",
         null,
         null,
         null,
         null,
         "Ogun",
         "Sango Ota"
        ],
        [
         "539",
         "Land for sale",
         "Queens Drive, Ikoyi, Lagos",
         "$4,000,000",
         null,
         null,
         null,
         null,
         "Lagos",
         "Ikoyi"
        ],
        [
         "744",
         "5 bedroom detached duplex for sale",
         "Banana Island, Ikoyi, Lagos",
         "$1,700,000",
         "5.0",
         null,
         null,
         null,
         "Lagos",
         "Ikoyi"
        ],
        [
         "756",
         "Land for sale",
         "Eko Atlantic City, Lagos",
         "$2,500",
         null,
         null,
         null,
         null,
         "Lagos",
         "Eko Atlantic City"
        ],
        [
         "767",
         "5 bedroom detached duplex for sale",
         "Old Ikoyi, Ikoyi, Lagos",
         "$2,000,000",
         "5.0",
         "5.0",
         "6.0",
         null,
         "Lagos",
         "Ikoyi"
        ],
        [
         "773",
         "Land for sale",
         "Victoria Island (VI), Lagos",
         "$14,000,000",
         null,
         null,
         null,
         null,
         "Lagos",
         "Victoria Island (Vi)"
        ],
        [
         "827",
         "5 bedroom terraced duplex for sale",
         "Banana Island, Ikoyi, Lagos",
         "$1,500,000",
         "5.0",
         "5.0",
         "6.0",
         "4.0",
         "Lagos",
         "Ikoyi"
        ],
        [
         "872",
         "Commercial property for sale",
         "Apapa Lagos, Apapa, Lagos",
         "$15,000,000",
         null,
         null,
         null,
         null,
         "Lagos",
         "Apapa"
        ],
        [
         "913",
         "5 bedroom detached duplex for sale",
         "Old Ikoyi, Ikoyi, Lagos",
         "$1,500,000",
         "5.0",
         "5.0",
         "6.0",
         "8.0",
         "Lagos",
         "Ikoyi"
        ],
        [
         "918",
         "6 bedroom detached duplex for sale",
         "Experience Unparalleled Luxury & Innovation, Ikoyi, Lagos",
         "$3,500,000",
         "6.0",
         "6.0",
         "7.0",
         "5.0",
         "Lagos",
         "Ikoyi"
        ],
        [
         "1000",
         "4 bedroom semi-detached duplex for sale",
         "Off Burdillon Road, Ikoyi, Lagos",
         "$1,100,000",
         "4.0",
         "4.0",
         "5.0",
         "3.0",
         "Lagos",
         "Ikoyi"
        ],
        [
         "1027",
         "Commercial property for sale",
         "Ahmadu Bello, Victoria Island (VI), Lagos",
         "$5,000,000",
         null,
         null,
         null,
         null,
         "Lagos",
         "Victoria Island (Vi)"
        ],
        [
         "1033",
         "6 bedroom detached duplex for sale",
         "Ikoyi, Lagos",
         "$1,700,000",
         "6.0",
         "6.0",
         "6.0",
         "4.0",
         "Lagos",
         "Ikoyi"
        ],
        [
         "1058",
         "Commercial land for sale",
         "Victoria Island, Victoria Island (VI), Lagos",
         "$1,400,000",
         null,
         null,
         null,
         "50.0",
         "Lagos",
         "Victoria Island (Vi)"
        ],
        [
         "1101",
         "4 bedroom detached duplex for sale",
         "Off Thompson Avenue, Old Ikoyi, Ikoyi, Lagos",
         "$1,000,000",
         "4.0",
         "4.0",
         "5.0",
         null,
         "Lagos",
         "Ikoyi"
        ],
        [
         "1225",
         "86 bedroom block of flats for sale",
         "Ikoyi, Lagos",
         "$25,000,000",
         "86.0",
         "86.0",
         "90.0",
         null,
         "Lagos",
         "Ikoyi"
        ],
        [
         "1234",
         "6 bedroom detached duplex for sale",
         "Park View, Parkview, Ikoyi, Lagos",
         "$3,500,000",
         "6.0",
         "7.0",
         "7.0",
         null,
         "Lagos",
         "Ikoyi"
        ],
        [
         "1257",
         "Mixed-use land for sale",
         "Victoria Island, Eko Atlantic City, Lagos",
         "$2,000",
         null,
         null,
         null,
         null,
         "Lagos",
         "Eko Atlantic City"
        ],
        [
         "1268",
         "4 bedroom flat / apartment for sale",
         "Old Ikoyi, Ikoyi, Lagos",
         "$1,200,000",
         "4.0",
         "4.0",
         "4.0",
         null,
         "Lagos",
         "Ikoyi"
        ],
        [
         "1305",
         "6 bedroom detached duplex for sale",
         "Banana Island, Ikoyi, Lagos",
         "$5,000,000",
         "6.0",
         "6.0",
         "7.0",
         null,
         "Lagos",
         "Ikoyi"
        ],
        [
         "1360",
         "Mixed-use land for sale",
         "In A Strategic Location, Victoria Island (VI), Lagos",
         "$1,400,000",
         null,
         null,
         null,
         null,
         "Lagos",
         "Victoria Island (Vi)"
        ],
        [
         "1399",
         "Mixed-use land for sale",
         "Victoria Island (VI), Lagos",
         "$1,400,000",
         null,
         null,
         null,
         null,
         "Lagos",
         "Victoria Island (Vi)"
        ],
        [
         "1466",
         "3 bedroom flat / apartment for sale",
         "Old Ikoyi, Ikoyi, Lagos",
         "$1,000,000",
         "3.0",
         "3.0",
         "4.0",
         "2.0",
         "Lagos",
         "Ikoyi"
        ],
        [
         "1470",
         "4 bedroom flat / apartment for sale",
         "Banana Island, Ikoyi, Lagos",
         "$1,400,001",
         "4.0",
         "4.0",
         "5.0",
         "2.0",
         "Lagos",
         "Ikoyi"
        ],
        [
         "1471",
         "4 bedroom terraced duplex for sale",
         "Banana Island, Ikoyi, Lagos",
         "$1,299,999",
         "4.0",
         "4.0",
         "5.0",
         "3.0",
         "Lagos",
         "Ikoyi"
        ],
        [
         "1476",
         "5 bedroom terraced duplex for sale",
         "Banana Island, Ikoyi, Lagos",
         "$1,499,999",
         "5.0",
         "5.0",
         "6.0",
         "2.0",
         "Lagos",
         "Ikoyi"
        ],
        [
         "1492",
         "3 bedroom flat / apartment for sale",
         "Ikoyi, Lagos",
         "$1,000,055",
         "3.0",
         "3.0",
         "4.0",
         "2.0",
         "Lagos",
         "Ikoyi"
        ],
        [
         "1497",
         "3 bedroom flat / apartment for sale",
         "Old Ikoyi, Ikoyi, Lagos",
         "$900,000",
         "3.0",
         "3.0",
         "4.0",
         "2.0",
         "Lagos",
         "Ikoyi"
        ],
        [
         "1622",
         "5 bedroom detached duplex for sale",
         "Banana Island, Ikoyi, Lagos",
         "$5,000,000",
         "5.0",
         "5.0",
         "6.0",
         null,
         "Lagos",
         "Ikoyi"
        ],
        [
         "1634",
         "Plaza / complex / mall for sale",
         "Victoria Island (VI), Lagos",
         "$80,000,000",
         null,
         null,
         null,
         null,
         "Lagos",
         "Victoria Island (Vi)"
        ],
        [
         "1649",
         "6 bedroom detached duplex for sale",
         "Banana Island, Ikoyi, Lagos",
         "$5,000,000",
         "6.0",
         "6.0",
         "7.0",
         null,
         "Lagos",
         "Ikoyi"
        ],
        [
         "1659",
         "Plaza / complex / mall for sale",
         "Adetokunbo Ademola Street, Victoria Island (VI), Lagos",
         "$20,000,000",
         null,
         null,
         null,
         null,
         "Lagos",
         "Victoria Island (Vi)"
        ],
        [
         "1664",
         "3 bedroom flat / apartment for sale",
         "Eko Pearl, Eko Atlantic City, Lagos",
         "$555,000",
         "3.0",
         null,
         null,
         null,
         "Lagos",
         "Eko Atlantic City"
        ],
        [
         "1733",
         "Mixed-use land for sale",
         "Eko Atlantic City, Victoria Island, Eko Atlantic City, Lagos",
         "$1,800",
         null,
         null,
         null,
         null,
         "Lagos",
         "Eko Atlantic City"
        ],
        [
         "1776",
         "4 bedroom terraced duplex for sale",
         "Old Ikoyi, Ikoyi, Lagos",
         "$1,200,000",
         "4.0",
         "4.0",
         "5.0",
         "3.0",
         "Lagos",
         "Ikoyi"
        ],
        [
         "1825",
         "6 bedroom detached duplex for sale",
         "Ikoyi, Lagos",
         "$3,500,000",
         "6.0",
         "7.0",
         "7.0",
         null,
         "Lagos",
         "Ikoyi"
        ],
        [
         "1865",
         "60 bedroom house for sale",
         "Banana Island, Ikoyi, Lagos",
         "$18,000,000",
         "60.0",
         "79.0",
         "79.0",
         null,
         "Lagos",
         "Ikoyi"
        ],
        [
         "1869",
         "3 bedroom flat / apartment for sale",
         "Ikoyi, Lagos",
         "$1,100,000",
         "3.0",
         "3.0",
         "4.0",
         null,
         "Lagos",
         "Ikoyi"
        ],
        [
         "1944",
         "6 bedroom detached duplex for sale",
         "Old Ikoyi, Ikoyi, Lagos",
         "$2,000,000",
         "6.0",
         null,
         null,
         null,
         "Lagos",
         "Ikoyi"
        ],
        [
         "1947",
         "Mixed-use land for sale",
         "Victoria Island (VI), Lagos",
         "$25,000,000",
         null,
         null,
         null,
         null,
         "Lagos",
         "Victoria Island (Vi)"
        ],
        [
         "1983",
         "3 bedroom flat / apartment for sale",
         "Old Ikoyi, Ikoyi, Lagos",
         "$1,100,000",
         "3.0",
         "3.0",
         "4.0",
         "3.0",
         "Lagos",
         "Ikoyi"
        ],
        [
         "2042",
         "5 bedroom detached duplex for sale",
         "Banana Island, Ikoyi, Lagos",
         "$5,300,000",
         "5.0",
         "5.0",
         "6.0",
         null,
         "Lagos",
         "Ikoyi"
        ]
       ],
       "shape": {
        "columns": 9,
        "rows": 2009
       }
      },
      "text/html": [
       "<div>\n",
       "<style scoped>\n",
       "    .dataframe tbody tr th:only-of-type {\n",
       "        vertical-align: middle;\n",
       "    }\n",
       "\n",
       "    .dataframe tbody tr th {\n",
       "        vertical-align: top;\n",
       "    }\n",
       "\n",
       "    .dataframe thead th {\n",
       "        text-align: right;\n",
       "    }\n",
       "</style>\n",
       "<table border=\"1\" class=\"dataframe\">\n",
       "  <thead>\n",
       "    <tr style=\"text-align: right;\">\n",
       "      <th></th>\n",
       "      <th>type_of_house</th>\n",
       "      <th>location</th>\n",
       "      <th>price</th>\n",
       "      <th>bedrooms</th>\n",
       "      <th>bathrooms</th>\n",
       "      <th>toilets</th>\n",
       "      <th>parking_space</th>\n",
       "      <th>state</th>\n",
       "      <th>town</th>\n",
       "    </tr>\n",
       "  </thead>\n",
       "  <tbody>\n",
       "    <tr>\n",
       "      <th>29</th>\n",
       "      <td>4 bedroom flat / apartment for sale</td>\n",
       "      <td>Banana Island, Ikoyi, Lagos</td>\n",
       "      <td>$1,300,000</td>\n",
       "      <td>4.0</td>\n",
       "      <td>NaN</td>\n",
       "      <td>NaN</td>\n",
       "      <td>NaN</td>\n",
       "      <td>Lagos</td>\n",
       "      <td>Ikoyi</td>\n",
       "    </tr>\n",
       "    <tr>\n",
       "      <th>100</th>\n",
       "      <td>Land for sale</td>\n",
       "      <td>Vi, Victoria Island (VI), Lagos</td>\n",
       "      <td>$1,400,000</td>\n",
       "      <td>NaN</td>\n",
       "      <td>NaN</td>\n",
       "      <td>NaN</td>\n",
       "      <td>NaN</td>\n",
       "      <td>Lagos</td>\n",
       "      <td>Victoria Island (Vi)</td>\n",
       "    </tr>\n",
       "    <tr>\n",
       "      <th>106</th>\n",
       "      <td>6 bedroom detached duplex for sale</td>\n",
       "      <td>Banana Island, Ikoyi, Lagos</td>\n",
       "      <td>$18,000,000</td>\n",
       "      <td>6.0</td>\n",
       "      <td>6.0</td>\n",
       "      <td>7.0</td>\n",
       "      <td>20.0</td>\n",
       "      <td>Lagos</td>\n",
       "      <td>Ikoyi</td>\n",
       "    </tr>\n",
       "    <tr>\n",
       "      <th>333</th>\n",
       "      <td>Land for sale</td>\n",
       "      <td>Off Adeyemo Alakija, Victoria Island (VI), Lagos</td>\n",
       "      <td>$1,400,000</td>\n",
       "      <td>NaN</td>\n",
       "      <td>NaN</td>\n",
       "      <td>NaN</td>\n",
       "      <td>NaN</td>\n",
       "      <td>Lagos</td>\n",
       "      <td>Victoria Island (Vi)</td>\n",
       "    </tr>\n",
       "    <tr>\n",
       "      <th>366</th>\n",
       "      <td>3 bedroom flat / apartment for sale</td>\n",
       "      <td>Off Bourdillon Road, Old Ikoyi, Ikoyi, Lagos</td>\n",
       "      <td>$1,100,000</td>\n",
       "      <td>3.0</td>\n",
       "      <td>3.0</td>\n",
       "      <td>4.0</td>\n",
       "      <td>3.0</td>\n",
       "      <td>Lagos</td>\n",
       "      <td>Ikoyi</td>\n",
       "    </tr>\n",
       "    <tr>\n",
       "      <th>...</th>\n",
       "      <td>...</td>\n",
       "      <td>...</td>\n",
       "      <td>...</td>\n",
       "      <td>...</td>\n",
       "      <td>...</td>\n",
       "      <td>...</td>\n",
       "      <td>...</td>\n",
       "      <td>...</td>\n",
       "      <td>...</td>\n",
       "    </tr>\n",
       "    <tr>\n",
       "      <th>82301</th>\n",
       "      <td>3 bedroom flat / apartment for sale</td>\n",
       "      <td>Old Ikoyi, Ikoyi, Lagos</td>\n",
       "      <td>$16,000,000</td>\n",
       "      <td>3.0</td>\n",
       "      <td>NaN</td>\n",
       "      <td>NaN</td>\n",
       "      <td>NaN</td>\n",
       "      <td>Lagos</td>\n",
       "      <td>Ikoyi</td>\n",
       "    </tr>\n",
       "    <tr>\n",
       "      <th>82306</th>\n",
       "      <td>5 bedroom detached duplex for sale</td>\n",
       "      <td>Banana Island, Ikoyi, Lagos</td>\n",
       "      <td>$3,000,000</td>\n",
       "      <td>5.0</td>\n",
       "      <td>5.0</td>\n",
       "      <td>6.0</td>\n",
       "      <td>8.0</td>\n",
       "      <td>Lagos</td>\n",
       "      <td>Ikoyi</td>\n",
       "    </tr>\n",
       "    <tr>\n",
       "      <th>82308</th>\n",
       "      <td>7 bedroom detached duplex for sale</td>\n",
       "      <td>Off Queenâs Drive, Old Ikoyi, Ikoyi, Lagos</td>\n",
       "      <td>$5,000,000</td>\n",
       "      <td>7.0</td>\n",
       "      <td>7.0</td>\n",
       "      <td>8.0</td>\n",
       "      <td>NaN</td>\n",
       "      <td>Lagos</td>\n",
       "      <td>Ikoyi</td>\n",
       "    </tr>\n",
       "    <tr>\n",
       "      <th>82367</th>\n",
       "      <td>5 bedroom detached duplex for sale</td>\n",
       "      <td>Ikoyi, Lagos</td>\n",
       "      <td>$3,000,000</td>\n",
       "      <td>5.0</td>\n",
       "      <td>5.0</td>\n",
       "      <td>6.0</td>\n",
       "      <td>8.0</td>\n",
       "      <td>Lagos</td>\n",
       "      <td>Ikoyi</td>\n",
       "    </tr>\n",
       "    <tr>\n",
       "      <th>82403</th>\n",
       "      <td>6 bedroom detached duplex for sale</td>\n",
       "      <td>Banana Island, Ikoyi, Lagos</td>\n",
       "      <td>$21,000,000</td>\n",
       "      <td>6.0</td>\n",
       "      <td>NaN</td>\n",
       "      <td>NaN</td>\n",
       "      <td>NaN</td>\n",
       "      <td>Lagos</td>\n",
       "      <td>Ikoyi</td>\n",
       "    </tr>\n",
       "  </tbody>\n",
       "</table>\n",
       "<p>2009 rows × 9 columns</p>\n",
       "</div>"
      ],
      "text/plain": [
       "                             type_of_house  \\\n",
       "29     4 bedroom flat / apartment for sale   \n",
       "100                          Land for sale   \n",
       "106     6 bedroom detached duplex for sale   \n",
       "333                          Land for sale   \n",
       "366    3 bedroom flat / apartment for sale   \n",
       "...                                    ...   \n",
       "82301  3 bedroom flat / apartment for sale   \n",
       "82306   5 bedroom detached duplex for sale   \n",
       "82308   7 bedroom detached duplex for sale   \n",
       "82367   5 bedroom detached duplex for sale   \n",
       "82403   6 bedroom detached duplex for sale   \n",
       "\n",
       "                                               location        price  \\\n",
       "29                          Banana Island, Ikoyi, Lagos   $1,300,000   \n",
       "100                     Vi, Victoria Island (VI), Lagos   $1,400,000   \n",
       "106                         Banana Island, Ikoyi, Lagos  $18,000,000   \n",
       "333    Off Adeyemo Alakija, Victoria Island (VI), Lagos   $1,400,000   \n",
       "366        Off Bourdillon Road, Old Ikoyi, Ikoyi, Lagos   $1,100,000   \n",
       "...                                                 ...          ...   \n",
       "82301                           Old Ikoyi, Ikoyi, Lagos  $16,000,000   \n",
       "82306                       Banana Island, Ikoyi, Lagos   $3,000,000   \n",
       "82308      Off Queenâs Drive, Old Ikoyi, Ikoyi, Lagos   $5,000,000   \n",
       "82367                                      Ikoyi, Lagos   $3,000,000   \n",
       "82403                       Banana Island, Ikoyi, Lagos  $21,000,000   \n",
       "\n",
       "       bedrooms  bathrooms  toilets  parking_space  state  \\\n",
       "29          4.0        NaN      NaN            NaN  Lagos   \n",
       "100         NaN        NaN      NaN            NaN  Lagos   \n",
       "106         6.0        6.0      7.0           20.0  Lagos   \n",
       "333         NaN        NaN      NaN            NaN  Lagos   \n",
       "366         3.0        3.0      4.0            3.0  Lagos   \n",
       "...         ...        ...      ...            ...    ...   \n",
       "82301       3.0        NaN      NaN            NaN  Lagos   \n",
       "82306       5.0        5.0      6.0            8.0  Lagos   \n",
       "82308       7.0        7.0      8.0            NaN  Lagos   \n",
       "82367       5.0        5.0      6.0            8.0  Lagos   \n",
       "82403       6.0        NaN      NaN            NaN  Lagos   \n",
       "\n",
       "                       town  \n",
       "29                    Ikoyi  \n",
       "100    Victoria Island (Vi)  \n",
       "106                   Ikoyi  \n",
       "333    Victoria Island (Vi)  \n",
       "366                   Ikoyi  \n",
       "...                     ...  \n",
       "82301                 Ikoyi  \n",
       "82306                 Ikoyi  \n",
       "82308                 Ikoyi  \n",
       "82367                 Ikoyi  \n",
       "82403                 Ikoyi  \n",
       "\n",
       "[2009 rows x 9 columns]"
      ]
     },
     "execution_count": 614,
     "metadata": {},
     "output_type": "execute_result"
    }
   ],
   "source": [
    "data[~data[\"price\"].str.contains(\"₦\")]"
   ]
  },
  {
   "cell_type": "code",
   "execution_count": 615,
   "metadata": {},
   "outputs": [
    {
     "data": {
      "text/plain": [
       "type_of_house    2 bedroom flat / apartment for sale\n",
       "location                 Lekki Phase 1, Lekki, Lagos\n",
       "price                                   ₦280,000,000\n",
       "bedrooms                                         2.0\n",
       "bathrooms                                        2.0\n",
       "toilets                                          3.0\n",
       "parking_space                                    NaN\n",
       "state                                          Lagos\n",
       "town                                           Lekki\n",
       "Name: 48141, dtype: object"
      ]
     },
     "execution_count": 615,
     "metadata": {},
     "output_type": "execute_result"
    }
   ],
   "source": [
    "data.iloc[48141]"
   ]
  },
  {
   "cell_type": "markdown",
   "metadata": {},
   "source": [
    "Converting all dollar denominated pricing to naira"
   ]
  },
  {
   "cell_type": "code",
   "execution_count": 616,
   "metadata": {},
   "outputs": [],
   "source": [
    "import re"
   ]
  },
  {
   "cell_type": "code",
   "execution_count": 617,
   "metadata": {},
   "outputs": [],
   "source": [
    "def convert_price(price):\n",
    "    \"\"\"\n",
    "    converts price from string to float.\n",
    "    And also converts dollar prices to naira.\n",
    "    \"\"\"\n",
    "    if \"₦\" in price:\n",
    "        price = price.replace(\"₦\", \"\").replace(\",\", \"\")\n",
    "        return float(price)\n",
    "    elif \"$\" in price:\n",
    "        price = price.replace(\"$\", \"\").replace(\",\", \"\")\n",
    "        return float(price) * 1500\n",
    "    else:\n",
    "        return None"
   ]
  },
  {
   "cell_type": "code",
   "execution_count": 618,
   "metadata": {},
   "outputs": [],
   "source": [
    "data[\"price\"] = data[\"price\"].apply(convert_price)"
   ]
  },
  {
   "cell_type": "code",
   "execution_count": 619,
   "metadata": {},
   "outputs": [],
   "source": [
    "data = data[~data[\"price\"].isna()]"
   ]
  },
  {
   "cell_type": "markdown",
   "metadata": {},
   "source": [
    "Detecting and removing outliers"
   ]
  },
  {
   "cell_type": "code",
   "execution_count": 620,
   "metadata": {},
   "outputs": [
    {
     "data": {
      "application/vnd.microsoft.datawrangler.viewer.v0+json": {
       "columns": [
        {
         "name": "index",
         "rawType": "object",
         "type": "string"
        },
        {
         "name": "price",
         "rawType": "float64",
         "type": "float"
        },
        {
         "name": "bedrooms",
         "rawType": "float64",
         "type": "float"
        },
        {
         "name": "bathrooms",
         "rawType": "float64",
         "type": "float"
        },
        {
         "name": "toilets",
         "rawType": "float64",
         "type": "float"
        },
        {
         "name": "parking_space",
         "rawType": "float64",
         "type": "float"
        }
       ],
       "conversionMethod": "pd.DataFrame",
       "ref": "aa0a31fa-7aac-4934-8fc9-1bbf5dfe67cd",
       "rows": [
        [
         "count",
         "82416.0",
         "60064.0",
         "53270.0",
         "54901.0",
         "35978.0"
        ],
        [
         "mean",
         "4933390697.707277",
         "4.990743207245605",
         "4.889449971841562",
         "7837.864264767491",
         "929.0819945522263"
        ],
        [
         "std",
         "325984696237.1519",
         "85.6828397118241",
         "25.631511363824238",
         "1835178.5415679382",
         "138071.78240016647"
        ],
        [
         "min",
         "9582.0",
         "1.0",
         "1.0",
         "1.0",
         "1.0"
        ],
        [
         "25%",
         "90000000.0",
         "3.0",
         "3.0",
         "4.0",
         "3.0"
        ],
        [
         "50%",
         "200000000.0",
         "4.0",
         "4.0",
         "5.0",
         "4.0"
        ],
        [
         "75%",
         "450000000.0",
         "5.0",
         "5.0",
         "6.0",
         "5.0"
        ],
        [
         "max",
         "75000000000000.0",
         "20540.0",
         "4000.0",
         "430000000.0",
         "25948403.0"
        ]
       ],
       "shape": {
        "columns": 5,
        "rows": 8
       }
      },
      "text/html": [
       "<div>\n",
       "<style scoped>\n",
       "    .dataframe tbody tr th:only-of-type {\n",
       "        vertical-align: middle;\n",
       "    }\n",
       "\n",
       "    .dataframe tbody tr th {\n",
       "        vertical-align: top;\n",
       "    }\n",
       "\n",
       "    .dataframe thead th {\n",
       "        text-align: right;\n",
       "    }\n",
       "</style>\n",
       "<table border=\"1\" class=\"dataframe\">\n",
       "  <thead>\n",
       "    <tr style=\"text-align: right;\">\n",
       "      <th></th>\n",
       "      <th>price</th>\n",
       "      <th>bedrooms</th>\n",
       "      <th>bathrooms</th>\n",
       "      <th>toilets</th>\n",
       "      <th>parking_space</th>\n",
       "    </tr>\n",
       "  </thead>\n",
       "  <tbody>\n",
       "    <tr>\n",
       "      <th>count</th>\n",
       "      <td>8.241600e+04</td>\n",
       "      <td>60064.000000</td>\n",
       "      <td>53270.000000</td>\n",
       "      <td>5.490100e+04</td>\n",
       "      <td>3.597800e+04</td>\n",
       "    </tr>\n",
       "    <tr>\n",
       "      <th>mean</th>\n",
       "      <td>4.933391e+09</td>\n",
       "      <td>4.990743</td>\n",
       "      <td>4.889450</td>\n",
       "      <td>7.837864e+03</td>\n",
       "      <td>9.290820e+02</td>\n",
       "    </tr>\n",
       "    <tr>\n",
       "      <th>std</th>\n",
       "      <td>3.259847e+11</td>\n",
       "      <td>85.682840</td>\n",
       "      <td>25.631511</td>\n",
       "      <td>1.835179e+06</td>\n",
       "      <td>1.380718e+05</td>\n",
       "    </tr>\n",
       "    <tr>\n",
       "      <th>min</th>\n",
       "      <td>9.582000e+03</td>\n",
       "      <td>1.000000</td>\n",
       "      <td>1.000000</td>\n",
       "      <td>1.000000e+00</td>\n",
       "      <td>1.000000e+00</td>\n",
       "    </tr>\n",
       "    <tr>\n",
       "      <th>25%</th>\n",
       "      <td>9.000000e+07</td>\n",
       "      <td>3.000000</td>\n",
       "      <td>3.000000</td>\n",
       "      <td>4.000000e+00</td>\n",
       "      <td>3.000000e+00</td>\n",
       "    </tr>\n",
       "    <tr>\n",
       "      <th>50%</th>\n",
       "      <td>2.000000e+08</td>\n",
       "      <td>4.000000</td>\n",
       "      <td>4.000000</td>\n",
       "      <td>5.000000e+00</td>\n",
       "      <td>4.000000e+00</td>\n",
       "    </tr>\n",
       "    <tr>\n",
       "      <th>75%</th>\n",
       "      <td>4.500000e+08</td>\n",
       "      <td>5.000000</td>\n",
       "      <td>5.000000</td>\n",
       "      <td>6.000000e+00</td>\n",
       "      <td>5.000000e+00</td>\n",
       "    </tr>\n",
       "    <tr>\n",
       "      <th>max</th>\n",
       "      <td>7.500000e+13</td>\n",
       "      <td>20540.000000</td>\n",
       "      <td>4000.000000</td>\n",
       "      <td>4.300000e+08</td>\n",
       "      <td>2.594840e+07</td>\n",
       "    </tr>\n",
       "  </tbody>\n",
       "</table>\n",
       "</div>"
      ],
      "text/plain": [
       "              price      bedrooms     bathrooms       toilets  parking_space\n",
       "count  8.241600e+04  60064.000000  53270.000000  5.490100e+04   3.597800e+04\n",
       "mean   4.933391e+09      4.990743      4.889450  7.837864e+03   9.290820e+02\n",
       "std    3.259847e+11     85.682840     25.631511  1.835179e+06   1.380718e+05\n",
       "min    9.582000e+03      1.000000      1.000000  1.000000e+00   1.000000e+00\n",
       "25%    9.000000e+07      3.000000      3.000000  4.000000e+00   3.000000e+00\n",
       "50%    2.000000e+08      4.000000      4.000000  5.000000e+00   4.000000e+00\n",
       "75%    4.500000e+08      5.000000      5.000000  6.000000e+00   5.000000e+00\n",
       "max    7.500000e+13  20540.000000   4000.000000  4.300000e+08   2.594840e+07"
      ]
     },
     "execution_count": 620,
     "metadata": {},
     "output_type": "execute_result"
    }
   ],
   "source": [
    "data.describe()"
   ]
  },
  {
   "cell_type": "code",
   "execution_count": 621,
   "metadata": {},
   "outputs": [],
   "source": [
    "data = data[data[\"bedrooms\"] < 7]\n",
    "data = data[data[\"bathrooms\"] < 7]\n",
    "data = data[data[\"toilets\"] < 10]\n",
    "data = data[data[\"parking_space\"] < 20]"
   ]
  },
  {
   "cell_type": "code",
   "execution_count": 622,
   "metadata": {},
   "outputs": [
    {
     "data": {
      "text/plain": [
       "<Axes: >"
      ]
     },
     "execution_count": 622,
     "metadata": {},
     "output_type": "execute_result"
    },
    {
     "data": {
      "image/png": "[encoded data removed]",
      "text/plain": [
       "<Figure size 640x480 with 1 Axes>"
      ]
     },
     "metadata": {},
     "output_type": "display_data"
    }
   ],
   "source": [
    "data[\"price\"].plot(kind=\"box\")"
   ]
  },
  {
   "cell_type": "code",
   "execution_count": 623,
   "metadata": {},
   "outputs": [
    {
     "data": {
      "text/plain": [
       "<Axes: >"
      ]
     },
     "execution_count": 623,
     "metadata": {},
     "output_type": "execute_result"
    },
    {
     "data": {
      "image/png": "[encoded data removed]",
      "text/plain": [
       "<Figure size 640x480 with 1 Axes>"
      ]
     },
     "metadata": {},
     "output_type": "display_data"
    }
   ],
   "source": [
    "data[\"bedrooms\"].plot(kind=\"box\")"
   ]
  },
  {
   "cell_type": "code",
   "execution_count": 624,
   "metadata": {},
   "outputs": [
    {
     "data": {
      "application/vnd.microsoft.datawrangler.viewer.v0+json": {
       "columns": [
        {
         "name": "index",
         "rawType": "object",
         "type": "string"
        },
        {
         "name": "price",
         "rawType": "float64",
         "type": "float"
        },
        {
         "name": "bedrooms",
         "rawType": "float64",
         "type": "float"
        },
        {
         "name": "bathrooms",
         "rawType": "float64",
         "type": "float"
        },
        {
         "name": "toilets",
         "rawType": "float64",
         "type": "float"
        },
        {
         "name": "parking_space",
         "rawType": "float64",
         "type": "float"
        }
       ],
       "conversionMethod": "pd.DataFrame",
       "ref": "2dc9be95-b8e3-404f-9e70-c6dfd69deb77",
       "rows": [
        [
         "count",
         "30467.0",
         "30467.0",
         "30467.0",
         "30467.0",
         "30467.0"
        ],
        [
         "mean",
         "2869068698.0516624",
         "3.890044966685266",
         "4.038927364033216",
         "4.817343355105524",
         "3.78373321954902"
        ],
        [
         "std",
         "93500166390.43288",
         "1.07765891522138",
         "1.1398015813256777",
         "1.1707797657975407",
         "2.070239857394001"
        ],
        [
         "min",
         "100000.0",
         "1.0",
         "1.0",
         "1.0",
         "1.0"
        ],
        [
         "25%",
         "120000000.0",
         "3.0",
         "3.0",
         "4.0",
         "2.0"
        ],
        [
         "50%",
         "220000000.0",
         "4.0",
         "4.0",
         "5.0",
         "3.0"
        ],
        [
         "75%",
         "400000000.0",
         "5.0",
         "5.0",
         "6.0",
         "4.0"
        ],
        [
         "max",
         "7500000000000.0",
         "6.0",
         "6.0",
         "9.0",
         "19.0"
        ]
       ],
       "shape": {
        "columns": 5,
        "rows": 8
       }
      },
      "text/html": [
       "<div>\n",
       "<style scoped>\n",
       "    .dataframe tbody tr th:only-of-type {\n",
       "        vertical-align: middle;\n",
       "    }\n",
       "\n",
       "    .dataframe tbody tr th {\n",
       "        vertical-align: top;\n",
       "    }\n",
       "\n",
       "    .dataframe thead th {\n",
       "        text-align: right;\n",
       "    }\n",
       "</style>\n",
       "<table border=\"1\" class=\"dataframe\">\n",
       "  <thead>\n",
       "    <tr style=\"text-align: right;\">\n",
       "      <th></th>\n",
       "      <th>price</th>\n",
       "      <th>bedrooms</th>\n",
       "      <th>bathrooms</th>\n",
       "      <th>toilets</th>\n",
       "      <th>parking_space</th>\n",
       "    </tr>\n",
       "  </thead>\n",
       "  <tbody>\n",
       "    <tr>\n",
       "      <th>count</th>\n",
       "      <td>3.046700e+04</td>\n",
       "      <td>30467.000000</td>\n",
       "      <td>30467.000000</td>\n",
       "      <td>30467.000000</td>\n",
       "      <td>30467.000000</td>\n",
       "    </tr>\n",
       "    <tr>\n",
       "      <th>mean</th>\n",
       "      <td>2.869069e+09</td>\n",
       "      <td>3.890045</td>\n",
       "      <td>4.038927</td>\n",
       "      <td>4.817343</td>\n",
       "      <td>3.783733</td>\n",
       "    </tr>\n",
       "    <tr>\n",
       "      <th>std</th>\n",
       "      <td>9.350017e+10</td>\n",
       "      <td>1.077659</td>\n",
       "      <td>1.139802</td>\n",
       "      <td>1.170780</td>\n",
       "      <td>2.070240</td>\n",
       "    </tr>\n",
       "    <tr>\n",
       "      <th>min</th>\n",
       "      <td>1.000000e+05</td>\n",
       "      <td>1.000000</td>\n",
       "      <td>1.000000</td>\n",
       "      <td>1.000000</td>\n",
       "      <td>1.000000</td>\n",
       "    </tr>\n",
       "    <tr>\n",
       "      <th>25%</th>\n",
       "      <td>1.200000e+08</td>\n",
       "      <td>3.000000</td>\n",
       "      <td>3.000000</td>\n",
       "      <td>4.000000</td>\n",
       "      <td>2.000000</td>\n",
       "    </tr>\n",
       "    <tr>\n",
       "      <th>50%</th>\n",
       "      <td>2.200000e+08</td>\n",
       "      <td>4.000000</td>\n",
       "      <td>4.000000</td>\n",
       "      <td>5.000000</td>\n",
       "      <td>3.000000</td>\n",
       "    </tr>\n",
       "    <tr>\n",
       "      <th>75%</th>\n",
       "      <td>4.000000e+08</td>\n",
       "      <td>5.000000</td>\n",
       "      <td>5.000000</td>\n",
       "      <td>6.000000</td>\n",
       "      <td>4.000000</td>\n",
       "    </tr>\n",
       "    <tr>\n",
       "      <th>max</th>\n",
       "      <td>7.500000e+12</td>\n",
       "      <td>6.000000</td>\n",
       "      <td>6.000000</td>\n",
       "      <td>9.000000</td>\n",
       "      <td>19.000000</td>\n",
       "    </tr>\n",
       "  </tbody>\n",
       "</table>\n",
       "</div>"
      ],
      "text/plain": [
       "              price      bedrooms     bathrooms       toilets  parking_space\n",
       "count  3.046700e+04  30467.000000  30467.000000  30467.000000   30467.000000\n",
       "mean   2.869069e+09      3.890045      4.038927      4.817343       3.783733\n",
       "std    9.350017e+10      1.077659      1.139802      1.170780       2.070240\n",
       "min    1.000000e+05      1.000000      1.000000      1.000000       1.000000\n",
       "25%    1.200000e+08      3.000000      3.000000      4.000000       2.000000\n",
       "50%    2.200000e+08      4.000000      4.000000      5.000000       3.000000\n",
       "75%    4.000000e+08      5.000000      5.000000      6.000000       4.000000\n",
       "max    7.500000e+12      6.000000      6.000000      9.000000      19.000000"
      ]
     },
     "execution_count": 624,
     "metadata": {},
     "output_type": "execute_result"
    }
   ],
   "source": [
    "data.describe() "
   ]
  },
  {
   "cell_type": "code",
   "execution_count": 625,
   "metadata": {},
   "outputs": [
    {
     "data": {
      "text/plain": [
       "<Axes: >"
      ]
     },
     "execution_count": 625,
     "metadata": {},
     "output_type": "execute_result"
    },
    {
     "data": {
      "image/png": "[encoded data removed]",
      "text/plain": [
       "<Figure size 640x480 with 1 Axes>"
      ]
     },
     "metadata": {},
     "output_type": "display_data"
    }
   ],
   "source": [
    "data[\"price\"].hist()"
   ]
  },
  {
   "cell_type": "code",
   "execution_count": 626,
   "metadata": {},
   "outputs": [],
   "source": [
    "data = data[data[\"price\"] < 400000000]"
   ]
  },
  {
   "cell_type": "code",
   "execution_count": 627,
   "metadata": {},
   "outputs": [
    {
     "data": {
      "text/plain": [
       "<Axes: >"
      ]
     },
     "execution_count": 627,
     "metadata": {},
     "output_type": "execute_result"
    },
    {
     "data": {
      "image/png": "[encoded data removed]",
      "text/plain": [
       "<Figure size 640x480 with 1 Axes>"
      ]
     },
     "metadata": {},
     "output_type": "display_data"
    }
   ],
   "source": [
    "data[\"price\"].plot(kind=\"box\")"
   ]
  },
  {
   "cell_type": "code",
   "execution_count": 628,
   "metadata": {},
   "outputs": [
    {
     "data": {
      "image/png": "[encoded data removed]",
      "text/plain": [
       "<Figure size 1000x500 with 1 Axes>"
      ]
     },
     "metadata": {},
     "output_type": "display_data"
    }
   ],
   "source": [
    "plt.figure(figsize=(10, 5))\n",
    "sns.histplot(data[\"price\"], bins=30, kde=True)\n",
    "plt.title(\"Distribution of House prices\")\n",
    "plt.xlabel(\"Price in Naira\")\n",
    "plt.show()"
   ]
  },
  {
   "cell_type": "code",
   "execution_count": 629,
   "metadata": {},
   "outputs": [],
   "source": [
    "data['price_log'] = np.log1p(data['price'])"
   ]
  },
  {
   "cell_type": "code",
   "execution_count": 630,
   "metadata": {},
   "outputs": [
    {
     "data": {
      "image/png": "[encoded data removed]",
      "text/plain": [
       "<Figure size 1000x500 with 1 Axes>"
      ]
     },
     "metadata": {},
     "output_type": "display_data"
    }
   ],
   "source": [
    "plt.figure(figsize=(10, 5))\n",
    "sns.histplot(data[\"price_log\"], bins=30, kde=True)\n",
    "plt.title(\"Distribution of House prices\")\n",
    "plt.xlabel(\"Price in Naira\")\n",
    "plt.show()"
   ]
  },
  {
   "cell_type": "code",
   "execution_count": 631,
   "metadata": {},
   "outputs": [
    {
     "data": {
      "application/vnd.microsoft.datawrangler.viewer.v0+json": {
       "columns": [
        {
         "name": "index",
         "rawType": "object",
         "type": "string"
        },
        {
         "name": "price",
         "rawType": "float64",
         "type": "float"
        },
        {
         "name": "bedrooms",
         "rawType": "float64",
         "type": "float"
        },
        {
         "name": "bathrooms",
         "rawType": "float64",
         "type": "float"
        },
        {
         "name": "toilets",
         "rawType": "float64",
         "type": "float"
        },
        {
         "name": "parking_space",
         "rawType": "float64",
         "type": "float"
        },
        {
         "name": "price_log",
         "rawType": "float64",
         "type": "float"
        }
       ],
       "conversionMethod": "pd.DataFrame",
       "ref": "fc28073f-33c0-45c9-a291-1a47271b9e78",
       "rows": [
        [
         "count",
         "22757.0",
         "22757.0",
         "22757.0",
         "22757.0",
         "22757.0",
         "22757.0"
        ],
        [
         "mean",
         "179653045.2703344",
         "3.652722239310981",
         "3.802654128400053",
         "4.569407215362306",
         "3.5395702421233026",
         "18.833106150283587"
        ],
        [
         "std",
         "95102974.7154569",
         "1.0483240409507097",
         "1.1187357517795622",
         "1.1396129861055804",
         "1.9708235811063624",
         "0.6586587852117545"
        ],
        [
         "min",
         "100000.0",
         "1.0",
         "1.0",
         "1.0",
         "1.0",
         "11.51293546492023"
        ],
        [
         "25%",
         "100000000.0",
         "3.0",
         "3.0",
         "4.0",
         "2.0",
         "18.420680753952364"
        ],
        [
         "50%",
         "160000000.0",
         "4.0",
         "4.0",
         "5.0",
         "3.0",
         "18.8906843794481"
        ],
        [
         "75%",
         "250000000.0",
         "4.0",
         "5.0",
         "5.0",
         "4.0",
         "19.33697147982652"
        ],
        [
         "max",
         "399999999.0",
         "6.0",
         "6.0",
         "9.0",
         "19.0",
         "19.806975105072254"
        ]
       ],
       "shape": {
        "columns": 6,
        "rows": 8
       }
      },
      "text/html": [
       "<div>\n",
       "<style scoped>\n",
       "    .dataframe tbody tr th:only-of-type {\n",
       "        vertical-align: middle;\n",
       "    }\n",
       "\n",
       "    .dataframe tbody tr th {\n",
       "        vertical-align: top;\n",
       "    }\n",
       "\n",
       "    .dataframe thead th {\n",
       "        text-align: right;\n",
       "    }\n",
       "</style>\n",
       "<table border=\"1\" class=\"dataframe\">\n",
       "  <thead>\n",
       "    <tr style=\"text-align: right;\">\n",
       "      <th></th>\n",
       "      <th>price</th>\n",
       "      <th>bedrooms</th>\n",
       "      <th>bathrooms</th>\n",
       "      <th>toilets</th>\n",
       "      <th>parking_space</th>\n",
       "      <th>price_log</th>\n",
       "    </tr>\n",
       "  </thead>\n",
       "  <tbody>\n",
       "    <tr>\n",
       "      <th>count</th>\n",
       "      <td>2.275700e+04</td>\n",
       "      <td>22757.000000</td>\n",
       "      <td>22757.000000</td>\n",
       "      <td>22757.000000</td>\n",
       "      <td>22757.000000</td>\n",
       "      <td>22757.000000</td>\n",
       "    </tr>\n",
       "    <tr>\n",
       "      <th>mean</th>\n",
       "      <td>1.796530e+08</td>\n",
       "      <td>3.652722</td>\n",
       "      <td>3.802654</td>\n",
       "      <td>4.569407</td>\n",
       "      <td>3.539570</td>\n",
       "      <td>18.833106</td>\n",
       "    </tr>\n",
       "    <tr>\n",
       "      <th>std</th>\n",
       "      <td>9.510297e+07</td>\n",
       "      <td>1.048324</td>\n",
       "      <td>1.118736</td>\n",
       "      <td>1.139613</td>\n",
       "      <td>1.970824</td>\n",
       "      <td>0.658659</td>\n",
       "    </tr>\n",
       "    <tr>\n",
       "      <th>min</th>\n",
       "      <td>1.000000e+05</td>\n",
       "      <td>1.000000</td>\n",
       "      <td>1.000000</td>\n",
       "      <td>1.000000</td>\n",
       "      <td>1.000000</td>\n",
       "      <td>11.512935</td>\n",
       "    </tr>\n",
       "    <tr>\n",
       "      <th>25%</th>\n",
       "      <td>1.000000e+08</td>\n",
       "      <td>3.000000</td>\n",
       "      <td>3.000000</td>\n",
       "      <td>4.000000</td>\n",
       "      <td>2.000000</td>\n",
       "      <td>18.420681</td>\n",
       "    </tr>\n",
       "    <tr>\n",
       "      <th>50%</th>\n",
       "      <td>1.600000e+08</td>\n",
       "      <td>4.000000</td>\n",
       "      <td>4.000000</td>\n",
       "      <td>5.000000</td>\n",
       "      <td>3.000000</td>\n",
       "      <td>18.890684</td>\n",
       "    </tr>\n",
       "    <tr>\n",
       "      <th>75%</th>\n",
       "      <td>2.500000e+08</td>\n",
       "      <td>4.000000</td>\n",
       "      <td>5.000000</td>\n",
       "      <td>5.000000</td>\n",
       "      <td>4.000000</td>\n",
       "      <td>19.336971</td>\n",
       "    </tr>\n",
       "    <tr>\n",
       "      <th>max</th>\n",
       "      <td>4.000000e+08</td>\n",
       "      <td>6.000000</td>\n",
       "      <td>6.000000</td>\n",
       "      <td>9.000000</td>\n",
       "      <td>19.000000</td>\n",
       "      <td>19.806975</td>\n",
       "    </tr>\n",
       "  </tbody>\n",
       "</table>\n",
       "</div>"
      ],
      "text/plain": [
       "              price      bedrooms     bathrooms       toilets  parking_space  \\\n",
       "count  2.275700e+04  22757.000000  22757.000000  22757.000000   22757.000000   \n",
       "mean   1.796530e+08      3.652722      3.802654      4.569407       3.539570   \n",
       "std    9.510297e+07      1.048324      1.118736      1.139613       1.970824   \n",
       "min    1.000000e+05      1.000000      1.000000      1.000000       1.000000   \n",
       "25%    1.000000e+08      3.000000      3.000000      4.000000       2.000000   \n",
       "50%    1.600000e+08      4.000000      4.000000      5.000000       3.000000   \n",
       "75%    2.500000e+08      4.000000      5.000000      5.000000       4.000000   \n",
       "max    4.000000e+08      6.000000      6.000000      9.000000      19.000000   \n",
       "\n",
       "          price_log  \n",
       "count  22757.000000  \n",
       "mean      18.833106  \n",
       "std        0.658659  \n",
       "min       11.512935  \n",
       "25%       18.420681  \n",
       "50%       18.890684  \n",
       "75%       19.336971  \n",
       "max       19.806975  "
      ]
     },
     "execution_count": 631,
     "metadata": {},
     "output_type": "execute_result"
    }
   ],
   "source": [
    "data.describe()\n"
   ]
  },
  {
   "cell_type": "code",
   "execution_count": 632,
   "metadata": {},
   "outputs": [
    {
     "data": {
      "application/vnd.microsoft.datawrangler.viewer.v0+json": {
       "columns": [
        {
         "name": "index",
         "rawType": "int64",
         "type": "integer"
        },
        {
         "name": "type_of_house",
         "rawType": "object",
         "type": "string"
        },
        {
         "name": "location",
         "rawType": "object",
         "type": "string"
        },
        {
         "name": "price",
         "rawType": "float64",
         "type": "float"
        },
        {
         "name": "bedrooms",
         "rawType": "float64",
         "type": "float"
        },
        {
         "name": "bathrooms",
         "rawType": "float64",
         "type": "float"
        },
        {
         "name": "toilets",
         "rawType": "float64",
         "type": "float"
        },
        {
         "name": "parking_space",
         "rawType": "float64",
         "type": "float"
        },
        {
         "name": "state",
         "rawType": "object",
         "type": "string"
        },
        {
         "name": "town",
         "rawType": "object",
         "type": "string"
        },
        {
         "name": "price_log",
         "rawType": "float64",
         "type": "float"
        }
       ],
       "conversionMethod": "pd.DataFrame",
       "ref": "5487e3b2-6fae-40dd-810e-10dcc4e82161",
       "rows": [
        [
         "6",
         "2 bedroom block of flats for sale",
         "Ikota, Lekki, Lagos",
         "120000000.0",
         "2.0",
         "2.0",
         "3.0",
         "2.0",
         "Lagos",
         "Lekki",
         "18.603002309079653"
        ],
        [
         "9",
         "5 bedroom detached duplex for sale",
         "Lekki County, Ikota, Lekki, Lagos",
         "230000000.0",
         "5.0",
         "5.0",
         "6.0",
         "9.0",
         "Lagos",
         "Lekki",
         "19.253589871235295"
        ],
        [
         "10",
         "4 bedroom terraced duplex for sale",
         "Ikota, Lekki, Lagos",
         "140000000.0",
         "4.0",
         "4.0",
         "5.0",
         "2.0",
         "Lagos",
         "Lekki",
         "18.757152987716434"
        ],
        [
         "11",
         "4 bedroom detached duplex for sale",
         "Ikota, Lekki, Lagos",
         "200000000.0",
         "4.0",
         "4.0",
         "5.0",
         "3.0",
         "Lagos",
         "Lekki",
         "19.11382792951231"
        ],
        [
         "41",
         "2 bedroom flat / apartment for sale",
         "Orchid, Lekki, Lagos",
         "65000000.0",
         "2.0",
         "2.0",
         "3.0",
         "2.0",
         "Lagos",
         "Lekki",
         "17.989897843244528"
        ],
        [
         "42",
         "5 bedroom detached duplex for sale",
         "Osapa, Lekki, Lagos",
         "300000000.0",
         "5.0",
         "5.0",
         "6.0",
         "4.0",
         "Lagos",
         "Lekki",
         "19.519293035953808"
        ],
        [
         "43",
         "4 bedroom terraced duplex for sale",
         "Osapa, Lekki, Lagos",
         "280000000.0",
         "4.0",
         "4.0",
         "5.0",
         "4.0",
         "Lagos",
         "Lekki",
         "19.450300164704952"
        ],
        [
         "44",
         "4 bedroom semi-detached duplex for sale",
         "Osapa, Lekki, Lagos",
         "185000000.0",
         "4.0",
         "4.0",
         "5.0",
         "3.0",
         "Lagos",
         "Lekki",
         "19.035866388448003"
        ],
        [
         "45",
         "4 bedroom semi-detached duplex for sale",
         "Osapa, Lekki, Lagos",
         "180000000.0",
         "4.0",
         "4.0",
         "5.0",
         "3.0",
         "Lagos",
         "Lekki",
         "19.00846741441004"
        ],
        [
         "46",
         "4 bedroom semi-detached duplex for sale",
         "Osapa, Lekki, Lagos",
         "160000000.0",
         "4.0",
         "4.0",
         "5.0",
         "3.0",
         "Lagos",
         "Lekki",
         "18.8906843794481"
        ],
        [
         "48",
         "5 bedroom detached duplex for sale",
         "Agungi, Lekki, Lagos",
         "300000000.0",
         "5.0",
         "5.0",
         "6.0",
         "4.0",
         "Lagos",
         "Lekki",
         "19.519293035953808"
        ],
        [
         "53",
         "4 bedroom semi-detached duplex for sale",
         "Agungi, Lekki, Lagos",
         "185000000.0",
         "4.0",
         "4.0",
         "5.0",
         "2.0",
         "Lagos",
         "Lekki",
         "19.035866388448003"
        ],
        [
         "54",
         "4 bedroom house for sale",
         "Agungi, Lekki, Lagos",
         "165000000.0",
         "4.0",
         "4.0",
         "5.0",
         "2.0",
         "Lagos",
         "Lekki",
         "18.92145603792546"
        ],
        [
         "56",
         "4 bedroom semi-detached duplex for sale",
         "Orchid, Lekki Phase 2, Lekki, Lagos",
         "150000000.0",
         "4.0",
         "4.0",
         "5.0",
         "2.0",
         "Lagos",
         "Lekki",
         "18.826145858727198"
        ],
        [
         "62",
         "4 bedroom terraced duplex for sale",
         "Alpha Beach Road, Chevron, , Lekki, Lagos",
         "130000000.0",
         "4.0",
         "4.0",
         "5.0",
         "2.0",
         "Lagos",
         "Lekki",
         "18.683045016112164"
        ],
        [
         "63",
         "4 bedroom terraced duplex for sale",
         "Ikate, Lekki, Lagos",
         "300000000.0",
         "4.0",
         "4.0",
         "5.0",
         "3.0",
         "Lagos",
         "Lekki",
         "19.519293035953808"
        ],
        [
         "65",
         "4 bedroom terraced duplex for sale",
         "Ikate, Lekki, Lagos",
         "240000000.0",
         "4.0",
         "4.0",
         "5.0",
         "3.0",
         "Lagos",
         "Lekki",
         "19.29614948547293"
        ],
        [
         "81",
         "3 bedroom terraced duplex for sale",
         "Lekki, Lagos",
         "160000000.0",
         "3.0",
         "3.0",
         "4.0",
         "4.0",
         "Lagos",
         "Lekki",
         "18.8906843794481"
        ],
        [
         "83",
         "4 bedroom semi-detached duplex for sale",
         "Ikota, Lekki, Lagos",
         "155000000.0",
         "4.0",
         "4.0",
         "5.0",
         "3.0",
         "Lagos",
         "Lekki",
         "18.858935681335133"
        ],
        [
         "90",
         "2 bedroom block of flats for sale",
         "Orchid Road Lekki Lagos, Lekki Phase 2, Lekki, Lagos",
         "65000000.0",
         "2.0",
         "3.0",
         "3.0",
         "3.0",
         "Lagos",
         "Lekki",
         "17.989897843244528"
        ],
        [
         "103",
         "2 bedroom flat / apartment for sale",
         "Idado Estate, Lekki, Lagos",
         "85000000.0",
         "2.0",
         "2.0",
         "3.0",
         "2.0",
         "Lagos",
         "Lekki",
         "18.258161826219297"
        ],
        [
         "122",
         "4 bedroom detached duplex for sale",
         "Agungi, Lekki, Lagos",
         "250000000.0",
         "4.0",
         "4.0",
         "5.0",
         "4.0",
         "Lagos",
         "Lekki",
         "19.33697147982652"
        ],
        [
         "123",
         "1 bedroom detached duplex for sale",
         "Agungi, Lekki, Lagos",
         "60000000.0",
         "1.0",
         "1.0",
         "2.0",
         "2.0",
         "Lagos",
         "Lekki",
         "17.909855136853043"
        ],
        [
         "128",
         "2 bedroom flat / apartment for sale",
         "Ikate Elegushi, Lekki, Lagos",
         "130000000.0",
         "2.0",
         "2.0",
         "3.0",
         "2.0",
         "Lagos",
         "Lekki",
         "18.683045016112164"
        ],
        [
         "132",
         "4 bedroom terraced duplex for sale",
         "Ikota, Lekki, Lagos",
         "115000000.0",
         "4.0",
         "4.0",
         "4.0",
         "2.0",
         "Lagos",
         "Lekki",
         "18.560442695023177"
        ],
        [
         "133",
         "4 bedroom terraced duplex for sale",
         "Ikota, Lekki, Lagos",
         "115000000.0",
         "4.0",
         "4.0",
         "4.0",
         "2.0",
         "Lagos",
         "Lekki",
         "18.560442695023177"
        ],
        [
         "148",
         "4 bedroom terraced duplex for sale",
         "Dpk Estate, Orchid Road, Chevron Toll Gate, Lekki, Lagos",
         "182000000.0",
         "4.0",
         "4.0",
         "5.0",
         "3.0",
         "Lagos",
         "Lekki",
         "19.019517250535575"
        ],
        [
         "149",
         "4 bedroom terraced duplex for sale",
         "Oceanbay Estate, Orchid Road, Chevron Toll Gate, Lekki, Lagos",
         "130000000.0",
         "4.0",
         "4.0",
         "5.0",
         "3.0",
         "Lagos",
         "Lekki",
         "18.683045016112164"
        ],
        [
         "150",
         "4 bedroom terraced duplex for sale",
         "Beachfront Estate, Orchid Road, Chevron Toll Gate, Lekki, Lagos",
         "110000000.0",
         "4.0",
         "4.0",
         "5.0",
         "3.0",
         "Lagos",
         "Lekki",
         "18.5159909328476"
        ],
        [
         "161",
         "2 bedroom house for sale",
         "Off Admiralty Way, Lekki Phase 1, Lekki, Lagos",
         "350000000.0",
         "2.0",
         "2.0",
         "3.0",
         "2.0",
         "Lagos",
         "Lekki",
         "19.673443715304877"
        ],
        [
         "163",
         "3 bedroom flat / apartment for sale",
         "Off Bisola Durosinmi Etti, Lekki Phase 1, Lekki, Lagos",
         "350000000.0",
         "3.0",
         "3.0",
         "4.0",
         "5.0",
         "Lagos",
         "Lekki",
         "19.673443715304877"
        ],
        [
         "169",
         "2 bedroom flat / apartment for sale",
         "Adesegun Okunuga, Ikate Elegushi, Lekki, Lagos",
         "125000000.0",
         "2.0",
         "2.0",
         "3.0",
         "2.0",
         "Lagos",
         "Lekki",
         "18.643824303266577"
        ],
        [
         "174",
         "4 bedroom terraced duplex for sale",
         "Beside Vgc, Lekki, Lagos",
         "120000000.0",
         "4.0",
         "4.0",
         "4.0",
         "2.0",
         "Lagos",
         "Lekki",
         "18.603002309079653"
        ],
        [
         "175",
         "2 bedroom flat / apartment for sale",
         "Off Ologolo Road, Lekki, Lagos",
         "75000000.0",
         "2.0",
         "2.0",
         "3.0",
         "4.0",
         "Lagos",
         "Lekki",
         "18.132998684833918"
        ],
        [
         "176",
         "4 bedroom terraced duplex for sale",
         "Victoria Crest 2, Orchid Road, Lekki, Lagos",
         "120000000.0",
         "4.0",
         "4.0",
         "5.0",
         "3.0",
         "Lagos",
         "Lekki",
         "18.603002309079653"
        ],
        [
         "181",
         "4 bedroom detached duplex for sale",
         "Salem, Ikate Elegushi, Lekki, Lagos",
         "270000000.0",
         "4.0",
         "4.0",
         "5.0",
         "4.0",
         "Lagos",
         "Lekki",
         "19.413932520666354"
        ],
        [
         "182",
         "4 bedroom detached duplex for sale",
         "VGC, Lekki, Lagos",
         "230000000.0",
         "4.0",
         "4.0",
         "5.0",
         "3.0",
         "Lagos",
         "Lekki",
         "19.253589871235295"
        ],
        [
         "195",
         "4 bedroom terraced duplex for sale",
         "Ikate, Lekki, Lagos",
         "185000000.0",
         "4.0",
         "4.0",
         "5.0",
         "3.0",
         "Lagos",
         "Lekki",
         "19.035866388448003"
        ],
        [
         "200",
         "5 bedroom detached duplex for sale",
         "Off Ajiran Raod, Close To Egerton Estate, Agungi, Lekki, Lagos",
         "210000000.0",
         "5.0",
         "5.0",
         "6.0",
         "4.0",
         "Lagos",
         "Lekki",
         "19.162618093443648"
        ],
        [
         "202",
         "5 bedroom detached duplex for sale",
         "Off The New Coastal Road, Alpha Beach, Igbo Efon, Lekki, Lagos",
         "200000000.0",
         "5.0",
         "5.0",
         "6.0",
         "4.0",
         "Lagos",
         "Lekki",
         "19.11382792951231"
        ],
        [
         "204",
         "2 bedroom flat / apartment for sale",
         "Off Orji Murray Street, Ilasan, Lekki, Lagos",
         "85000000.0",
         "2.0",
         "2.0",
         "3.0",
         "2.0",
         "Lagos",
         "Lekki",
         "18.258161826219297"
        ],
        [
         "205",
         "2 bedroom flat / apartment for sale",
         "Nike Art Gallery, Ikate, Lekki, Lagos",
         "115000000.0",
         "2.0",
         "2.0",
         "3.0",
         "2.0",
         "Lagos",
         "Lekki",
         "18.560442695023177"
        ],
        [
         "208",
         "2 bedroom house for sale",
         "Oceanbay Estate, Orchid Road, Chevron Toll Gate., Lekki, Lagos",
         "75000000.0",
         "2.0",
         "2.0",
         "3.0",
         "2.0",
         "Lagos",
         "Lekki",
         "18.132998684833918"
        ],
        [
         "212",
         "4 bedroom semi-detached duplex for sale",
         "Ocean Bay Estate, Orchid Road, Chevron Toll Gate, Lekki, Lagos",
         "115000000.0",
         "4.0",
         "4.0",
         "5.0",
         "3.0",
         "Lagos",
         "Lekki",
         "18.560442695023177"
        ],
        [
         "213",
         "4 bedroom semi-detached duplex for sale",
         "Tulip Haven Estate, By Hampton Lake, Chevron Alternative Route, Lekki, Lagos",
         "210000000.0",
         "4.0",
         "4.0",
         "5.0",
         "4.0",
         "Lagos",
         "Lekki",
         "19.162618093443648"
        ],
        [
         "215",
         "5 bedroom detached duplex for sale",
         "Chevyview Estate, Chevron Drive, , Lekki, Lagos",
         "330000000.0",
         "5.0",
         "5.0",
         "6.0",
         "4.0",
         "Lagos",
         "Lekki",
         "19.6146032154551"
        ],
        [
         "216",
         "4 bedroom semi-detached duplex for sale",
         "Carlton Gate Estate, Chevron Drive, Lekki, Lagos",
         "300000000.0",
         "4.0",
         "4.0",
         "5.0",
         "3.0",
         "Lagos",
         "Lekki",
         "19.519293035953808"
        ],
        [
         "221",
         "2 bedroom house for sale",
         "Off Admiralty Way, Lekki Phase 1, Lekki, Lagos",
         "350000000.0",
         "2.0",
         "2.0",
         "3.0",
         "2.0",
         "Lagos",
         "Lekki",
         "19.673443715304877"
        ],
        [
         "223",
         "3 bedroom flat / apartment for sale",
         "Off Bisola Durosinmi Etti, Lekki Phase 1, Lekki, Lagos",
         "350000000.0",
         "3.0",
         "3.0",
         "4.0",
         "5.0",
         "Lagos",
         "Lekki",
         "19.673443715304877"
        ],
        [
         "228",
         "2 bedroom flat / apartment for sale",
         "Adesegun Okunuga, Ikate Elegushi, Lekki, Lagos",
         "125000000.0",
         "2.0",
         "2.0",
         "3.0",
         "2.0",
         "Lagos",
         "Lekki",
         "18.643824303266577"
        ]
       ],
       "shape": {
        "columns": 10,
        "rows": 10842
       }
      },
      "text/html": [
       "<div>\n",
       "<style scoped>\n",
       "    .dataframe tbody tr th:only-of-type {\n",
       "        vertical-align: middle;\n",
       "    }\n",
       "\n",
       "    .dataframe tbody tr th {\n",
       "        vertical-align: top;\n",
       "    }\n",
       "\n",
       "    .dataframe thead th {\n",
       "        text-align: right;\n",
       "    }\n",
       "</style>\n",
       "<table border=\"1\" class=\"dataframe\">\n",
       "  <thead>\n",
       "    <tr style=\"text-align: right;\">\n",
       "      <th></th>\n",
       "      <th>type_of_house</th>\n",
       "      <th>location</th>\n",
       "      <th>price</th>\n",
       "      <th>bedrooms</th>\n",
       "      <th>bathrooms</th>\n",
       "      <th>toilets</th>\n",
       "      <th>parking_space</th>\n",
       "      <th>state</th>\n",
       "      <th>town</th>\n",
       "      <th>price_log</th>\n",
       "    </tr>\n",
       "  </thead>\n",
       "  <tbody>\n",
       "    <tr>\n",
       "      <th>6</th>\n",
       "      <td>2 bedroom block of flats for sale</td>\n",
       "      <td>Ikota, Lekki, Lagos</td>\n",
       "      <td>120000000.0</td>\n",
       "      <td>2.0</td>\n",
       "      <td>2.0</td>\n",
       "      <td>3.0</td>\n",
       "      <td>2.0</td>\n",
       "      <td>Lagos</td>\n",
       "      <td>Lekki</td>\n",
       "      <td>18.603002</td>\n",
       "    </tr>\n",
       "    <tr>\n",
       "      <th>9</th>\n",
       "      <td>5 bedroom detached duplex for sale</td>\n",
       "      <td>Lekki County, Ikota, Lekki, Lagos</td>\n",
       "      <td>230000000.0</td>\n",
       "      <td>5.0</td>\n",
       "      <td>5.0</td>\n",
       "      <td>6.0</td>\n",
       "      <td>9.0</td>\n",
       "      <td>Lagos</td>\n",
       "      <td>Lekki</td>\n",
       "      <td>19.253590</td>\n",
       "    </tr>\n",
       "    <tr>\n",
       "      <th>10</th>\n",
       "      <td>4 bedroom terraced duplex for sale</td>\n",
       "      <td>Ikota, Lekki, Lagos</td>\n",
       "      <td>140000000.0</td>\n",
       "      <td>4.0</td>\n",
       "      <td>4.0</td>\n",
       "      <td>5.0</td>\n",
       "      <td>2.0</td>\n",
       "      <td>Lagos</td>\n",
       "      <td>Lekki</td>\n",
       "      <td>18.757153</td>\n",
       "    </tr>\n",
       "    <tr>\n",
       "      <th>11</th>\n",
       "      <td>4 bedroom detached duplex for sale</td>\n",
       "      <td>Ikota, Lekki, Lagos</td>\n",
       "      <td>200000000.0</td>\n",
       "      <td>4.0</td>\n",
       "      <td>4.0</td>\n",
       "      <td>5.0</td>\n",
       "      <td>3.0</td>\n",
       "      <td>Lagos</td>\n",
       "      <td>Lekki</td>\n",
       "      <td>19.113828</td>\n",
       "    </tr>\n",
       "    <tr>\n",
       "      <th>41</th>\n",
       "      <td>2 bedroom flat / apartment for sale</td>\n",
       "      <td>Orchid, Lekki, Lagos</td>\n",
       "      <td>65000000.0</td>\n",
       "      <td>2.0</td>\n",
       "      <td>2.0</td>\n",
       "      <td>3.0</td>\n",
       "      <td>2.0</td>\n",
       "      <td>Lagos</td>\n",
       "      <td>Lekki</td>\n",
       "      <td>17.989898</td>\n",
       "    </tr>\n",
       "    <tr>\n",
       "      <th>...</th>\n",
       "      <td>...</td>\n",
       "      <td>...</td>\n",
       "      <td>...</td>\n",
       "      <td>...</td>\n",
       "      <td>...</td>\n",
       "      <td>...</td>\n",
       "      <td>...</td>\n",
       "      <td>...</td>\n",
       "      <td>...</td>\n",
       "      <td>...</td>\n",
       "    </tr>\n",
       "    <tr>\n",
       "      <th>82406</th>\n",
       "      <td>5 bedroom detached duplex for sale</td>\n",
       "      <td>Second Toll Gate, Lekki, Lagos</td>\n",
       "      <td>150000000.0</td>\n",
       "      <td>5.0</td>\n",
       "      <td>5.0</td>\n",
       "      <td>5.0</td>\n",
       "      <td>2.0</td>\n",
       "      <td>Lagos</td>\n",
       "      <td>Lekki</td>\n",
       "      <td>18.826146</td>\n",
       "    </tr>\n",
       "    <tr>\n",
       "      <th>82408</th>\n",
       "      <td>5 bedroom detached duplex for sale</td>\n",
       "      <td>Chevron, Lekki, Lagos</td>\n",
       "      <td>190000000.0</td>\n",
       "      <td>5.0</td>\n",
       "      <td>5.0</td>\n",
       "      <td>5.0</td>\n",
       "      <td>2.0</td>\n",
       "      <td>Lagos</td>\n",
       "      <td>Lekki</td>\n",
       "      <td>19.062535</td>\n",
       "    </tr>\n",
       "    <tr>\n",
       "      <th>82411</th>\n",
       "      <td>4 bedroom semi-detached duplex for sale</td>\n",
       "      <td>Close To Osapa London, Lekki, Lagos</td>\n",
       "      <td>100000000.0</td>\n",
       "      <td>4.0</td>\n",
       "      <td>4.0</td>\n",
       "      <td>5.0</td>\n",
       "      <td>2.0</td>\n",
       "      <td>Lagos</td>\n",
       "      <td>Lekki</td>\n",
       "      <td>18.420681</td>\n",
       "    </tr>\n",
       "    <tr>\n",
       "      <th>82413</th>\n",
       "      <td>4 bedroom terraced duplex for sale</td>\n",
       "      <td>Close To Osapa London Estate, Lekki, Lagos</td>\n",
       "      <td>103000000.0</td>\n",
       "      <td>4.0</td>\n",
       "      <td>5.0</td>\n",
       "      <td>5.0</td>\n",
       "      <td>2.0</td>\n",
       "      <td>Lagos</td>\n",
       "      <td>Lekki</td>\n",
       "      <td>18.450240</td>\n",
       "    </tr>\n",
       "    <tr>\n",
       "      <th>82420</th>\n",
       "      <td>2 bedroom flat / apartment for sale</td>\n",
       "      <td>Ikate, Lekki, Lagos</td>\n",
       "      <td>80000000.0</td>\n",
       "      <td>2.0</td>\n",
       "      <td>2.0</td>\n",
       "      <td>2.0</td>\n",
       "      <td>2.0</td>\n",
       "      <td>Lagos</td>\n",
       "      <td>Lekki</td>\n",
       "      <td>18.197537</td>\n",
       "    </tr>\n",
       "  </tbody>\n",
       "</table>\n",
       "<p>10842 rows × 10 columns</p>\n",
       "</div>"
      ],
      "text/plain": [
       "                                 type_of_house  \\\n",
       "6            2 bedroom block of flats for sale   \n",
       "9           5 bedroom detached duplex for sale   \n",
       "10          4 bedroom terraced duplex for sale   \n",
       "11          4 bedroom detached duplex for sale   \n",
       "41         2 bedroom flat / apartment for sale   \n",
       "...                                        ...   \n",
       "82406       5 bedroom detached duplex for sale   \n",
       "82408       5 bedroom detached duplex for sale   \n",
       "82411  4 bedroom semi-detached duplex for sale   \n",
       "82413       4 bedroom terraced duplex for sale   \n",
       "82420      2 bedroom flat / apartment for sale   \n",
       "\n",
       "                                         location        price  bedrooms  \\\n",
       "6                             Ikota, Lekki, Lagos  120000000.0       2.0   \n",
       "9               Lekki County, Ikota, Lekki, Lagos  230000000.0       5.0   \n",
       "10                            Ikota, Lekki, Lagos  140000000.0       4.0   \n",
       "11                            Ikota, Lekki, Lagos  200000000.0       4.0   \n",
       "41                           Orchid, Lekki, Lagos   65000000.0       2.0   \n",
       "...                                           ...          ...       ...   \n",
       "82406              Second Toll Gate, Lekki, Lagos  150000000.0       5.0   \n",
       "82408                       Chevron, Lekki, Lagos  190000000.0       5.0   \n",
       "82411         Close To Osapa London, Lekki, Lagos  100000000.0       4.0   \n",
       "82413  Close To Osapa London Estate, Lekki, Lagos  103000000.0       4.0   \n",
       "82420                         Ikate, Lekki, Lagos   80000000.0       2.0   \n",
       "\n",
       "       bathrooms  toilets  parking_space  state   town  price_log  \n",
       "6            2.0      3.0            2.0  Lagos  Lekki  18.603002  \n",
       "9            5.0      6.0            9.0  Lagos  Lekki  19.253590  \n",
       "10           4.0      5.0            2.0  Lagos  Lekki  18.757153  \n",
       "11           4.0      5.0            3.0  Lagos  Lekki  19.113828  \n",
       "41           2.0      3.0            2.0  Lagos  Lekki  17.989898  \n",
       "...          ...      ...            ...    ...    ...        ...  \n",
       "82406        5.0      5.0            2.0  Lagos  Lekki  18.826146  \n",
       "82408        5.0      5.0            2.0  Lagos  Lekki  19.062535  \n",
       "82411        4.0      5.0            2.0  Lagos  Lekki  18.420681  \n",
       "82413        5.0      5.0            2.0  Lagos  Lekki  18.450240  \n",
       "82420        2.0      2.0            2.0  Lagos  Lekki  18.197537  \n",
       "\n",
       "[10842 rows x 10 columns]"
      ]
     },
     "execution_count": 632,
     "metadata": {},
     "output_type": "execute_result"
    }
   ],
   "source": [
    "data = data[data[\"town\"] == \"Lekki\"]\n",
    "data"
   ]
  },
  {
   "cell_type": "code",
   "execution_count": 633,
   "metadata": {},
   "outputs": [],
   "source": [
    "# data[\"type_of_house\"] = data[\"type_of_house\"].str.replace(\" for sale\", \"\")\n",
    "# Using .loc for the assignment\n",
    "# .loc[row_indexer, col_indexer] = value\n",
    "# ':' means select all rows\n",
    "data.loc[:, \"type_of_house\"] = data[\"type_of_house\"].str.replace(\" for sale\", \"\")\n",
    "data = data[~data[\"type_of_house\"].str.contains(\"hotel\")]"
   ]
  },
  {
   "cell_type": "code",
   "execution_count": 634,
   "metadata": {},
   "outputs": [
    {
     "data": {
      "text/plain": [
       "array(['2 bedroom block of flats', '5 bedroom detached duplex',\n",
       "       '4 bedroom terraced duplex', '4 bedroom detached duplex',\n",
       "       '2 bedroom flat / apartment', '4 bedroom semi-detached duplex',\n",
       "       '4 bedroom house', '3 bedroom terraced duplex',\n",
       "       '1 bedroom detached duplex', '2 bedroom house',\n",
       "       '3 bedroom flat / apartment', '5 bedroom semi-detached duplex',\n",
       "       '5 bedroom house', '4 bedroom detached bungalow',\n",
       "       '3 bedroom block of flats', '3 bedroom house',\n",
       "       '1 bedroom block of flats', '3 bedroom detached duplex',\n",
       "       '2 bedroom terraced duplex', '1 bedroom flat / apartment',\n",
       "       '4 bedroom flat / apartment', '3 bedroom detached bungalow',\n",
       "       '6 bedroom detached duplex', '3 bedroom semi-detached duplex',\n",
       "       '1 bedroom mini flat (room and parlour)',\n",
       "       '5 bedroom terraced duplex', '1 bedroom semi-detached duplex',\n",
       "       '2 bedroom commercial property', '2 bedroom detached duplex',\n",
       "       '6 bedroom terraced duplex', '6 bedroom block of flats',\n",
       "       '2 bedroom terraced bungalow', '2 bedroom detached bungalow',\n",
       "       '4 bedroom semi-detached bungalow', '1 bedroom house',\n",
       "       '5 bedroom flat / apartment', '2 bedroom semi-detached duplex',\n",
       "       '4 bedroom block of flats', '1 bedroom terraced duplex',\n",
       "       '6 bedroom semi-detached duplex', '1 bedroom terraced bungalow',\n",
       "       '4 bedroom commercial property',\n",
       "       '5 bedroom semi-detached bungalow', '4 bedroom terraced bungalow',\n",
       "       '3 bedroom semi-detached bungalow',\n",
       "       '2 bedroom semi-detached bungalow', '3 bedroom terraced bungalow',\n",
       "       '6 bedroom house'], dtype=object)"
      ]
     },
     "execution_count": 634,
     "metadata": {},
     "output_type": "execute_result"
    }
   ],
   "source": [
    "data[\"type_of_house\"].unique()"
   ]
  },
  {
   "cell_type": "code",
   "execution_count": 635,
   "metadata": {},
   "outputs": [],
   "source": [
    "def categorize_house_type(text):\n",
    "\n",
    "    text = text.lower()\n",
    "\n",
    "    if 'block of flats' in text:\n",
    "        return 'Block of Flats'\n",
    "    elif 'flat / apartment' in text:\n",
    "        return 'Apartment Flat'\n",
    "    elif 'detached duplex' in text:\n",
    "        return 'Detached Duplex'\n",
    "    elif 'semi-detached duplex' in text:\n",
    "        return 'Semi-Detached Duplex'\n",
    "    elif 'terraced duplex' in text:\n",
    "        return 'Terraced Duplex'\n",
    "    elif 'detached bungalow' in text:\n",
    "        return 'Detached Bungalow'\n",
    "    elif 'semi-detached bungalow' in text:\n",
    "        return 'Semi-Detached Bungalow'\n",
    "    elif 'terraced bungalow' in text:\n",
    "        return 'Terraced Bungalow'\n",
    "    elif any(word in text for word in ['restaurant', 'office', 'hostel', 'commercial']):\n",
    "        return 'Commercial Property'\n",
    "    else: \n",
    "        return \"standard house\""
   ]
  },
  {
   "cell_type": "code",
   "execution_count": 636,
   "metadata": {},
   "outputs": [],
   "source": [
    "data['house_category'] = data['type_of_house'].apply(categorize_house_type)"
   ]
  },
  {
   "cell_type": "code",
   "execution_count": 637,
   "metadata": {},
   "outputs": [],
   "source": [
    "data = data[data[\"house_category\"] != \"Commercial Property\"]"
   ]
  },
  {
   "cell_type": "code",
   "execution_count": 638,
   "metadata": {},
   "outputs": [
    {
     "data": {
      "text/plain": [
       "array(['Block of Flats', 'Detached Duplex', 'Terraced Duplex',\n",
       "       'Apartment Flat', 'standard house', 'Detached Bungalow',\n",
       "       'Terraced Bungalow'], dtype=object)"
      ]
     },
     "execution_count": 638,
     "metadata": {},
     "output_type": "execute_result"
    }
   ],
   "source": [
    "data[\"house_category\"].unique()"
   ]
  },
  {
   "cell_type": "markdown",
   "metadata": {},
   "source": [
    "## Exploratory Data Analysis"
   ]
  },
  {
   "cell_type": "code",
   "execution_count": 639,
   "metadata": {},
   "outputs": [
    {
     "data": {
      "text/plain": [
       "<Axes: xlabel='state'>"
      ]
     },
     "execution_count": 639,
     "metadata": {},
     "output_type": "execute_result"
    },
    {
     "data": {
      "image/png": "[encoded data removed]",
      "text/plain": [
       "<Figure size 640x480 with 1 Axes>"
      ]
     },
     "metadata": {},
     "output_type": "display_data"
    }
   ],
   "source": [
    "data[\"state\"].value_counts().plot(kind=\"bar\")"
   ]
  },
  {
   "cell_type": "code",
   "execution_count": 640,
   "metadata": {},
   "outputs": [
    {
     "data": {
      "image/png": "[encoded data removed]",
      "text/plain": [
       "<Figure size 800x1600 with 4 Axes>"
      ]
     },
     "metadata": {},
     "output_type": "display_data"
    }
   ],
   "source": [
    "housing_variables = [\"bedrooms\", \"bathrooms\", \"toilets\", \"parking_space\"]\n",
    "\n",
    "fig, axes = plt.subplots(len(housing_variables), 1, figsize=(8, 4 * len(housing_variables)))\n",
    "\n",
    "for i, var in enumerate(housing_variables):\n",
    "    data[var].value_counts().plot(kind=\"bar\", ax=axes[i])\n",
    "    axes[i].set_title(f\"Distribution of {var}\")\n",
    "    axes[i].set_ylabel(\"Count\")\n",
    "    axes[i].set_xlabel(var)\n",
    "\n",
    "plt.tight_layout()\n",
    "plt.show()"
   ]
  },
  {
   "cell_type": "code",
   "execution_count": 641,
   "metadata": {},
   "outputs": [
    {
     "data": {
      "image/png": "[encoded data removed]",
      "text/plain": [
       "<Figure size 1200x600 with 1 Axes>"
      ]
     },
     "metadata": {},
     "output_type": "display_data"
    }
   ],
   "source": [
    "plt.figure(figsize=(12, 6))\n",
    "sns.boxplot(x=\"house_category\", y=\"price\", data=data)\n",
    "plt.xticks(rotation=45)  # Rotate labels for better readability\n",
    "plt.title(\"House Price Distribution by Type\")\n",
    "plt.xlabel(\"House Type\")\n",
    "plt.ylabel(\"Price (Naira)\")\n",
    "plt.show()"
   ]
  },
  {
   "cell_type": "code",
   "execution_count": 642,
   "metadata": {},
   "outputs": [
    {
     "data": {
      "image/png": "[encoded data removed]",
      "text/plain": [
       "<Figure size 1200x600 with 1 Axes>"
      ]
     },
     "metadata": {},
     "output_type": "display_data"
    }
   ],
   "source": [
    "plt.figure(figsize=(12, 6))\n",
    "sns.boxplot(data=data[[\"price\", \"bedrooms\", \"bathrooms\", \"toilets\", \"parking_space\"]])\n",
    "plt.title(\"Checking for Outliers\")\n",
    "plt.show()"
   ]
  },
  {
   "cell_type": "code",
   "execution_count": 643,
   "metadata": {},
   "outputs": [
    {
     "data": {
      "image/png": "[encoded data removed]",
      "text/plain": [
       "<Figure size 1200x600 with 1 Axes>"
      ]
     },
     "metadata": {},
     "output_type": "display_data"
    }
   ],
   "source": [
    "plt.figure(figsize=(12, 6))\n",
    "sns.countplot(data=data[\"house_category\"], order=data[\"house_category\"].value_counts().index)\n",
    "plt.title(\"Most Common House Types\")\n",
    "plt.show()"
   ]
  },
  {
   "cell_type": "code",
   "execution_count": 644,
   "metadata": {},
   "outputs": [
    {
     "data": {
      "image/png": "[encoded data removed]",
      "text/plain": [
       "<Figure size 1200x600 with 1 Axes>"
      ]
     },
     "metadata": {},
     "output_type": "display_data"
    }
   ],
   "source": [
    "plt.figure(figsize=(12, 6))\n",
    "sns.boxplot(x=\"bedrooms\", y=\"price\", data=data)\n",
    "plt.title(\"Price vs No. of bedrooms\")\n",
    "plt.show()"
   ]
  },
  {
   "cell_type": "code",
   "execution_count": 645,
   "metadata": {},
   "outputs": [
    {
     "data": {
      "image/png": "[encoded data removed]",
      "text/plain": [
       "<Figure size 1200x600 with 1 Axes>"
      ]
     },
     "metadata": {},
     "output_type": "display_data"
    }
   ],
   "source": [
    "plt.figure(figsize=(12, 6))\n",
    "sns.countplot(y=data[\"town\"], order=data[\"town\"].value_counts().index[:10])  # Top 10 towns\n",
    "plt.title(\"Top 10 Most Active Towns\")\n",
    "plt.show()"
   ]
  },
  {
   "cell_type": "code",
   "execution_count": 646,
   "metadata": {},
   "outputs": [],
   "source": [
    "numerical_data = data[[\"bedrooms\", \"bathrooms\", \"toilets\", \"parking_space\", \"price\"]]"
   ]
  },
  {
   "cell_type": "code",
   "execution_count": 647,
   "metadata": {},
   "outputs": [
    {
     "data": {
      "image/png": "[encoded data removed]",
      "text/plain": [
       "<Figure size 800x600 with 2 Axes>"
      ]
     },
     "metadata": {},
     "output_type": "display_data"
    }
   ],
   "source": [
    "plt.figure(figsize=(8, 6))\n",
    "sns.heatmap(numerical_data.corr(), annot=True, cmap=\"coolwarm\")\n",
    "plt.title(\"Feature Correlation Heatmap\")\n",
    "plt.show()"
   ]
  },
  {
   "cell_type": "code",
   "execution_count": 648,
   "metadata": {},
   "outputs": [
    {
     "data": {
      "image/png": "[encoded data removed]",
      "text/plain": [
       "<Figure size 1200x600 with 1 Axes>"
      ]
     },
     "metadata": {},
     "output_type": "display_data"
    }
   ],
   "source": [
    "plt.figure(figsize=(12, 6))\n",
    "sns.boxplot(x=\"bedrooms\", y=\"price\", data=data)\n",
    "plt.title(\"House Price vs. Number of Bedrooms\")\n",
    "plt.show()"
   ]
  },
  {
   "cell_type": "code",
   "execution_count": 649,
   "metadata": {},
   "outputs": [
    {
     "data": {
      "image/png": "[encoded data removed]",
      "text/plain": [
       "<Figure size 1200x600 with 1 Axes>"
      ]
     },
     "metadata": {},
     "output_type": "display_data"
    }
   ],
   "source": [
    "plt.figure(figsize=(12, 6))\n",
    "sns.boxplot(x=\"house_category\", y=\"price\", data=data)\n",
    "plt.title(\"House Price vs. House type\")\n",
    "plt.xticks(rotation=45)\n",
    "plt.show()"
   ]
  },
  {
   "cell_type": "code",
   "execution_count": 650,
   "metadata": {},
   "outputs": [],
   "source": [
    "# Finding the price per bedroom\n",
    "data[\"price_per_bedroom\"] = data[\"price\"] / data[\"bedrooms\"]"
   ]
  },
  {
   "cell_type": "code",
   "execution_count": 651,
   "metadata": {},
   "outputs": [
    {
     "data": {
      "text/plain": [
       "17.7979922147101"
      ]
     },
     "execution_count": 651,
     "metadata": {},
     "output_type": "execute_result"
    }
   ],
   "source": [
    "data[\"total_faclities\"] = data[\"bedrooms\"] + data[\"bathrooms\"] + data[\"toilets\"] + data[\"parking_space\"]\n",
    "data[\"total_faclities\"][data[\"house_category\"] == \"Detached Duplex\"].mean()"
   ]
  },
  {
   "cell_type": "code",
   "execution_count": 652,
   "metadata": {},
   "outputs": [],
   "source": [
    "data.drop(columns=[\"location\", \"type_of_house\"], inplace=True)"
   ]
  },
  {
   "cell_type": "code",
   "execution_count": 653,
   "metadata": {},
   "outputs": [
    {
     "data": {
      "application/vnd.microsoft.datawrangler.viewer.v0+json": {
       "columns": [
        {
         "name": "index",
         "rawType": "int64",
         "type": "integer"
        },
        {
         "name": "price",
         "rawType": "float64",
         "type": "float"
        },
        {
         "name": "bedrooms",
         "rawType": "float64",
         "type": "float"
        },
        {
         "name": "bathrooms",
         "rawType": "float64",
         "type": "float"
        },
        {
         "name": "toilets",
         "rawType": "float64",
         "type": "float"
        },
        {
         "name": "parking_space",
         "rawType": "float64",
         "type": "float"
        },
        {
         "name": "state",
         "rawType": "object",
         "type": "string"
        },
        {
         "name": "town",
         "rawType": "object",
         "type": "string"
        },
        {
         "name": "price_log",
         "rawType": "float64",
         "type": "float"
        },
        {
         "name": "house_category",
         "rawType": "object",
         "type": "string"
        },
        {
         "name": "price_per_bedroom",
         "rawType": "float64",
         "type": "float"
        },
        {
         "name": "total_faclities",
         "rawType": "float64",
         "type": "float"
        }
       ],
       "conversionMethod": "pd.DataFrame",
       "ref": "b5ff995d-412d-42ed-9528-e240702556bb",
       "rows": [
        [
         "6",
         "120000000.0",
         "2.0",
         "2.0",
         "3.0",
         "2.0",
         "Lagos",
         "Lekki",
         "18.603002309079653",
         "Block of Flats",
         "60000000.0",
         "9.0"
        ],
        [
         "9",
         "230000000.0",
         "5.0",
         "5.0",
         "6.0",
         "9.0",
         "Lagos",
         "Lekki",
         "19.253589871235295",
         "Detached Duplex",
         "46000000.0",
         "25.0"
        ],
        [
         "10",
         "140000000.0",
         "4.0",
         "4.0",
         "5.0",
         "2.0",
         "Lagos",
         "Lekki",
         "18.757152987716434",
         "Terraced Duplex",
         "35000000.0",
         "15.0"
        ],
        [
         "11",
         "200000000.0",
         "4.0",
         "4.0",
         "5.0",
         "3.0",
         "Lagos",
         "Lekki",
         "19.11382792951231",
         "Detached Duplex",
         "50000000.0",
         "16.0"
        ],
        [
         "41",
         "65000000.0",
         "2.0",
         "2.0",
         "3.0",
         "2.0",
         "Lagos",
         "Lekki",
         "17.989897843244528",
         "Apartment Flat",
         "32500000.0",
         "9.0"
        ],
        [
         "42",
         "300000000.0",
         "5.0",
         "5.0",
         "6.0",
         "4.0",
         "Lagos",
         "Lekki",
         "19.519293035953808",
         "Detached Duplex",
         "60000000.0",
         "20.0"
        ],
        [
         "43",
         "280000000.0",
         "4.0",
         "4.0",
         "5.0",
         "4.0",
         "Lagos",
         "Lekki",
         "19.450300164704952",
         "Terraced Duplex",
         "70000000.0",
         "17.0"
        ],
        [
         "44",
         "185000000.0",
         "4.0",
         "4.0",
         "5.0",
         "3.0",
         "Lagos",
         "Lekki",
         "19.035866388448003",
         "Detached Duplex",
         "46250000.0",
         "16.0"
        ],
        [
         "45",
         "180000000.0",
         "4.0",
         "4.0",
         "5.0",
         "3.0",
         "Lagos",
         "Lekki",
         "19.00846741441004",
         "Detached Duplex",
         "45000000.0",
         "16.0"
        ],
        [
         "46",
         "160000000.0",
         "4.0",
         "4.0",
         "5.0",
         "3.0",
         "Lagos",
         "Lekki",
         "18.8906843794481",
         "Detached Duplex",
         "40000000.0",
         "16.0"
        ],
        [
         "48",
         "300000000.0",
         "5.0",
         "5.0",
         "6.0",
         "4.0",
         "Lagos",
         "Lekki",
         "19.519293035953808",
         "Detached Duplex",
         "60000000.0",
         "20.0"
        ],
        [
         "53",
         "185000000.0",
         "4.0",
         "4.0",
         "5.0",
         "2.0",
         "Lagos",
         "Lekki",
         "19.035866388448003",
         "Detached Duplex",
         "46250000.0",
         "15.0"
        ],
        [
         "54",
         "165000000.0",
         "4.0",
         "4.0",
         "5.0",
         "2.0",
         "Lagos",
         "Lekki",
         "18.92145603792546",
         "standard house",
         "41250000.0",
         "15.0"
        ],
        [
         "56",
         "150000000.0",
         "4.0",
         "4.0",
         "5.0",
         "2.0",
         "Lagos",
         "Lekki",
         "18.826145858727198",
         "Detached Duplex",
         "37500000.0",
         "15.0"
        ],
        [
         "62",
         "130000000.0",
         "4.0",
         "4.0",
         "5.0",
         "2.0",
         "Lagos",
         "Lekki",
         "18.683045016112164",
         "Terraced Duplex",
         "32500000.0",
         "15.0"
        ],
        [
         "63",
         "300000000.0",
         "4.0",
         "4.0",
         "5.0",
         "3.0",
         "Lagos",
         "Lekki",
         "19.519293035953808",
         "Terraced Duplex",
         "75000000.0",
         "16.0"
        ],
        [
         "65",
         "240000000.0",
         "4.0",
         "4.0",
         "5.0",
         "3.0",
         "Lagos",
         "Lekki",
         "19.29614948547293",
         "Terraced Duplex",
         "60000000.0",
         "16.0"
        ],
        [
         "81",
         "160000000.0",
         "3.0",
         "3.0",
         "4.0",
         "4.0",
         "Lagos",
         "Lekki",
         "18.8906843794481",
         "Terraced Duplex",
         "53333333.333333336",
         "14.0"
        ],
        [
         "83",
         "155000000.0",
         "4.0",
         "4.0",
         "5.0",
         "3.0",
         "Lagos",
         "Lekki",
         "18.858935681335133",
         "Detached Duplex",
         "38750000.0",
         "16.0"
        ],
        [
         "90",
         "65000000.0",
         "2.0",
         "3.0",
         "3.0",
         "3.0",
         "Lagos",
         "Lekki",
         "17.989897843244528",
         "Block of Flats",
         "32500000.0",
         "11.0"
        ],
        [
         "103",
         "85000000.0",
         "2.0",
         "2.0",
         "3.0",
         "2.0",
         "Lagos",
         "Lekki",
         "18.258161826219297",
         "Apartment Flat",
         "42500000.0",
         "9.0"
        ],
        [
         "122",
         "250000000.0",
         "4.0",
         "4.0",
         "5.0",
         "4.0",
         "Lagos",
         "Lekki",
         "19.33697147982652",
         "Detached Duplex",
         "62500000.0",
         "17.0"
        ],
        [
         "123",
         "60000000.0",
         "1.0",
         "1.0",
         "2.0",
         "2.0",
         "Lagos",
         "Lekki",
         "17.909855136853043",
         "Detached Duplex",
         "60000000.0",
         "6.0"
        ],
        [
         "128",
         "130000000.0",
         "2.0",
         "2.0",
         "3.0",
         "2.0",
         "Lagos",
         "Lekki",
         "18.683045016112164",
         "Apartment Flat",
         "65000000.0",
         "9.0"
        ],
        [
         "132",
         "115000000.0",
         "4.0",
         "4.0",
         "4.0",
         "2.0",
         "Lagos",
         "Lekki",
         "18.560442695023177",
         "Terraced Duplex",
         "28750000.0",
         "14.0"
        ],
        [
         "133",
         "115000000.0",
         "4.0",
         "4.0",
         "4.0",
         "2.0",
         "Lagos",
         "Lekki",
         "18.560442695023177",
         "Terraced Duplex",
         "28750000.0",
         "14.0"
        ],
        [
         "148",
         "182000000.0",
         "4.0",
         "4.0",
         "5.0",
         "3.0",
         "Lagos",
         "Lekki",
         "19.019517250535575",
         "Terraced Duplex",
         "45500000.0",
         "16.0"
        ],
        [
         "149",
         "130000000.0",
         "4.0",
         "4.0",
         "5.0",
         "3.0",
         "Lagos",
         "Lekki",
         "18.683045016112164",
         "Terraced Duplex",
         "32500000.0",
         "16.0"
        ],
        [
         "150",
         "110000000.0",
         "4.0",
         "4.0",
         "5.0",
         "3.0",
         "Lagos",
         "Lekki",
         "18.5159909328476",
         "Terraced Duplex",
         "27500000.0",
         "16.0"
        ],
        [
         "161",
         "350000000.0",
         "2.0",
         "2.0",
         "3.0",
         "2.0",
         "Lagos",
         "Lekki",
         "19.673443715304877",
         "standard house",
         "175000000.0",
         "9.0"
        ],
        [
         "163",
         "350000000.0",
         "3.0",
         "3.0",
         "4.0",
         "5.0",
         "Lagos",
         "Lekki",
         "19.673443715304877",
         "Apartment Flat",
         "116666666.66666667",
         "15.0"
        ],
        [
         "169",
         "125000000.0",
         "2.0",
         "2.0",
         "3.0",
         "2.0",
         "Lagos",
         "Lekki",
         "18.643824303266577",
         "Apartment Flat",
         "62500000.0",
         "9.0"
        ],
        [
         "174",
         "120000000.0",
         "4.0",
         "4.0",
         "4.0",
         "2.0",
         "Lagos",
         "Lekki",
         "18.603002309079653",
         "Terraced Duplex",
         "30000000.0",
         "14.0"
        ],
        [
         "175",
         "75000000.0",
         "2.0",
         "2.0",
         "3.0",
         "4.0",
         "Lagos",
         "Lekki",
         "18.132998684833918",
         "Apartment Flat",
         "37500000.0",
         "11.0"
        ],
        [
         "176",
         "120000000.0",
         "4.0",
         "4.0",
         "5.0",
         "3.0",
         "Lagos",
         "Lekki",
         "18.603002309079653",
         "Terraced Duplex",
         "30000000.0",
         "16.0"
        ],
        [
         "181",
         "270000000.0",
         "4.0",
         "4.0",
         "5.0",
         "4.0",
         "Lagos",
         "Lekki",
         "19.413932520666354",
         "Detached Duplex",
         "67500000.0",
         "17.0"
        ],
        [
         "182",
         "230000000.0",
         "4.0",
         "4.0",
         "5.0",
         "3.0",
         "Lagos",
         "Lekki",
         "19.253589871235295",
         "Detached Duplex",
         "57500000.0",
         "16.0"
        ],
        [
         "195",
         "185000000.0",
         "4.0",
         "4.0",
         "5.0",
         "3.0",
         "Lagos",
         "Lekki",
         "19.035866388448003",
         "Terraced Duplex",
         "46250000.0",
         "16.0"
        ],
        [
         "200",
         "210000000.0",
         "5.0",
         "5.0",
         "6.0",
         "4.0",
         "Lagos",
         "Lekki",
         "19.162618093443648",
         "Detached Duplex",
         "42000000.0",
         "20.0"
        ],
        [
         "202",
         "200000000.0",
         "5.0",
         "5.0",
         "6.0",
         "4.0",
         "Lagos",
         "Lekki",
         "19.11382792951231",
         "Detached Duplex",
         "40000000.0",
         "20.0"
        ],
        [
         "204",
         "85000000.0",
         "2.0",
         "2.0",
         "3.0",
         "2.0",
         "Lagos",
         "Lekki",
         "18.258161826219297",
         "Apartment Flat",
         "42500000.0",
         "9.0"
        ],
        [
         "205",
         "115000000.0",
         "2.0",
         "2.0",
         "3.0",
         "2.0",
         "Lagos",
         "Lekki",
         "18.560442695023177",
         "Apartment Flat",
         "57500000.0",
         "9.0"
        ],
        [
         "208",
         "75000000.0",
         "2.0",
         "2.0",
         "3.0",
         "2.0",
         "Lagos",
         "Lekki",
         "18.132998684833918",
         "standard house",
         "37500000.0",
         "9.0"
        ],
        [
         "212",
         "115000000.0",
         "4.0",
         "4.0",
         "5.0",
         "3.0",
         "Lagos",
         "Lekki",
         "18.560442695023177",
         "Detached Duplex",
         "28750000.0",
         "16.0"
        ],
        [
         "213",
         "210000000.0",
         "4.0",
         "4.0",
         "5.0",
         "4.0",
         "Lagos",
         "Lekki",
         "19.162618093443648",
         "Detached Duplex",
         "52500000.0",
         "17.0"
        ],
        [
         "215",
         "330000000.0",
         "5.0",
         "5.0",
         "6.0",
         "4.0",
         "Lagos",
         "Lekki",
         "19.6146032154551",
         "Detached Duplex",
         "66000000.0",
         "20.0"
        ],
        [
         "216",
         "300000000.0",
         "4.0",
         "4.0",
         "5.0",
         "3.0",
         "Lagos",
         "Lekki",
         "19.519293035953808",
         "Detached Duplex",
         "75000000.0",
         "16.0"
        ],
        [
         "221",
         "350000000.0",
         "2.0",
         "2.0",
         "3.0",
         "2.0",
         "Lagos",
         "Lekki",
         "19.673443715304877",
         "standard house",
         "175000000.0",
         "9.0"
        ],
        [
         "223",
         "350000000.0",
         "3.0",
         "3.0",
         "4.0",
         "5.0",
         "Lagos",
         "Lekki",
         "19.673443715304877",
         "Apartment Flat",
         "116666666.66666667",
         "15.0"
        ],
        [
         "228",
         "125000000.0",
         "2.0",
         "2.0",
         "3.0",
         "2.0",
         "Lagos",
         "Lekki",
         "18.643824303266577",
         "Apartment Flat",
         "62500000.0",
         "9.0"
        ]
       ],
       "shape": {
        "columns": 11,
        "rows": 10840
       }
      },
      "text/html": [
       "<div>\n",
       "<style scoped>\n",
       "    .dataframe tbody tr th:only-of-type {\n",
       "        vertical-align: middle;\n",
       "    }\n",
       "\n",
       "    .dataframe tbody tr th {\n",
       "        vertical-align: top;\n",
       "    }\n",
       "\n",
       "    .dataframe thead th {\n",
       "        text-align: right;\n",
       "    }\n",
       "</style>\n",
       "<table border=\"1\" class=\"dataframe\">\n",
       "  <thead>\n",
       "    <tr style=\"text-align: right;\">\n",
       "      <th></th>\n",
       "      <th>price</th>\n",
       "      <th>bedrooms</th>\n",
       "      <th>bathrooms</th>\n",
       "      <th>toilets</th>\n",
       "      <th>parking_space</th>\n",
       "      <th>state</th>\n",
       "      <th>town</th>\n",
       "      <th>price_log</th>\n",
       "      <th>house_category</th>\n",
       "      <th>price_per_bedroom</th>\n",
       "      <th>total_faclities</th>\n",
       "    </tr>\n",
       "  </thead>\n",
       "  <tbody>\n",
       "    <tr>\n",
       "      <th>6</th>\n",
       "      <td>120000000.0</td>\n",
       "      <td>2.0</td>\n",
       "      <td>2.0</td>\n",
       "      <td>3.0</td>\n",
       "      <td>2.0</td>\n",
       "      <td>Lagos</td>\n",
       "      <td>Lekki</td>\n",
       "      <td>18.603002</td>\n",
       "      <td>Block of Flats</td>\n",
       "      <td>60000000.0</td>\n",
       "      <td>9.0</td>\n",
       "    </tr>\n",
       "    <tr>\n",
       "      <th>9</th>\n",
       "      <td>230000000.0</td>\n",
       "      <td>5.0</td>\n",
       "      <td>5.0</td>\n",
       "      <td>6.0</td>\n",
       "      <td>9.0</td>\n",
       "      <td>Lagos</td>\n",
       "      <td>Lekki</td>\n",
       "      <td>19.253590</td>\n",
       "      <td>Detached Duplex</td>\n",
       "      <td>46000000.0</td>\n",
       "      <td>25.0</td>\n",
       "    </tr>\n",
       "    <tr>\n",
       "      <th>10</th>\n",
       "      <td>140000000.0</td>\n",
       "      <td>4.0</td>\n",
       "      <td>4.0</td>\n",
       "      <td>5.0</td>\n",
       "      <td>2.0</td>\n",
       "      <td>Lagos</td>\n",
       "      <td>Lekki</td>\n",
       "      <td>18.757153</td>\n",
       "      <td>Terraced Duplex</td>\n",
       "      <td>35000000.0</td>\n",
       "      <td>15.0</td>\n",
       "    </tr>\n",
       "    <tr>\n",
       "      <th>11</th>\n",
       "      <td>200000000.0</td>\n",
       "      <td>4.0</td>\n",
       "      <td>4.0</td>\n",
       "      <td>5.0</td>\n",
       "      <td>3.0</td>\n",
       "      <td>Lagos</td>\n",
       "      <td>Lekki</td>\n",
       "      <td>19.113828</td>\n",
       "      <td>Detached Duplex</td>\n",
       "      <td>50000000.0</td>\n",
       "      <td>16.0</td>\n",
       "    </tr>\n",
       "    <tr>\n",
       "      <th>41</th>\n",
       "      <td>65000000.0</td>\n",
       "      <td>2.0</td>\n",
       "      <td>2.0</td>\n",
       "      <td>3.0</td>\n",
       "      <td>2.0</td>\n",
       "      <td>Lagos</td>\n",
       "      <td>Lekki</td>\n",
       "      <td>17.989898</td>\n",
       "      <td>Apartment Flat</td>\n",
       "      <td>32500000.0</td>\n",
       "      <td>9.0</td>\n",
       "    </tr>\n",
       "    <tr>\n",
       "      <th>...</th>\n",
       "      <td>...</td>\n",
       "      <td>...</td>\n",
       "      <td>...</td>\n",
       "      <td>...</td>\n",
       "      <td>...</td>\n",
       "      <td>...</td>\n",
       "      <td>...</td>\n",
       "      <td>...</td>\n",
       "      <td>...</td>\n",
       "      <td>...</td>\n",
       "      <td>...</td>\n",
       "    </tr>\n",
       "    <tr>\n",
       "      <th>82406</th>\n",
       "      <td>150000000.0</td>\n",
       "      <td>5.0</td>\n",
       "      <td>5.0</td>\n",
       "      <td>5.0</td>\n",
       "      <td>2.0</td>\n",
       "      <td>Lagos</td>\n",
       "      <td>Lekki</td>\n",
       "      <td>18.826146</td>\n",
       "      <td>Detached Duplex</td>\n",
       "      <td>30000000.0</td>\n",
       "      <td>17.0</td>\n",
       "    </tr>\n",
       "    <tr>\n",
       "      <th>82408</th>\n",
       "      <td>190000000.0</td>\n",
       "      <td>5.0</td>\n",
       "      <td>5.0</td>\n",
       "      <td>5.0</td>\n",
       "      <td>2.0</td>\n",
       "      <td>Lagos</td>\n",
       "      <td>Lekki</td>\n",
       "      <td>19.062535</td>\n",
       "      <td>Detached Duplex</td>\n",
       "      <td>38000000.0</td>\n",
       "      <td>17.0</td>\n",
       "    </tr>\n",
       "    <tr>\n",
       "      <th>82411</th>\n",
       "      <td>100000000.0</td>\n",
       "      <td>4.0</td>\n",
       "      <td>4.0</td>\n",
       "      <td>5.0</td>\n",
       "      <td>2.0</td>\n",
       "      <td>Lagos</td>\n",
       "      <td>Lekki</td>\n",
       "      <td>18.420681</td>\n",
       "      <td>Detached Duplex</td>\n",
       "      <td>25000000.0</td>\n",
       "      <td>15.0</td>\n",
       "    </tr>\n",
       "    <tr>\n",
       "      <th>82413</th>\n",
       "      <td>103000000.0</td>\n",
       "      <td>4.0</td>\n",
       "      <td>5.0</td>\n",
       "      <td>5.0</td>\n",
       "      <td>2.0</td>\n",
       "      <td>Lagos</td>\n",
       "      <td>Lekki</td>\n",
       "      <td>18.450240</td>\n",
       "      <td>Terraced Duplex</td>\n",
       "      <td>25750000.0</td>\n",
       "      <td>16.0</td>\n",
       "    </tr>\n",
       "    <tr>\n",
       "      <th>82420</th>\n",
       "      <td>80000000.0</td>\n",
       "      <td>2.0</td>\n",
       "      <td>2.0</td>\n",
       "      <td>2.0</td>\n",
       "      <td>2.0</td>\n",
       "      <td>Lagos</td>\n",
       "      <td>Lekki</td>\n",
       "      <td>18.197537</td>\n",
       "      <td>Apartment Flat</td>\n",
       "      <td>40000000.0</td>\n",
       "      <td>8.0</td>\n",
       "    </tr>\n",
       "  </tbody>\n",
       "</table>\n",
       "<p>10840 rows × 11 columns</p>\n",
       "</div>"
      ],
      "text/plain": [
       "             price  bedrooms  bathrooms  toilets  parking_space  state   town  \\\n",
       "6      120000000.0       2.0        2.0      3.0            2.0  Lagos  Lekki   \n",
       "9      230000000.0       5.0        5.0      6.0            9.0  Lagos  Lekki   \n",
       "10     140000000.0       4.0        4.0      5.0            2.0  Lagos  Lekki   \n",
       "11     200000000.0       4.0        4.0      5.0            3.0  Lagos  Lekki   \n",
       "41      65000000.0       2.0        2.0      3.0            2.0  Lagos  Lekki   \n",
       "...            ...       ...        ...      ...            ...    ...    ...   \n",
       "82406  150000000.0       5.0        5.0      5.0            2.0  Lagos  Lekki   \n",
       "82408  190000000.0       5.0        5.0      5.0            2.0  Lagos  Lekki   \n",
       "82411  100000000.0       4.0        4.0      5.0            2.0  Lagos  Lekki   \n",
       "82413  103000000.0       4.0        5.0      5.0            2.0  Lagos  Lekki   \n",
       "82420   80000000.0       2.0        2.0      2.0            2.0  Lagos  Lekki   \n",
       "\n",
       "       price_log   house_category  price_per_bedroom  total_faclities  \n",
       "6      18.603002   Block of Flats         60000000.0              9.0  \n",
       "9      19.253590  Detached Duplex         46000000.0             25.0  \n",
       "10     18.757153  Terraced Duplex         35000000.0             15.0  \n",
       "11     19.113828  Detached Duplex         50000000.0             16.0  \n",
       "41     17.989898   Apartment Flat         32500000.0              9.0  \n",
       "...          ...              ...                ...              ...  \n",
       "82406  18.826146  Detached Duplex         30000000.0             17.0  \n",
       "82408  19.062535  Detached Duplex         38000000.0             17.0  \n",
       "82411  18.420681  Detached Duplex         25000000.0             15.0  \n",
       "82413  18.450240  Terraced Duplex         25750000.0             16.0  \n",
       "82420  18.197537   Apartment Flat         40000000.0              8.0  \n",
       "\n",
       "[10840 rows x 11 columns]"
      ]
     },
     "execution_count": 653,
     "metadata": {},
     "output_type": "execute_result"
    }
   ],
   "source": [
    "data"
   ]
  },
  {
   "cell_type": "markdown",
   "metadata": {},
   "source": [
    "## Model Training"
   ]
  },
  {
   "cell_type": "code",
   "execution_count": 654,
   "metadata": {},
   "outputs": [
    {
     "data": {
      "application/vnd.microsoft.datawrangler.viewer.v0+json": {
       "columns": [
        {
         "name": "index",
         "rawType": "object",
         "type": "string"
        },
        {
         "name": "price",
         "rawType": "float64",
         "type": "float"
        },
        {
         "name": "bedrooms",
         "rawType": "float64",
         "type": "float"
        },
        {
         "name": "bathrooms",
         "rawType": "float64",
         "type": "float"
        },
        {
         "name": "toilets",
         "rawType": "float64",
         "type": "float"
        },
        {
         "name": "parking_space",
         "rawType": "float64",
         "type": "float"
        },
        {
         "name": "state",
         "rawType": "object",
         "type": "unknown"
        },
        {
         "name": "town",
         "rawType": "object",
         "type": "unknown"
        },
        {
         "name": "price_log",
         "rawType": "float64",
         "type": "float"
        },
        {
         "name": "house_category",
         "rawType": "object",
         "type": "unknown"
        },
        {
         "name": "price_per_bedroom",
         "rawType": "float64",
         "type": "float"
        },
        {
         "name": "total_faclities",
         "rawType": "float64",
         "type": "float"
        }
       ],
       "conversionMethod": "pd.DataFrame",
       "ref": "7e29ab26-005f-468d-9df9-9c9947b51b82",
       "rows": [
        [
         "count",
         "10840.0",
         "10840.0",
         "10840.0",
         "10840.0",
         "10840.0",
         "10840",
         "10840",
         "10840.0",
         "10840",
         "10840.0",
         "10840.0"
        ],
        [
         "unique",
         null,
         null,
         null,
         null,
         null,
         "1",
         "1",
         null,
         "7",
         null,
         null
        ],
        [
         "top",
         null,
         null,
         null,
         null,
         null,
         "Lagos",
         "Lekki",
         null,
         "Detached Duplex",
         null,
         null
        ],
        [
         "freq",
         null,
         null,
         null,
         null,
         null,
         "10840",
         "10840",
         null,
         "4881",
         null,
         null
        ],
        [
         "mean",
         "188511860.11457565",
         "3.6037822878228782",
         "3.7083948339483395",
         "4.545387453874539",
         "3.040590405904059",
         null,
         null,
         "18.916124658396885",
         null,
         "54336183.29635762",
         "14.898154981549816"
        ],
        [
         "std",
         "92104138.79500458",
         "1.0887901809539788",
         "1.131750633024404",
         "1.1485988838359247",
         "1.3333612491797024",
         null,
         null,
         "0.5873873260966479",
         null,
         "25621197.78453086",
         "4.118679061978053"
        ],
        [
         "min",
         "100000.0",
         "1.0",
         "1.0",
         "1.0",
         "1.0",
         null,
         null,
         "11.51293546492023",
         null,
         "25000.0",
         "4.0"
        ],
        [
         "25%",
         "120000000.0",
         "3.0",
         "3.0",
         "4.0",
         "2.0",
         null,
         null,
         "18.603002309079653",
         null,
         "35000000.0",
         "12.0"
        ],
        [
         "50%",
         "170000000.0",
         "4.0",
         "4.0",
         "5.0",
         "3.0",
         null,
         null,
         "18.951309000896888",
         null,
         "50000000.0",
         "16.0"
        ],
        [
         "75%",
         "250000000.0",
         "4.0",
         "4.0",
         "5.0",
         "4.0",
         null,
         null,
         "19.33697147982652",
         null,
         "70000000.0",
         "17.0"
        ],
        [
         "max",
         "398000000.0",
         "6.0",
         "6.0",
         "8.0",
         "18.0",
         null,
         null,
         "19.801962565761276",
         null,
         "280000000.0",
         "31.0"
        ]
       ],
       "shape": {
        "columns": 11,
        "rows": 11
       }
      },
      "text/html": [
       "<div>\n",
       "<style scoped>\n",
       "    .dataframe tbody tr th:only-of-type {\n",
       "        vertical-align: middle;\n",
       "    }\n",
       "\n",
       "    .dataframe tbody tr th {\n",
       "        vertical-align: top;\n",
       "    }\n",
       "\n",
       "    .dataframe thead th {\n",
       "        text-align: right;\n",
       "    }\n",
       "</style>\n",
       "<table border=\"1\" class=\"dataframe\">\n",
       "  <thead>\n",
       "    <tr style=\"text-align: right;\">\n",
       "      <th></th>\n",
       "      <th>price</th>\n",
       "      <th>bedrooms</th>\n",
       "      <th>bathrooms</th>\n",
       "      <th>toilets</th>\n",
       "      <th>parking_space</th>\n",
       "      <th>state</th>\n",
       "      <th>town</th>\n",
       "      <th>price_log</th>\n",
       "      <th>house_category</th>\n",
       "      <th>price_per_bedroom</th>\n",
       "      <th>total_faclities</th>\n",
       "    </tr>\n",
       "  </thead>\n",
       "  <tbody>\n",
       "    <tr>\n",
       "      <th>count</th>\n",
       "      <td>1.084000e+04</td>\n",
       "      <td>10840.000000</td>\n",
       "      <td>10840.000000</td>\n",
       "      <td>10840.000000</td>\n",
       "      <td>10840.000000</td>\n",
       "      <td>10840</td>\n",
       "      <td>10840</td>\n",
       "      <td>10840.000000</td>\n",
       "      <td>10840</td>\n",
       "      <td>1.084000e+04</td>\n",
       "      <td>10840.000000</td>\n",
       "    </tr>\n",
       "    <tr>\n",
       "      <th>unique</th>\n",
       "      <td>NaN</td>\n",
       "      <td>NaN</td>\n",
       "      <td>NaN</td>\n",
       "      <td>NaN</td>\n",
       "      <td>NaN</td>\n",
       "      <td>1</td>\n",
       "      <td>1</td>\n",
       "      <td>NaN</td>\n",
       "      <td>7</td>\n",
       "      <td>NaN</td>\n",
       "      <td>NaN</td>\n",
       "    </tr>\n",
       "    <tr>\n",
       "      <th>top</th>\n",
       "      <td>NaN</td>\n",
       "      <td>NaN</td>\n",
       "      <td>NaN</td>\n",
       "      <td>NaN</td>\n",
       "      <td>NaN</td>\n",
       "      <td>Lagos</td>\n",
       "      <td>Lekki</td>\n",
       "      <td>NaN</td>\n",
       "      <td>Detached Duplex</td>\n",
       "      <td>NaN</td>\n",
       "      <td>NaN</td>\n",
       "    </tr>\n",
       "    <tr>\n",
       "      <th>freq</th>\n",
       "      <td>NaN</td>\n",
       "      <td>NaN</td>\n",
       "      <td>NaN</td>\n",
       "      <td>NaN</td>\n",
       "      <td>NaN</td>\n",
       "      <td>10840</td>\n",
       "      <td>10840</td>\n",
       "      <td>NaN</td>\n",
       "      <td>4881</td>\n",
       "      <td>NaN</td>\n",
       "      <td>NaN</td>\n",
       "    </tr>\n",
       "    <tr>\n",
       "      <th>mean</th>\n",
       "      <td>1.885119e+08</td>\n",
       "      <td>3.603782</td>\n",
       "      <td>3.708395</td>\n",
       "      <td>4.545387</td>\n",
       "      <td>3.040590</td>\n",
       "      <td>NaN</td>\n",
       "      <td>NaN</td>\n",
       "      <td>18.916125</td>\n",
       "      <td>NaN</td>\n",
       "      <td>5.433618e+07</td>\n",
       "      <td>14.898155</td>\n",
       "    </tr>\n",
       "    <tr>\n",
       "      <th>std</th>\n",
       "      <td>9.210414e+07</td>\n",
       "      <td>1.088790</td>\n",
       "      <td>1.131751</td>\n",
       "      <td>1.148599</td>\n",
       "      <td>1.333361</td>\n",
       "      <td>NaN</td>\n",
       "      <td>NaN</td>\n",
       "      <td>0.587387</td>\n",
       "      <td>NaN</td>\n",
       "      <td>2.562120e+07</td>\n",
       "      <td>4.118679</td>\n",
       "    </tr>\n",
       "    <tr>\n",
       "      <th>min</th>\n",
       "      <td>1.000000e+05</td>\n",
       "      <td>1.000000</td>\n",
       "      <td>1.000000</td>\n",
       "      <td>1.000000</td>\n",
       "      <td>1.000000</td>\n",
       "      <td>NaN</td>\n",
       "      <td>NaN</td>\n",
       "      <td>11.512935</td>\n",
       "      <td>NaN</td>\n",
       "      <td>2.500000e+04</td>\n",
       "      <td>4.000000</td>\n",
       "    </tr>\n",
       "    <tr>\n",
       "      <th>25%</th>\n",
       "      <td>1.200000e+08</td>\n",
       "      <td>3.000000</td>\n",
       "      <td>3.000000</td>\n",
       "      <td>4.000000</td>\n",
       "      <td>2.000000</td>\n",
       "      <td>NaN</td>\n",
       "      <td>NaN</td>\n",
       "      <td>18.603002</td>\n",
       "      <td>NaN</td>\n",
       "      <td>3.500000e+07</td>\n",
       "      <td>12.000000</td>\n",
       "    </tr>\n",
       "    <tr>\n",
       "      <th>50%</th>\n",
       "      <td>1.700000e+08</td>\n",
       "      <td>4.000000</td>\n",
       "      <td>4.000000</td>\n",
       "      <td>5.000000</td>\n",
       "      <td>3.000000</td>\n",
       "      <td>NaN</td>\n",
       "      <td>NaN</td>\n",
       "      <td>18.951309</td>\n",
       "      <td>NaN</td>\n",
       "      <td>5.000000e+07</td>\n",
       "      <td>16.000000</td>\n",
       "    </tr>\n",
       "    <tr>\n",
       "      <th>75%</th>\n",
       "      <td>2.500000e+08</td>\n",
       "      <td>4.000000</td>\n",
       "      <td>4.000000</td>\n",
       "      <td>5.000000</td>\n",
       "      <td>4.000000</td>\n",
       "      <td>NaN</td>\n",
       "      <td>NaN</td>\n",
       "      <td>19.336971</td>\n",
       "      <td>NaN</td>\n",
       "      <td>7.000000e+07</td>\n",
       "      <td>17.000000</td>\n",
       "    </tr>\n",
       "    <tr>\n",
       "      <th>max</th>\n",
       "      <td>3.980000e+08</td>\n",
       "      <td>6.000000</td>\n",
       "      <td>6.000000</td>\n",
       "      <td>8.000000</td>\n",
       "      <td>18.000000</td>\n",
       "      <td>NaN</td>\n",
       "      <td>NaN</td>\n",
       "      <td>19.801963</td>\n",
       "      <td>NaN</td>\n",
       "      <td>2.800000e+08</td>\n",
       "      <td>31.000000</td>\n",
       "    </tr>\n",
       "  </tbody>\n",
       "</table>\n",
       "</div>"
      ],
      "text/plain": [
       "               price      bedrooms     bathrooms       toilets  parking_space  \\\n",
       "count   1.084000e+04  10840.000000  10840.000000  10840.000000   10840.000000   \n",
       "unique           NaN           NaN           NaN           NaN            NaN   \n",
       "top              NaN           NaN           NaN           NaN            NaN   \n",
       "freq             NaN           NaN           NaN           NaN            NaN   \n",
       "mean    1.885119e+08      3.603782      3.708395      4.545387       3.040590   \n",
       "std     9.210414e+07      1.088790      1.131751      1.148599       1.333361   \n",
       "min     1.000000e+05      1.000000      1.000000      1.000000       1.000000   \n",
       "25%     1.200000e+08      3.000000      3.000000      4.000000       2.000000   \n",
       "50%     1.700000e+08      4.000000      4.000000      5.000000       3.000000   \n",
       "75%     2.500000e+08      4.000000      4.000000      5.000000       4.000000   \n",
       "max     3.980000e+08      6.000000      6.000000      8.000000      18.000000   \n",
       "\n",
       "        state   town     price_log   house_category  price_per_bedroom  \\\n",
       "count   10840  10840  10840.000000            10840       1.084000e+04   \n",
       "unique      1      1           NaN                7                NaN   \n",
       "top     Lagos  Lekki           NaN  Detached Duplex                NaN   \n",
       "freq    10840  10840           NaN             4881                NaN   \n",
       "mean      NaN    NaN     18.916125              NaN       5.433618e+07   \n",
       "std       NaN    NaN      0.587387              NaN       2.562120e+07   \n",
       "min       NaN    NaN     11.512935              NaN       2.500000e+04   \n",
       "25%       NaN    NaN     18.603002              NaN       3.500000e+07   \n",
       "50%       NaN    NaN     18.951309              NaN       5.000000e+07   \n",
       "75%       NaN    NaN     19.336971              NaN       7.000000e+07   \n",
       "max       NaN    NaN     19.801963              NaN       2.800000e+08   \n",
       "\n",
       "        total_faclities  \n",
       "count      10840.000000  \n",
       "unique              NaN  \n",
       "top                 NaN  \n",
       "freq                NaN  \n",
       "mean          14.898155  \n",
       "std            4.118679  \n",
       "min            4.000000  \n",
       "25%           12.000000  \n",
       "50%           16.000000  \n",
       "75%           17.000000  \n",
       "max           31.000000  "
      ]
     },
     "execution_count": 654,
     "metadata": {},
     "output_type": "execute_result"
    }
   ],
   "source": [
    "summary = data.describe(include=\"all\")\n",
    "summary"
   ]
  },
  {
   "cell_type": "code",
   "execution_count": 655,
   "metadata": {},
   "outputs": [
    {
     "data": {
      "text/plain": [
       "array(['Block of Flats', 'Detached Duplex', 'Terraced Duplex',\n",
       "       'Apartment Flat', 'standard house', 'Detached Bungalow',\n",
       "       'Terraced Bungalow'], dtype=object)"
      ]
     },
     "execution_count": 655,
     "metadata": {},
     "output_type": "execute_result"
    }
   ],
   "source": [
    "data[\"house_category\"].unique()"
   ]
  },
  {
   "cell_type": "code",
   "execution_count": 656,
   "metadata": {},
   "outputs": [],
   "source": [
    "data = pd.get_dummies(data, columns=[\"house_category\", \"town\", \"state\"], drop_first=True)"
   ]
  },
  {
   "cell_type": "code",
   "execution_count": 657,
   "metadata": {},
   "outputs": [],
   "source": [
    "X = data.drop([\"price\", \"price_log\"], axis=1)\n",
    "y = data['price_log']"
   ]
  },
  {
   "cell_type": "code",
   "execution_count": 658,
   "metadata": {},
   "outputs": [],
   "source": [
    "X_train, X_test, y_train, y_test = train_test_split(X, y, test_size=0.2, random_state=42)"
   ]
  },
  {
   "cell_type": "code",
   "execution_count": 659,
   "metadata": {},
   "outputs": [
    {
     "data": {
      "text/html": [
       "<style>#sk-container-id-11 {\n",
       "  /* Definition of color scheme common for light and dark mode */\n",
       "  --sklearn-color-text: black;\n",
       "  --sklearn-color-line: gray;\n",
       "  /* Definition of color scheme for unfitted estimators */\n",
       "  --sklearn-color-unfitted-level-0: #fff5e6;\n",
       "  --sklearn-color-unfitted-level-1: #f6e4d2;\n",
       "  --sklearn-color-unfitted-level-2: #ffe0b3;\n",
       "  --sklearn-color-unfitted-level-3: chocolate;\n",
       "  /* Definition of color scheme for fitted estimators */\n",
       "  --sklearn-color-fitted-level-0: #f0f8ff;\n",
       "  --sklearn-color-fitted-level-1: #d4ebff;\n",
       "  --sklearn-color-fitted-level-2: #b3dbfd;\n",
       "  --sklearn-color-fitted-level-3: cornflowerblue;\n",
       "\n",
       "  /* Specific color for light theme */\n",
       "  --sklearn-color-text-on-default-background: var(--sg-text-color, var(--theme-code-foreground, var(--jp-content-font-color1, black)));\n",
       "  --sklearn-color-background: var(--sg-background-color, var(--theme-background, var(--jp-layout-color0, white)));\n",
       "  --sklearn-color-border-box: var(--sg-text-color, var(--theme-code-foreground, var(--jp-content-font-color1, black)));\n",
       "  --sklearn-color-icon: #696969;\n",
       "\n",
       "  @media (prefers-color-scheme: dark) {\n",
       "    /* Redefinition of color scheme for dark theme */\n",
       "    --sklearn-color-text-on-default-background: var(--sg-text-color, var(--theme-code-foreground, var(--jp-content-font-color1, white)));\n",
       "    --sklearn-color-background: var(--sg-background-color, var(--theme-background, var(--jp-layout-color0, #111)));\n",
       "    --sklearn-color-border-box: var(--sg-text-color, var(--theme-code-foreground, var(--jp-content-font-color1, white)));\n",
       "    --sklearn-color-icon: #878787;\n",
       "  }\n",
       "}\n",
       "\n",
       "#sk-container-id-11 {\n",
       "  color: var(--sklearn-color-text);\n",
       "}\n",
       "\n",
       "#sk-container-id-11 pre {\n",
       "  padding: 0;\n",
       "}\n",
       "\n",
       "#sk-container-id-11 input.sk-hidden--visually {\n",
       "  border: 0;\n",
       "  clip: rect(1px 1px 1px 1px);\n",
       "  clip: rect(1px, 1px, 1px, 1px);\n",
       "  height: 1px;\n",
       "  margin: -1px;\n",
       "  overflow: hidden;\n",
       "  padding: 0;\n",
       "  position: absolute;\n",
       "  width: 1px;\n",
       "}\n",
       "\n",
       "#sk-container-id-11 div.sk-dashed-wrapped {\n",
       "  border: 1px dashed var(--sklearn-color-line);\n",
       "  margin: 0 0.4em 0.5em 0.4em;\n",
       "  box-sizing: border-box;\n",
       "  padding-bottom: 0.4em;\n",
       "  background-color: var(--sklearn-color-background);\n",
       "}\n",
       "\n",
       "#sk-container-id-11 div.sk-container {\n",
       "  /* jupyter's `normalize.less` sets `[hidden] { display: none; }`\n",
       "     but bootstrap.min.css set `[hidden] { display: none !important; }`\n",
       "     so we also need the `!important` here to be able to override the\n",
       "     default hidden behavior on the sphinx rendered scikit-learn.org.\n",
       "     See: https://github.com/scikit-learn/scikit-learn/issues/21755 */\n",
       "  display: inline-block !important;\n",
       "  position: relative;\n",
       "}\n",
       "\n",
       "#sk-container-id-11 div.sk-text-repr-fallback {\n",
       "  display: none;\n",
       "}\n",
       "\n",
       "div.sk-parallel-item,\n",
       "div.sk-serial,\n",
       "div.sk-item {\n",
       "  /* draw centered vertical line to link estimators */\n",
       "  background-image: linear-gradient(var(--sklearn-color-text-on-default-background), var(--sklearn-color-text-on-default-background));\n",
       "  background-size: 2px 100%;\n",
       "  background-repeat: no-repeat;\n",
       "  background-position: center center;\n",
       "}\n",
       "\n",
       "/* Parallel-specific style estimator block */\n",
       "\n",
       "#sk-container-id-11 div.sk-parallel-item::after {\n",
       "  content: \"\";\n",
       "  width: 100%;\n",
       "  border-bottom: 2px solid var(--sklearn-color-text-on-default-background);\n",
       "  flex-grow: 1;\n",
       "}\n",
       "\n",
       "#sk-container-id-11 div.sk-parallel {\n",
       "  display: flex;\n",
       "  align-items: stretch;\n",
       "  justify-content: center;\n",
       "  background-color: var(--sklearn-color-background);\n",
       "  position: relative;\n",
       "}\n",
       "\n",
       "#sk-container-id-11 div.sk-parallel-item {\n",
       "  display: flex;\n",
       "  flex-direction: column;\n",
       "}\n",
       "\n",
       "#sk-container-id-11 div.sk-parallel-item:first-child::after {\n",
       "  align-self: flex-end;\n",
       "  width: 50%;\n",
       "}\n",
       "\n",
       "#sk-container-id-11 div.sk-parallel-item:last-child::after {\n",
       "  align-self: flex-start;\n",
       "  width: 50%;\n",
       "}\n",
       "\n",
       "#sk-container-id-11 div.sk-parallel-item:only-child::after {\n",
       "  width: 0;\n",
       "}\n",
       "\n",
       "/* Serial-specific style estimator block */\n",
       "\n",
       "#sk-container-id-11 div.sk-serial {\n",
       "  display: flex;\n",
       "  flex-direction: column;\n",
       "  align-items: center;\n",
       "  background-color: var(--sklearn-color-background);\n",
       "  padding-right: 1em;\n",
       "  padding-left: 1em;\n",
       "}\n",
       "\n",
       "\n",
       "/* Toggleable style: style used for estimator/Pipeline/ColumnTransformer box that is\n",
       "clickable and can be expanded/collapsed.\n",
       "- Pipeline and ColumnTransformer use this feature and define the default style\n",
       "- Estimators will overwrite some part of the style using the `sk-estimator` class\n",
       "*/\n",
       "\n",
       "/* Pipeline and ColumnTransformer style (default) */\n",
       "\n",
       "#sk-container-id-11 div.sk-toggleable {\n",
       "  /* Default theme specific background. It is overwritten whether we have a\n",
       "  specific estimator or a Pipeline/ColumnTransformer */\n",
       "  background-color: var(--sklearn-color-background);\n",
       "}\n",
       "\n",
       "/* Toggleable label */\n",
       "#sk-container-id-11 label.sk-toggleable__label {\n",
       "  cursor: pointer;\n",
       "  display: block;\n",
       "  width: 100%;\n",
       "  margin-bottom: 0;\n",
       "  padding: 0.5em;\n",
       "  box-sizing: border-box;\n",
       "  text-align: center;\n",
       "}\n",
       "\n",
       "#sk-container-id-11 label.sk-toggleable__label-arrow:before {\n",
       "  /* Arrow on the left of the label */\n",
       "  content: \"▸\";\n",
       "  float: left;\n",
       "  margin-right: 0.25em;\n",
       "  color: var(--sklearn-color-icon);\n",
       "}\n",
       "\n",
       "#sk-container-id-11 label.sk-toggleable__label-arrow:hover:before {\n",
       "  color: var(--sklearn-color-text);\n",
       "}\n",
       "\n",
       "/* Toggleable content - dropdown */\n",
       "\n",
       "#sk-container-id-11 div.sk-toggleable__content {\n",
       "  max-height: 0;\n",
       "  max-width: 0;\n",
       "  overflow: hidden;\n",
       "  text-align: left;\n",
       "  /* unfitted */\n",
       "  background-color: var(--sklearn-color-unfitted-level-0);\n",
       "}\n",
       "\n",
       "#sk-container-id-11 div.sk-toggleable__content.fitted {\n",
       "  /* fitted */\n",
       "  background-color: var(--sklearn-color-fitted-level-0);\n",
       "}\n",
       "\n",
       "#sk-container-id-11 div.sk-toggleable__content pre {\n",
       "  margin: 0.2em;\n",
       "  border-radius: 0.25em;\n",
       "  color: var(--sklearn-color-text);\n",
       "  /* unfitted */\n",
       "  background-color: var(--sklearn-color-unfitted-level-0);\n",
       "}\n",
       "\n",
       "#sk-container-id-11 div.sk-toggleable__content.fitted pre {\n",
       "  /* unfitted */\n",
       "  background-color: var(--sklearn-color-fitted-level-0);\n",
       "}\n",
       "\n",
       "#sk-container-id-11 input.sk-toggleable__control:checked~div.sk-toggleable__content {\n",
       "  /* Expand drop-down */\n",
       "  max-height: 200px;\n",
       "  max-width: 100%;\n",
       "  overflow: auto;\n",
       "}\n",
       "\n",
       "#sk-container-id-11 input.sk-toggleable__control:checked~label.sk-toggleable__label-arrow:before {\n",
       "  content: \"▾\";\n",
       "}\n",
       "\n",
       "/* Pipeline/ColumnTransformer-specific style */\n",
       "\n",
       "#sk-container-id-11 div.sk-label input.sk-toggleable__control:checked~label.sk-toggleable__label {\n",
       "  color: var(--sklearn-color-text);\n",
       "  background-color: var(--sklearn-color-unfitted-level-2);\n",
       "}\n",
       "\n",
       "#sk-container-id-11 div.sk-label.fitted input.sk-toggleable__control:checked~label.sk-toggleable__label {\n",
       "  background-color: var(--sklearn-color-fitted-level-2);\n",
       "}\n",
       "\n",
       "/* Estimator-specific style */\n",
       "\n",
       "/* Colorize estimator box */\n",
       "#sk-container-id-11 div.sk-estimator input.sk-toggleable__control:checked~label.sk-toggleable__label {\n",
       "  /* unfitted */\n",
       "  background-color: var(--sklearn-color-unfitted-level-2);\n",
       "}\n",
       "\n",
       "#sk-container-id-11 div.sk-estimator.fitted input.sk-toggleable__control:checked~label.sk-toggleable__label {\n",
       "  /* fitted */\n",
       "  background-color: var(--sklearn-color-fitted-level-2);\n",
       "}\n",
       "\n",
       "#sk-container-id-11 div.sk-label label.sk-toggleable__label,\n",
       "#sk-container-id-11 div.sk-label label {\n",
       "  /* The background is the default theme color */\n",
       "  color: var(--sklearn-color-text-on-default-background);\n",
       "}\n",
       "\n",
       "/* On hover, darken the color of the background */\n",
       "#sk-container-id-11 div.sk-label:hover label.sk-toggleable__label {\n",
       "  color: var(--sklearn-color-text);\n",
       "  background-color: var(--sklearn-color-unfitted-level-2);\n",
       "}\n",
       "\n",
       "/* Label box, darken color on hover, fitted */\n",
       "#sk-container-id-11 div.sk-label.fitted:hover label.sk-toggleable__label.fitted {\n",
       "  color: var(--sklearn-color-text);\n",
       "  background-color: var(--sklearn-color-fitted-level-2);\n",
       "}\n",
       "\n",
       "/* Estimator label */\n",
       "\n",
       "#sk-container-id-11 div.sk-label label {\n",
       "  font-family: monospace;\n",
       "  font-weight: bold;\n",
       "  display: inline-block;\n",
       "  line-height: 1.2em;\n",
       "}\n",
       "\n",
       "#sk-container-id-11 div.sk-label-container {\n",
       "  text-align: center;\n",
       "}\n",
       "\n",
       "/* Estimator-specific */\n",
       "#sk-container-id-11 div.sk-estimator {\n",
       "  font-family: monospace;\n",
       "  border: 1px dotted var(--sklearn-color-border-box);\n",
       "  border-radius: 0.25em;\n",
       "  box-sizing: border-box;\n",
       "  margin-bottom: 0.5em;\n",
       "  /* unfitted */\n",
       "  background-color: var(--sklearn-color-unfitted-level-0);\n",
       "}\n",
       "\n",
       "#sk-container-id-11 div.sk-estimator.fitted {\n",
       "  /* fitted */\n",
       "  background-color: var(--sklearn-color-fitted-level-0);\n",
       "}\n",
       "\n",
       "/* on hover */\n",
       "#sk-container-id-11 div.sk-estimator:hover {\n",
       "  /* unfitted */\n",
       "  background-color: var(--sklearn-color-unfitted-level-2);\n",
       "}\n",
       "\n",
       "#sk-container-id-11 div.sk-estimator.fitted:hover {\n",
       "  /* fitted */\n",
       "  background-color: var(--sklearn-color-fitted-level-2);\n",
       "}\n",
       "\n",
       "/* Specification for estimator info (e.g. \"i\" and \"?\") */\n",
       "\n",
       "/* Common style for \"i\" and \"?\" */\n",
       "\n",
       ".sk-estimator-doc-link,\n",
       "a:link.sk-estimator-doc-link,\n",
       "a:visited.sk-estimator-doc-link {\n",
       "  float: right;\n",
       "  font-size: smaller;\n",
       "  line-height: 1em;\n",
       "  font-family: monospace;\n",
       "  background-color: var(--sklearn-color-background);\n",
       "  border-radius: 1em;\n",
       "  height: 1em;\n",
       "  width: 1em;\n",
       "  text-decoration: none !important;\n",
       "  margin-left: 1ex;\n",
       "  /* unfitted */\n",
       "  border: var(--sklearn-color-unfitted-level-1) 1pt solid;\n",
       "  color: var(--sklearn-color-unfitted-level-1);\n",
       "}\n",
       "\n",
       ".sk-estimator-doc-link.fitted,\n",
       "a:link.sk-estimator-doc-link.fitted,\n",
       "a:visited.sk-estimator-doc-link.fitted {\n",
       "  /* fitted */\n",
       "  border: var(--sklearn-color-fitted-level-1) 1pt solid;\n",
       "  color: var(--sklearn-color-fitted-level-1);\n",
       "}\n",
       "\n",
       "/* On hover */\n",
       "div.sk-estimator:hover .sk-estimator-doc-link:hover,\n",
       ".sk-estimator-doc-link:hover,\n",
       "div.sk-label-container:hover .sk-estimator-doc-link:hover,\n",
       ".sk-estimator-doc-link:hover {\n",
       "  /* unfitted */\n",
       "  background-color: var(--sklearn-color-unfitted-level-3);\n",
       "  color: var(--sklearn-color-background);\n",
       "  text-decoration: none;\n",
       "}\n",
       "\n",
       "div.sk-estimator.fitted:hover .sk-estimator-doc-link.fitted:hover,\n",
       ".sk-estimator-doc-link.fitted:hover,\n",
       "div.sk-label-container:hover .sk-estimator-doc-link.fitted:hover,\n",
       ".sk-estimator-doc-link.fitted:hover {\n",
       "  /* fitted */\n",
       "  background-color: var(--sklearn-color-fitted-level-3);\n",
       "  color: var(--sklearn-color-background);\n",
       "  text-decoration: none;\n",
       "}\n",
       "\n",
       "/* Span, style for the box shown on hovering the info icon */\n",
       ".sk-estimator-doc-link span {\n",
       "  display: none;\n",
       "  z-index: 9999;\n",
       "  position: relative;\n",
       "  font-weight: normal;\n",
       "  right: .2ex;\n",
       "  padding: .5ex;\n",
       "  margin: .5ex;\n",
       "  width: min-content;\n",
       "  min-width: 20ex;\n",
       "  max-width: 50ex;\n",
       "  color: var(--sklearn-color-text);\n",
       "  box-shadow: 2pt 2pt 4pt #999;\n",
       "  /* unfitted */\n",
       "  background: var(--sklearn-color-unfitted-level-0);\n",
       "  border: .5pt solid var(--sklearn-color-unfitted-level-3);\n",
       "}\n",
       "\n",
       ".sk-estimator-doc-link.fitted span {\n",
       "  /* fitted */\n",
       "  background: var(--sklearn-color-fitted-level-0);\n",
       "  border: var(--sklearn-color-fitted-level-3);\n",
       "}\n",
       "\n",
       ".sk-estimator-doc-link:hover span {\n",
       "  display: block;\n",
       "}\n",
       "\n",
       "/* \"?\"-specific style due to the `<a>` HTML tag */\n",
       "\n",
       "#sk-container-id-11 a.estimator_doc_link {\n",
       "  float: right;\n",
       "  font-size: 1rem;\n",
       "  line-height: 1em;\n",
       "  font-family: monospace;\n",
       "  background-color: var(--sklearn-color-background);\n",
       "  border-radius: 1rem;\n",
       "  height: 1rem;\n",
       "  width: 1rem;\n",
       "  text-decoration: none;\n",
       "  /* unfitted */\n",
       "  color: var(--sklearn-color-unfitted-level-1);\n",
       "  border: var(--sklearn-color-unfitted-level-1) 1pt solid;\n",
       "}\n",
       "\n",
       "#sk-container-id-11 a.estimator_doc_link.fitted {\n",
       "  /* fitted */\n",
       "  border: var(--sklearn-color-fitted-level-1) 1pt solid;\n",
       "  color: var(--sklearn-color-fitted-level-1);\n",
       "}\n",
       "\n",
       "/* On hover */\n",
       "#sk-container-id-11 a.estimator_doc_link:hover {\n",
       "  /* unfitted */\n",
       "  background-color: var(--sklearn-color-unfitted-level-3);\n",
       "  color: var(--sklearn-color-background);\n",
       "  text-decoration: none;\n",
       "}\n",
       "\n",
       "#sk-container-id-11 a.estimator_doc_link.fitted:hover {\n",
       "  /* fitted */\n",
       "  background-color: var(--sklearn-color-fitted-level-3);\n",
       "}\n",
       "</style><div id=\"sk-container-id-11\" class=\"sk-top-container\"><div class=\"sk-text-repr-fallback\"><pre>LinearRegression()</pre><b>In a Jupyter environment, please rerun this cell to show the HTML representation or trust the notebook. <br />On GitHub, the HTML representation is unable to render, please try loading this page with nbviewer.org.</b></div><div class=\"sk-container\" hidden><div class=\"sk-item\"><div class=\"sk-estimator fitted sk-toggleable\"><input class=\"sk-toggleable__control sk-hidden--visually\" id=\"sk-estimator-id-11\" type=\"checkbox\" checked><label for=\"sk-estimator-id-11\" class=\"sk-toggleable__label fitted sk-toggleable__label-arrow fitted\">&nbsp;&nbsp;LinearRegression<a class=\"sk-estimator-doc-link fitted\" rel=\"noreferrer\" target=\"_blank\" href=\"https://scikit-learn.org/1.5/modules/generated/sklearn.linear_model.LinearRegression.html\">?<span>Documentation for LinearRegression</span></a><span class=\"sk-estimator-doc-link fitted\">i<span>Fitted</span></span></label><div class=\"sk-toggleable__content fitted\"><pre>LinearRegression()</pre></div> </div></div></div></div>"
      ],
      "text/plain": [
       "LinearRegression()"
      ]
     },
     "execution_count": 659,
     "metadata": {},
     "output_type": "execute_result"
    }
   ],
   "source": [
    "# Initializing the model\n",
    "model = LinearRegression()\n",
    "\n",
    "# Training the model\n",
    "model.fit(X_train, y_train)"
   ]
  },
  {
   "cell_type": "code",
   "execution_count": 660,
   "metadata": {},
   "outputs": [],
   "source": [
    "y_pred = model.predict(X_test)"
   ]
  },
  {
   "cell_type": "code",
   "execution_count": 661,
   "metadata": {},
   "outputs": [
    {
     "name": "stdout",
     "output_type": "stream",
     "text": [
      "Mean Absolute Error (MAE): 0.12\n",
      "Mean Squared Error (MSE): 0.07\n",
      "Root Mean Squared Error (RMSE): 0.27\n",
      "R-Squared Score (R²): 0.80\n"
     ]
    }
   ],
   "source": [
    "# Calculating Error Metrics\n",
    "\n",
    "mae = mean_absolute_error(y_test, y_pred)\n",
    "mse = mean_squared_error(y_test, y_pred)\n",
    "rmse = np.sqrt(mse)\n",
    "r2 = r2_score(y_test, y_pred)\n",
    "\n",
    "print(f\"Mean Absolute Error (MAE): {mae:.2f}\")\n",
    "print(f\"Mean Squared Error (MSE): {mse:.2f}\")\n",
    "print(f\"Root Mean Squared Error (RMSE): {rmse:.2f}\")\n",
    "print(f\"R-Squared Score (R²): {r2:.2f}\")"
   ]
  },
  {
   "cell_type": "code",
   "execution_count": 662,
   "metadata": {},
   "outputs": [
    {
     "data": {
      "text/plain": [
       "['bedrooms',\n",
       " 'bathrooms',\n",
       " 'toilets',\n",
       " 'parking_space',\n",
       " 'price_per_bedroom',\n",
       " 'total_faclities',\n",
       " 'house_category_Block of Flats',\n",
       " 'house_category_Detached Bungalow',\n",
       " 'house_category_Detached Duplex',\n",
       " 'house_category_Terraced Bungalow',\n",
       " 'house_category_Terraced Duplex',\n",
       " 'house_category_standard house']"
      ]
     },
     "execution_count": 662,
     "metadata": {},
     "output_type": "execute_result"
    }
   ],
   "source": [
    "X.columns.to_list()"
   ]
  },
  {
   "cell_type": "markdown",
   "metadata": {},
   "source": [
    "## Trying out the Model"
   ]
  },
  {
   "cell_type": "code",
   "execution_count": 678,
   "metadata": {},
   "outputs": [
    {
     "name": "stdout",
     "output_type": "stream",
     "text": [
      "Predicted Price: ₦243,458,962.58\n"
     ]
    }
   ],
   "source": [
    "prediction_columns = ['bedrooms',\n",
    " 'bathrooms',\n",
    " 'toilets',\n",
    " 'parking_space',\n",
    " 'price_per_bedroom',\n",
    " 'total_faclities',\n",
    " 'house_category_Block of Flats',\n",
    " 'house_category_Detached Bungalow',\n",
    " 'house_category_Detached Duplex',\n",
    " 'house_category_Terraced Bungalow',\n",
    " 'house_category_Terraced Duplex',\n",
    " 'house_category_standard house'\n",
    " \n",
    "]\n",
    "\n",
    "new_house = {\n",
    "    \"bedrooms\" : 3,\n",
    "    \"bathrooms\" : 3,\n",
    "    \"toilets\" : 4,\n",
    "    \"parking_space\" : 4,\n",
    "    \"house_category\" : \"standard house\",\n",
    "    \"town\" : \"Lekki\",\n",
    "    \"state\" : \"Lagos\",\n",
    "    \"price_per_bedroom\" : 0,  # Placeholder\n",
    "}\n",
    "\n",
    "new_house_data = pd.DataFrame([new_house])\n",
    "\n",
    "# Add calculated features\n",
    "new_house_data['price_per_bedroom'] = 50000000 * new_house[\"bedrooms\"]  # Placeholder\n",
    "new_house_data['total_facilities'] = (\n",
    "    new_house_data['bedrooms'] + new_house_data['bathrooms'] +\n",
    "    new_house_data['toilets'] + new_house_data['parking_space']\n",
    ")\n",
    "\n",
    "new_house_data = pd.get_dummies(new_house_data, columns=[\"house_category\", \"town\", \"state\"])\n",
    "\n",
    "missing_cols_dict = {col: [0] for col in set(X.columns) - set(new_house_data.columns)}\n",
    "\n",
    "missing_cols_df = pd.DataFrame(missing_cols_dict)\n",
    "\n",
    "new_house_data_complete = pd.concat([new_house_data, missing_cols_df], axis=1)\n",
    "\n",
    "new_house_data_final = new_house_data_complete[prediction_columns]\n",
    "\n",
    "# Make prediction\n",
    "predicted_price_log = model.predict(new_house_data_final)\n",
    "predicted_price = np.expm1(predicted_price_log)[0]  # Extract single value\n",
    "\n",
    "# Format price output\n",
    "formatted_price = f\"₦{predicted_price:,.2f}\"\n",
    "print(\"Predicted Price:\", formatted_price)"
   ]
  }
 ],
 "metadata": {
  "kernelspec": {
   "display_name": "base",
   "language": "python",
   "name": "python3"
  },
  "language_info": {
   "codemirror_mode": {
    "name": "ipython",
    "version": 3
   },
   "file_extension": ".py",
   "mimetype": "text/x-python",
   "name": "python",
   "nbconvert_exporter": "python",
   "pygments_lexer": "ipython3",
   "version": "3.12.3"
  }
 },
 "nbformat": 4,
 "nbformat_minor": 2
}
