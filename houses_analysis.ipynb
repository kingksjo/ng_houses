{
 "cells": [
  {
   "cell_type": "code",
   "execution_count": 1,
   "metadata": {},
   "outputs": [],
   "source": [
    "import pandas as pd\n",
    "import matplotlib.pyplot as plt\n",
    "import numpy as np\n",
    "from sklearn.ensemble import RandomForestRegressor\n",
    "from sklearn.linear_model import LinearRegression\n",
    "from sklearn.model_selection import train_test_split\n",
    "from sklearn.metrics import root_mean_squared_error, mean_absolute_error, mean_squared_error, r2_score, accuracy_score\n",
    "import seaborn as sns\n",
    "from sklearn.preprocessing import StandardScaler, MinMaxScaler, LabelEncoder\n",
    "sns.set_style(\"whitegrid\")"
   ]
  },
  {
   "cell_type": "code",
   "execution_count": 2,
   "metadata": {},
   "outputs": [],
   "source": [
    "data = pd.read_csv(\"results/properties.csv\")"
   ]
  },
  {
   "cell_type": "code",
   "execution_count": 3,
   "metadata": {},
   "outputs": [
    {
     "data": {
      "application/vnd.microsoft.datawrangler.viewer.v0+json": {
       "columns": [
        {
         "name": "index",
         "rawType": "int64",
         "type": "integer"
        },
        {
         "name": "type_of_house",
         "rawType": "object",
         "type": "string"
        },
        {
         "name": "location",
         "rawType": "object",
         "type": "string"
        },
        {
         "name": "price",
         "rawType": "object",
         "type": "string"
        },
        {
         "name": "bedrooms",
         "rawType": "float64",
         "type": "float"
        },
        {
         "name": "bathrooms",
         "rawType": "float64",
         "type": "float"
        },
        {
         "name": "toilets",
         "rawType": "float64",
         "type": "float"
        },
        {
         "name": "parking_space",
         "rawType": "float64",
         "type": "float"
        }
       ],
       "conversionMethod": "pd.DataFrame",
       "ref": "bc8765b1-a6f0-4f8a-b03f-5e2e680fe7c7",
       "rows": [
        [
         "0",
         "5 bedroom detached duplex for sale",
         "Ikate, Lekki, Lagos",
         "₦750,000,000",
         "5.0",
         "5.0",
         "6.0",
         null
        ],
        [
         "1",
         "4 bedroom detached duplex for sale",
         "Oral Estate, Ikota, Lekki, Lagos",
         "₦180,000,000",
         "4.0",
         "5.0",
         "5.0",
         null
        ],
        [
         "2",
         "3 bedroom block of flats for sale",
         "Gra Estate, Abijo, Lekki, Lagos",
         "₦85,000,000",
         "3.0",
         "3.0",
         "3.0",
         "2.0"
        ],
        [
         "3",
         "6 bedroom detached duplex for sale",
         "Pinnock Beach Estate, Osapa, Lekki, Lagos",
         "₦1,500,000,000",
         "6.0",
         "7.0",
         "7.0",
         null
        ],
        [
         "4",
         "5 bedroom detached duplex for sale",
         "Osapa, Lekki, Lagos",
         "₦350,000,000",
         "5.0",
         "5.0",
         "6.0",
         null
        ],
        [
         "5",
         "5 bedroom detached duplex for sale",
         "Arcadia Grove Estate, Osapa, Lekki, Lagos",
         "₦800,000,000",
         "5.0",
         "5.0",
         "6.0",
         null
        ],
        [
         "6",
         "5 bedroom detached duplex for sale",
         "Lekki Phase 1, Lekki, Lagos",
         "₦650,000,000",
         "5.0",
         "5.0",
         "6.0",
         null
        ],
        [
         "7",
         "6 bedroom detached duplex for sale",
         "Lekki Phase 1, Lekki, Lagos",
         "₦1,600,000,000",
         "6.0",
         "6.0",
         "7.0",
         "8.0"
        ],
        [
         "8",
         "4 bedroom detached duplex for sale",
         "Banana Island, Ikoyi, Lagos",
         "₦3,500,000,000",
         "4.0",
         "4.0",
         "5.0",
         null
        ],
        [
         "9",
         "Residential land for sale",
         "Calmberwall Estate Lekki Ajah Abijo, Ajah, Lagos",
         "₦45,000,000",
         null,
         null,
         null,
         null
        ],
        [
         "10",
         "4 bedroom semi-detached duplex for sale",
         "Ajah, Lagos",
         "₦105,000,000",
         "4.0",
         "4.0",
         "5.0",
         null
        ],
        [
         "11",
         "5 bedroom detached duplex for sale",
         "Royal Garden Estate, Ajah, Lagos",
         "₦650,000,000",
         "5.0",
         "5.0",
         "6.0",
         null
        ],
        [
         "12",
         "Residential land for sale",
         "Beechwood Estate, Bogije, Ibeju Lekki, Lagos",
         "₦50,000,000",
         null,
         null,
         null,
         null
        ],
        [
         "13",
         "3 bedroom detached bungalow for sale",
         "3 Minutes Drive To The Lekki-epe Expressway, Eleko, Ibeju Lekki, Lagos",
         "₦65,000,000",
         "3.0",
         "3.0",
         "4.0",
         null
        ],
        [
         "14",
         "3 bedroom detached bungalow for sale",
         "Close To The Proposed Lekki International Airport, Idera Scheme, Eleko, Ibeju Lekki, Lagos",
         "₦58,000,000",
         "3.0",
         "3.0",
         "4.0",
         null
        ],
        [
         "15",
         "3 bedroom house for sale",
         "By Idera Scheme & Adjacent New Lekki International Airport, Eleko, Ibeju Lekki, Lagos",
         "₦58,000,000",
         "3.0",
         "3.0",
         "4.0",
         "3.0"
        ],
        [
         "16",
         "3 bedroom detached bungalow for sale",
         "By Idera Scheme & 5 Minutes The New Lekki International Airport, Eleko, Ibeju Lekki, Lagos",
         "₦58,000,000",
         "3.0",
         "3.0",
         "4.0",
         null
        ],
        [
         "17",
         "3 bedroom detached bungalow for sale",
         "Close To Pan Atlantic University, Idera Scheme, Eleko, Ibeju Lekki, Lagos",
         "₦65,000,000",
         "3.0",
         "3.0",
         "4.0",
         null
        ],
        [
         "18",
         "4 bedroom terraced duplex for sale",
         "Gbagada, Lagos",
         "₦150,000,000",
         "4.0",
         "5.0",
         "5.0",
         null
        ],
        [
         "19",
         "4 bedroom detached duplex for sale",
         "B. Akinsola Street, Osh Estate, Via Gra, Magodo, Lagos",
         "₦220,000,000",
         "4.0",
         "4.0",
         "5.0",
         null
        ],
        [
         "20",
         "5 bedroom detached duplex for sale",
         "Lekki, Lagos",
         "₦450,000,000",
         "5.0",
         "5.0",
         "6.0",
         "4.0"
        ],
        [
         "21",
         "2 bedroom flat / apartment for sale",
         "Ruby Apartment, Ologolo, Lekki, Lagos",
         "₦80,000,000",
         "2.0",
         "2.0",
         "3.0",
         null
        ],
        [
         "22",
         "2 bedroom flat / apartment for sale",
         "Thomas Estate, Lekki, Lagos",
         "₦65,000,000",
         "2.0",
         "2.0",
         "3.0",
         null
        ],
        [
         "23",
         "4 bedroom terraced duplex for sale",
         "Ikate, Lekki, Lagos",
         "₦185,000,000",
         "4.0",
         "4.0",
         "5.0",
         null
        ],
        [
         "24",
         "4 bedroom house for sale",
         "VGC, Lekki, Lagos",
         "₦205,000,000",
         "4.0",
         "4.0",
         "5.0",
         "2.0"
        ],
        [
         "25",
         "4 bedroom house for sale",
         "Lekki Phase 1, Lekki, Lagos",
         "₦400,000,000",
         "4.0",
         "4.0",
         "5.0",
         "3.0"
        ],
        [
         "26",
         "4 bedroom terraced duplex for sale",
         "Lekki Phase 1, Lekki, Lagos",
         "₦550,000,000",
         "4.0",
         "4.0",
         "5.0",
         null
        ],
        [
         "27",
         "72 bedroom hotel / guest house for sale",
         "Lekki Phase 1, Lekki, Lagos",
         "₦15,000,000,000",
         "72.0",
         "72.0",
         "80.0",
         null
        ],
        [
         "28",
         "Land for sale",
         "Off Ademola Adetokunbo, Wuse 2, Abuja",
         "₦3,000,000,000",
         null,
         null,
         null,
         null
        ],
        [
         "29",
         "Residential land for sale",
         "Top Notch Premium Luxury Estate Facilities World Class Amenities, Epe, Lagos",
         "₦20,000,000",
         null,
         null,
         null,
         "30.0"
        ],
        [
         "30",
         "Residential land for sale",
         "Bourdillon Road, Old Ikoyi, Ikoyi, Lagos",
         "₦3,000,000",
         null,
         null,
         null,
         null
        ],
        [
         "31",
         "Commercial land for sale",
         "Itaoluwo Orimedu, Odogunyan, Ikorodu, Lagos",
         "₦25,000,000",
         null,
         null,
         null,
         null
        ],
        [
         "32",
         "4 bedroom detached duplex for sale",
         "Royal Garden Estate, Ajah, Lagos",
         "₦280,000,000",
         "4.0",
         "4.0",
         "5.0",
         null
        ],
        [
         "33",
         "4 bedroom semi-detached duplex for sale",
         "Ajah, Lagos",
         "₦105,000,000",
         "4.0",
         "4.0",
         "5.0",
         "3.0"
        ],
        [
         "34",
         "4 bedroom detached duplex for sale",
         "Captains Court, Ajah, Lagos",
         "₦180,000,000",
         "4.0",
         "4.0",
         "5.0",
         "3.0"
        ],
        [
         "35",
         "4 bedroom detached duplex for sale",
         "Captains Court, Ajah, Lagos",
         "₦130,000,000",
         "4.0",
         "4.0",
         "5.0",
         "2.0"
        ],
        [
         "36",
         "4 bedroom detached duplex for sale",
         "Ajah, Lagos",
         "₦160,000,000",
         "4.0",
         "4.0",
         "5.0",
         "4.0"
        ],
        [
         "37",
         "4 bedroom terraced duplex for sale",
         "Greenland Estate , Olonkola, Sangotedo, Ajah, Lagos",
         "₦75,000,000",
         "4.0",
         "4.0",
         "5.0",
         "2.0"
        ],
        [
         "38",
         "2 bedroom detached duplex for sale",
         "Olowoira Omole Phase2 Extension, Olowora, Magodo, Lagos",
         "₦100,000,000",
         "2.0",
         "2.0",
         "3.0",
         null
        ],
        [
         "39",
         "Mixed-use land for sale",
         "In An Estate At Obadore Akesan Town  Lasu-igando Road, Igando Alimosho, Igando, Alimosho, Lagos",
         "₦4,000,000",
         null,
         null,
         null,
         "600.0"
        ],
        [
         "40",
         "4 bedroom terraced duplex for sale",
         "Chevron, Lekki, Lagos",
         "₦200,000,000",
         "4.0",
         "4.0",
         "5.0",
         "2.0"
        ],
        [
         "41",
         "5 bedroom detached duplex for sale",
         "Chevron Drive, Lekki, Lagos",
         "₦850,000,000",
         "5.0",
         "5.0",
         "6.0",
         "4.0"
        ],
        [
         "42",
         "2 bedroom flat / apartment for sale",
         "Ikate, Lekki, Lagos",
         "₦150,000,000",
         "2.0",
         "2.0",
         "3.0",
         null
        ],
        [
         "43",
         "2 bedroom block of flats for sale",
         "Ikate, Lekki, Lagos",
         "₦60,000,000",
         "2.0",
         "2.0",
         "3.0",
         "1.0"
        ],
        [
         "44",
         "5 bedroom detached duplex for sale",
         "Lekki County, Ikota, Lekki, Lagos",
         "₦230,000,000",
         "5.0",
         "5.0",
         "6.0",
         "9.0"
        ],
        [
         "45",
         "4 bedroom semi-detached duplex for sale",
         "Ikota, Lekki, Lagos",
         "₦180,000,000",
         "4.0",
         "4.0",
         "5.0",
         "2.0"
        ],
        [
         "46",
         "5 bedroom detached duplex for sale",
         "Lekky County Homes, Ikota, Lekki, Lagos",
         "₦400,000,000",
         "5.0",
         "5.0",
         "6.0",
         "4.0"
        ],
        [
         "47",
         "Residential land for sale",
         "Orchid Road, Lafiaji, Lekki, Lagos",
         "₦100,000,000",
         null,
         null,
         null,
         null
        ],
        [
         "48",
         "4 bedroom terraced duplex for sale",
         "Orchid Road, Lafiaji, Lekki, Lagos",
         "₦115,000,000",
         "4.0",
         "4.0",
         "5.0",
         "2.0"
        ],
        [
         "49",
         "2 bedroom flat / apartment for sale",
         "Orchid Road, Lafiaji, Lekki, Lagos",
         "₦90,000,000",
         "2.0",
         "2.0",
         "3.0",
         "2.0"
        ]
       ],
       "shape": {
        "columns": 7,
        "rows": 80689
       }
      },
      "text/html": [
       "<div>\n",
       "<style scoped>\n",
       "    .dataframe tbody tr th:only-of-type {\n",
       "        vertical-align: middle;\n",
       "    }\n",
       "\n",
       "    .dataframe tbody tr th {\n",
       "        vertical-align: top;\n",
       "    }\n",
       "\n",
       "    .dataframe thead th {\n",
       "        text-align: right;\n",
       "    }\n",
       "</style>\n",
       "<table border=\"1\" class=\"dataframe\">\n",
       "  <thead>\n",
       "    <tr style=\"text-align: right;\">\n",
       "      <th></th>\n",
       "      <th>type_of_house</th>\n",
       "      <th>location</th>\n",
       "      <th>price</th>\n",
       "      <th>bedrooms</th>\n",
       "      <th>bathrooms</th>\n",
       "      <th>toilets</th>\n",
       "      <th>parking_space</th>\n",
       "    </tr>\n",
       "  </thead>\n",
       "  <tbody>\n",
       "    <tr>\n",
       "      <th>0</th>\n",
       "      <td>5 bedroom detached duplex for sale</td>\n",
       "      <td>Ikate, Lekki, Lagos</td>\n",
       "      <td>₦750,000,000</td>\n",
       "      <td>5.0</td>\n",
       "      <td>5.0</td>\n",
       "      <td>6.0</td>\n",
       "      <td>NaN</td>\n",
       "    </tr>\n",
       "    <tr>\n",
       "      <th>1</th>\n",
       "      <td>4 bedroom detached duplex for sale</td>\n",
       "      <td>Oral Estate, Ikota, Lekki, Lagos</td>\n",
       "      <td>₦180,000,000</td>\n",
       "      <td>4.0</td>\n",
       "      <td>5.0</td>\n",
       "      <td>5.0</td>\n",
       "      <td>NaN</td>\n",
       "    </tr>\n",
       "    <tr>\n",
       "      <th>2</th>\n",
       "      <td>3 bedroom block of flats for sale</td>\n",
       "      <td>Gra Estate, Abijo, Lekki, Lagos</td>\n",
       "      <td>₦85,000,000</td>\n",
       "      <td>3.0</td>\n",
       "      <td>3.0</td>\n",
       "      <td>3.0</td>\n",
       "      <td>2.0</td>\n",
       "    </tr>\n",
       "    <tr>\n",
       "      <th>3</th>\n",
       "      <td>6 bedroom detached duplex for sale</td>\n",
       "      <td>Pinnock Beach Estate, Osapa, Lekki, Lagos</td>\n",
       "      <td>₦1,500,000,000</td>\n",
       "      <td>6.0</td>\n",
       "      <td>7.0</td>\n",
       "      <td>7.0</td>\n",
       "      <td>NaN</td>\n",
       "    </tr>\n",
       "    <tr>\n",
       "      <th>4</th>\n",
       "      <td>5 bedroom detached duplex for sale</td>\n",
       "      <td>Osapa, Lekki, Lagos</td>\n",
       "      <td>₦350,000,000</td>\n",
       "      <td>5.0</td>\n",
       "      <td>5.0</td>\n",
       "      <td>6.0</td>\n",
       "      <td>NaN</td>\n",
       "    </tr>\n",
       "    <tr>\n",
       "      <th>...</th>\n",
       "      <td>...</td>\n",
       "      <td>...</td>\n",
       "      <td>...</td>\n",
       "      <td>...</td>\n",
       "      <td>...</td>\n",
       "      <td>...</td>\n",
       "      <td>...</td>\n",
       "    </tr>\n",
       "    <tr>\n",
       "      <th>80684</th>\n",
       "      <td>2 bedroom flat / apartment for sale</td>\n",
       "      <td>Donatus Odum Street, Seagate Estate, Ikate Ele...</td>\n",
       "      <td>₦130,000,000</td>\n",
       "      <td>2.0</td>\n",
       "      <td>2.0</td>\n",
       "      <td>3.0</td>\n",
       "      <td>2.0</td>\n",
       "    </tr>\n",
       "    <tr>\n",
       "      <th>80685</th>\n",
       "      <td>6 bedroom detached duplex for sale</td>\n",
       "      <td>Apo, Abuja</td>\n",
       "      <td>₦570,000,000</td>\n",
       "      <td>6.0</td>\n",
       "      <td>7.0</td>\n",
       "      <td>7.0</td>\n",
       "      <td>10.0</td>\n",
       "    </tr>\n",
       "    <tr>\n",
       "      <th>80686</th>\n",
       "      <td>4 bedroom terraced duplex for sale</td>\n",
       "      <td>Plot 134, Ayodele Odubiyi Street, Pinnacle Gas...</td>\n",
       "      <td>₦1,200,000,000</td>\n",
       "      <td>4.0</td>\n",
       "      <td>16.0</td>\n",
       "      <td>20.0</td>\n",
       "      <td>12.0</td>\n",
       "    </tr>\n",
       "    <tr>\n",
       "      <th>80687</th>\n",
       "      <td>3 bedroom flat / apartment for sale</td>\n",
       "      <td>Off Oladipo Diya Road, Gaduwa, Abuja</td>\n",
       "      <td>₦180,000,000</td>\n",
       "      <td>3.0</td>\n",
       "      <td>3.0</td>\n",
       "      <td>4.0</td>\n",
       "      <td>2.0</td>\n",
       "    </tr>\n",
       "    <tr>\n",
       "      <th>80688</th>\n",
       "      <td>5 bedroom detached duplex for sale</td>\n",
       "      <td>3rd Avenue, Banana Island, Ikoyi, Lagos</td>\n",
       "      <td>$4,000,000</td>\n",
       "      <td>5.0</td>\n",
       "      <td>5.0</td>\n",
       "      <td>6.0</td>\n",
       "      <td>NaN</td>\n",
       "    </tr>\n",
       "  </tbody>\n",
       "</table>\n",
       "<p>80689 rows × 7 columns</p>\n",
       "</div>"
      ],
      "text/plain": [
       "                             type_of_house  \\\n",
       "0       5 bedroom detached duplex for sale   \n",
       "1       4 bedroom detached duplex for sale   \n",
       "2        3 bedroom block of flats for sale   \n",
       "3       6 bedroom detached duplex for sale   \n",
       "4       5 bedroom detached duplex for sale   \n",
       "...                                    ...   \n",
       "80684  2 bedroom flat / apartment for sale   \n",
       "80685   6 bedroom detached duplex for sale   \n",
       "80686   4 bedroom terraced duplex for sale   \n",
       "80687  3 bedroom flat / apartment for sale   \n",
       "80688   5 bedroom detached duplex for sale   \n",
       "\n",
       "                                                location           price  \\\n",
       "0                                    Ikate, Lekki, Lagos    ₦750,000,000   \n",
       "1                       Oral Estate, Ikota, Lekki, Lagos    ₦180,000,000   \n",
       "2                        Gra Estate, Abijo, Lekki, Lagos     ₦85,000,000   \n",
       "3              Pinnock Beach Estate, Osapa, Lekki, Lagos  ₦1,500,000,000   \n",
       "4                                    Osapa, Lekki, Lagos    ₦350,000,000   \n",
       "...                                                  ...             ...   \n",
       "80684  Donatus Odum Street, Seagate Estate, Ikate Ele...    ₦130,000,000   \n",
       "80685                                         Apo, Abuja    ₦570,000,000   \n",
       "80686  Plot 134, Ayodele Odubiyi Street, Pinnacle Gas...  ₦1,200,000,000   \n",
       "80687               Off Oladipo Diya Road, Gaduwa, Abuja    ₦180,000,000   \n",
       "80688            3rd Avenue, Banana Island, Ikoyi, Lagos      $4,000,000   \n",
       "\n",
       "       bedrooms  bathrooms  toilets  parking_space  \n",
       "0           5.0        5.0      6.0            NaN  \n",
       "1           4.0        5.0      5.0            NaN  \n",
       "2           3.0        3.0      3.0            2.0  \n",
       "3           6.0        7.0      7.0            NaN  \n",
       "4           5.0        5.0      6.0            NaN  \n",
       "...         ...        ...      ...            ...  \n",
       "80684       2.0        2.0      3.0            2.0  \n",
       "80685       6.0        7.0      7.0           10.0  \n",
       "80686       4.0       16.0     20.0           12.0  \n",
       "80687       3.0        3.0      4.0            2.0  \n",
       "80688       5.0        5.0      6.0            NaN  \n",
       "\n",
       "[80689 rows x 7 columns]"
      ]
     },
     "execution_count": 3,
     "metadata": {},
     "output_type": "execute_result"
    }
   ],
   "source": [
    "data"
   ]
  },
  {
   "cell_type": "code",
   "execution_count": 5,
   "metadata": {},
   "outputs": [
    {
     "data": {
      "text/plain": [
       "(80689, 7)"
      ]
     },
     "execution_count": 5,
     "metadata": {},
     "output_type": "execute_result"
    }
   ],
   "source": [
    "data.shape"
   ]
  },
  {
   "cell_type": "code",
   "execution_count": 6,
   "metadata": {},
   "outputs": [
    {
     "name": "stdout",
     "output_type": "stream",
     "text": [
      "<class 'pandas.core.frame.DataFrame'>\n",
      "RangeIndex: 80689 entries, 0 to 80688\n",
      "Data columns (total 7 columns):\n",
      " #   Column         Non-Null Count  Dtype  \n",
      "---  ------         --------------  -----  \n",
      " 0   type_of_house  80689 non-null  object \n",
      " 1   location       80689 non-null  object \n",
      " 2   price          80689 non-null  object \n",
      " 3   bedrooms       58725 non-null  float64\n",
      " 4   bathrooms      51543 non-null  float64\n",
      " 5   toilets        53044 non-null  float64\n",
      " 6   parking_space  33765 non-null  float64\n",
      "dtypes: float64(4), object(3)\n",
      "memory usage: 4.3+ MB\n"
     ]
    }
   ],
   "source": [
    "data.info()"
   ]
  },
  {
   "cell_type": "code",
   "execution_count": 7,
   "metadata": {},
   "outputs": [
    {
     "data": {
      "application/vnd.microsoft.datawrangler.viewer.v0+json": {
       "columns": [
        {
         "name": "index",
         "rawType": "object",
         "type": "string"
        },
        {
         "name": "bedrooms",
         "rawType": "float64",
         "type": "float"
        },
        {
         "name": "bathrooms",
         "rawType": "float64",
         "type": "float"
        },
        {
         "name": "toilets",
         "rawType": "float64",
         "type": "float"
        },
        {
         "name": "parking_space",
         "rawType": "float64",
         "type": "float"
        }
       ],
       "conversionMethod": "pd.DataFrame",
       "ref": "090cf8cd-cc1d-4b56-b25c-0aa89cb5239a",
       "rows": [
        [
         "count",
         "58725.0",
         "51543.0",
         "53044.0",
         "33765.0"
        ],
        [
         "mean",
         "4.9829374201788",
         "4.794288264167783",
         "5.511292511876932",
         "93.36010661928032"
        ],
        [
         "std",
         "85.14171553587154",
         "19.13062742409032",
         "11.537306616214451",
         "6027.323821154247"
        ],
        [
         "min",
         "1.0",
         "1.0",
         "1.0",
         "1.0"
        ],
        [
         "25%",
         "3.0",
         "3.0",
         "4.0",
         "3.0"
        ],
        [
         "50%",
         "4.0",
         "4.0",
         "5.0",
         "4.0"
        ],
        [
         "75%",
         "5.0",
         "5.0",
         "6.0",
         "5.0"
        ],
        [
         "max",
         "20540.0",
         "3157.0",
         "2000.0",
         "1000000.0"
        ]
       ],
       "shape": {
        "columns": 4,
        "rows": 8
       }
      },
      "text/html": [
       "<div>\n",
       "<style scoped>\n",
       "    .dataframe tbody tr th:only-of-type {\n",
       "        vertical-align: middle;\n",
       "    }\n",
       "\n",
       "    .dataframe tbody tr th {\n",
       "        vertical-align: top;\n",
       "    }\n",
       "\n",
       "    .dataframe thead th {\n",
       "        text-align: right;\n",
       "    }\n",
       "</style>\n",
       "<table border=\"1\" class=\"dataframe\">\n",
       "  <thead>\n",
       "    <tr style=\"text-align: right;\">\n",
       "      <th></th>\n",
       "      <th>bedrooms</th>\n",
       "      <th>bathrooms</th>\n",
       "      <th>toilets</th>\n",
       "      <th>parking_space</th>\n",
       "    </tr>\n",
       "  </thead>\n",
       "  <tbody>\n",
       "    <tr>\n",
       "      <th>count</th>\n",
       "      <td>58725.000000</td>\n",
       "      <td>51543.000000</td>\n",
       "      <td>53044.000000</td>\n",
       "      <td>33765.000000</td>\n",
       "    </tr>\n",
       "    <tr>\n",
       "      <th>mean</th>\n",
       "      <td>4.982937</td>\n",
       "      <td>4.794288</td>\n",
       "      <td>5.511293</td>\n",
       "      <td>93.360107</td>\n",
       "    </tr>\n",
       "    <tr>\n",
       "      <th>std</th>\n",
       "      <td>85.141716</td>\n",
       "      <td>19.130627</td>\n",
       "      <td>11.537307</td>\n",
       "      <td>6027.323821</td>\n",
       "    </tr>\n",
       "    <tr>\n",
       "      <th>min</th>\n",
       "      <td>1.000000</td>\n",
       "      <td>1.000000</td>\n",
       "      <td>1.000000</td>\n",
       "      <td>1.000000</td>\n",
       "    </tr>\n",
       "    <tr>\n",
       "      <th>25%</th>\n",
       "      <td>3.000000</td>\n",
       "      <td>3.000000</td>\n",
       "      <td>4.000000</td>\n",
       "      <td>3.000000</td>\n",
       "    </tr>\n",
       "    <tr>\n",
       "      <th>50%</th>\n",
       "      <td>4.000000</td>\n",
       "      <td>4.000000</td>\n",
       "      <td>5.000000</td>\n",
       "      <td>4.000000</td>\n",
       "    </tr>\n",
       "    <tr>\n",
       "      <th>75%</th>\n",
       "      <td>5.000000</td>\n",
       "      <td>5.000000</td>\n",
       "      <td>6.000000</td>\n",
       "      <td>5.000000</td>\n",
       "    </tr>\n",
       "    <tr>\n",
       "      <th>max</th>\n",
       "      <td>20540.000000</td>\n",
       "      <td>3157.000000</td>\n",
       "      <td>2000.000000</td>\n",
       "      <td>1000000.000000</td>\n",
       "    </tr>\n",
       "  </tbody>\n",
       "</table>\n",
       "</div>"
      ],
      "text/plain": [
       "           bedrooms     bathrooms       toilets   parking_space\n",
       "count  58725.000000  51543.000000  53044.000000    33765.000000\n",
       "mean       4.982937      4.794288      5.511293       93.360107\n",
       "std       85.141716     19.130627     11.537307     6027.323821\n",
       "min        1.000000      1.000000      1.000000        1.000000\n",
       "25%        3.000000      3.000000      4.000000        3.000000\n",
       "50%        4.000000      4.000000      5.000000        4.000000\n",
       "75%        5.000000      5.000000      6.000000        5.000000\n",
       "max    20540.000000   3157.000000   2000.000000  1000000.000000"
      ]
     },
     "execution_count": 7,
     "metadata": {},
     "output_type": "execute_result"
    }
   ],
   "source": [
    "data.describe()"
   ]
  },
  {
   "cell_type": "markdown",
   "metadata": {},
   "source": [
    "### Data Cleaning and Normalization"
   ]
  },
  {
   "cell_type": "markdown",
   "metadata": {},
   "source": [
    "Firstly, it would be more suitable to pull out the `state` and `town` from the location column"
   ]
  },
  {
   "cell_type": "code",
   "execution_count": 43,
   "metadata": {},
   "outputs": [
    {
     "data": {
      "text/plain": [
       "location\n",
       " Lekki          26624\n",
       " Ajah            4868\n",
       " Ikeja           4322\n",
       " Ikoyi           4217\n",
       "Ajah             2926\n",
       "                ...  \n",
       "Uruan               1\n",
       " Ikot Ekpene        1\n",
       " Awgu               1\n",
       " Ilesa East         1\n",
       " Idemili            1\n",
       "Name: count, Length: 448, dtype: int64"
      ]
     },
     "execution_count": 43,
     "metadata": {},
     "output_type": "execute_result"
    }
   ],
   "source": [
    "data[\"location\"].str.split(\",\").str[-2].value_counts()"
   ]
  },
  {
   "cell_type": "code",
   "execution_count": 44,
   "metadata": {},
   "outputs": [
    {
     "data": {
      "application/vnd.microsoft.datawrangler.viewer.v0+json": {
       "columns": [
        {
         "name": "index",
         "rawType": "int64",
         "type": "integer"
        },
        {
         "name": "type_of_house",
         "rawType": "object",
         "type": "string"
        },
        {
         "name": "location",
         "rawType": "object",
         "type": "string"
        },
        {
         "name": "price",
         "rawType": "object",
         "type": "string"
        },
        {
         "name": "bedrooms",
         "rawType": "float64",
         "type": "float"
        },
        {
         "name": "bathrooms",
         "rawType": "float64",
         "type": "float"
        },
        {
         "name": "toilets",
         "rawType": "float64",
         "type": "float"
        },
        {
         "name": "parking_space",
         "rawType": "float64",
         "type": "float"
        },
        {
         "name": "town",
         "rawType": "object",
         "type": "string"
        },
        {
         "name": "state",
         "rawType": "object",
         "type": "string"
        }
       ],
       "conversionMethod": "pd.DataFrame",
       "ref": "83fac2d9-d8b2-415e-add6-d652c6d31a42",
       "rows": [
        [
         "6048",
         "Filling station for sale",
         "Hammadiyah B/stop, lagos-abeokuta Express, Agege, Lagos",
         "₦600,000,000",
         null,
         null,
         null,
         null,
         "Agege",
         "Lagos"
        ],
        [
         "10090",
         "Commercial property for sale",
         "Ibadan-lagos Express Way, Ojodu Berger, Ojodu, Lagos",
         "₦750,000,000",
         null,
         null,
         null,
         null,
         "Ojodu",
         "Lagos"
        ],
        [
         "18118",
         "Residential land for sale",
         "Beside First Technical University, lagos Express, Ibadan, Oyo",
         "₦25,000,000",
         null,
         null,
         null,
         null,
         "Ibadan",
         "Oyo"
        ],
        [
         "23022",
         "5 bedroom detached duplex for sale",
         "Osapa, lekki, lagos, Osapa, Lekki, Lagos",
         "₦300,000,000",
         "5.0",
         "5.0",
         "6.0",
         "3.0",
         "Lekki",
         "Lagos"
        ],
        [
         "27831",
         "5 bedroom detached duplex for sale",
         "Orchid Hotel Road, lagos Ocean Bay Estate, Lekki, Lagos",
         "₦380,000,000",
         "5.0",
         "5.0",
         "6.0",
         "3.0",
         "Lekki",
         "Lagos"
        ],
        [
         "31112",
         "4 bedroom detached duplex for sale",
         "Ajah, lagos, Ajah, Lagos",
         "₦120,000,000",
         "4.0",
         "5.0",
         "5.0",
         "3.0",
         "Ajah",
         "Lagos"
        ],
        [
         "37586",
         "12 bedroom house for sale",
         "Isihor Egbaen, Off Ugbowo-lagos Road, Benin, Oredo, Edo",
         "₦50,000,000",
         "12.0",
         null,
         null,
         null,
         "Oredo",
         "Edo"
        ],
        [
         "53401",
         "Industrial land for sale",
         "Km 8, Abeokuta-lagos Expressway, Ile-ise Awo Bus-stop, Abeokuta North, Ogun",
         "₦100,000,000",
         null,
         null,
         null,
         null,
         "Abeokuta North",
         "Ogun"
        ],
        [
         "53911",
         "Land for sale",
         "Close To Oke Ogun Tennis Mins Off Abeokuta-lagos Road And Ace Mall, Iseyin, Oyo",
         "₦900,000",
         null,
         null,
         null,
         null,
         "Iseyin",
         "Oyo"
        ],
        [
         "56077",
         "Land for sale",
         "Few Mins Off Abeokuta-lagos Road Close To Ace Mall And Saf Polytechnic, Iseyin, Oyo",
         "₦900,000",
         null,
         null,
         null,
         null,
         "Iseyin",
         "Oyo"
        ],
        [
         "56553",
         "Land for sale",
         "Ogere, lagos Ibadan Express Way., Ojodu Berger, Ojodu, Lagos",
         "₦60,000,000",
         null,
         null,
         null,
         null,
         "Ojodu",
         "Lagos"
        ],
        [
         "63936",
         "Commercial land for sale",
         "Along Abeokuta-lagos Road, Ado-awaye, Iseyin, Oyo",
         "₦900,000",
         null,
         null,
         null,
         null,
         "Iseyin",
         "Oyo"
        ],
        [
         "70913",
         "4 bedroom semi-detached duplex for sale",
         "Ikate, lekki, lagos, Ikate, Lekki, Lagos",
         "₦110,000,000",
         "4.0",
         "4.0",
         "5.0",
         "2.0",
         "Lekki",
         "Lagos"
        ],
        [
         "78298",
         "Mixed-use land for sale",
         "New Garage/lagos Ibadan Roundabout, Ibadan, Oyo",
         "₦40,000,000",
         null,
         null,
         null,
         null,
         "Ibadan",
         "Oyo"
        ],
        [
         "78983",
         "4 bedroom detached duplex for sale",
         "Gateway Zone Magodo Gra Phase 1lagos, GRA Phase 1, Magodo, Lagos",
         "₦180,000,000",
         "4.0",
         "4.0",
         "5.0",
         "5.0",
         "Magodo",
         "Lagos"
        ]
       ],
       "shape": {
        "columns": 9,
        "rows": 15
       }
      },
      "text/html": [
       "<div>\n",
       "<style scoped>\n",
       "    .dataframe tbody tr th:only-of-type {\n",
       "        vertical-align: middle;\n",
       "    }\n",
       "\n",
       "    .dataframe tbody tr th {\n",
       "        vertical-align: top;\n",
       "    }\n",
       "\n",
       "    .dataframe thead th {\n",
       "        text-align: right;\n",
       "    }\n",
       "</style>\n",
       "<table border=\"1\" class=\"dataframe\">\n",
       "  <thead>\n",
       "    <tr style=\"text-align: right;\">\n",
       "      <th></th>\n",
       "      <th>type_of_house</th>\n",
       "      <th>location</th>\n",
       "      <th>price</th>\n",
       "      <th>bedrooms</th>\n",
       "      <th>bathrooms</th>\n",
       "      <th>toilets</th>\n",
       "      <th>parking_space</th>\n",
       "      <th>town</th>\n",
       "      <th>state</th>\n",
       "    </tr>\n",
       "  </thead>\n",
       "  <tbody>\n",
       "    <tr>\n",
       "      <th>6048</th>\n",
       "      <td>Filling station for sale</td>\n",
       "      <td>Hammadiyah B/stop, lagos-abeokuta Express, Age...</td>\n",
       "      <td>₦600,000,000</td>\n",
       "      <td>NaN</td>\n",
       "      <td>NaN</td>\n",
       "      <td>NaN</td>\n",
       "      <td>NaN</td>\n",
       "      <td>Agege</td>\n",
       "      <td>Lagos</td>\n",
       "    </tr>\n",
       "    <tr>\n",
       "      <th>10090</th>\n",
       "      <td>Commercial property for sale</td>\n",
       "      <td>Ibadan-lagos Express Way, Ojodu Berger, Ojodu,...</td>\n",
       "      <td>₦750,000,000</td>\n",
       "      <td>NaN</td>\n",
       "      <td>NaN</td>\n",
       "      <td>NaN</td>\n",
       "      <td>NaN</td>\n",
       "      <td>Ojodu</td>\n",
       "      <td>Lagos</td>\n",
       "    </tr>\n",
       "    <tr>\n",
       "      <th>18118</th>\n",
       "      <td>Residential land for sale</td>\n",
       "      <td>Beside First Technical University, lagos Expre...</td>\n",
       "      <td>₦25,000,000</td>\n",
       "      <td>NaN</td>\n",
       "      <td>NaN</td>\n",
       "      <td>NaN</td>\n",
       "      <td>NaN</td>\n",
       "      <td>Ibadan</td>\n",
       "      <td>Oyo</td>\n",
       "    </tr>\n",
       "    <tr>\n",
       "      <th>23022</th>\n",
       "      <td>5 bedroom detached duplex for sale</td>\n",
       "      <td>Osapa, lekki, lagos, Osapa, Lekki, Lagos</td>\n",
       "      <td>₦300,000,000</td>\n",
       "      <td>5.0</td>\n",
       "      <td>5.0</td>\n",
       "      <td>6.0</td>\n",
       "      <td>3.0</td>\n",
       "      <td>Lekki</td>\n",
       "      <td>Lagos</td>\n",
       "    </tr>\n",
       "    <tr>\n",
       "      <th>27831</th>\n",
       "      <td>5 bedroom detached duplex for sale</td>\n",
       "      <td>Orchid Hotel Road, lagos Ocean Bay Estate, Lek...</td>\n",
       "      <td>₦380,000,000</td>\n",
       "      <td>5.0</td>\n",
       "      <td>5.0</td>\n",
       "      <td>6.0</td>\n",
       "      <td>3.0</td>\n",
       "      <td>Lekki</td>\n",
       "      <td>Lagos</td>\n",
       "    </tr>\n",
       "    <tr>\n",
       "      <th>31112</th>\n",
       "      <td>4 bedroom detached duplex for sale</td>\n",
       "      <td>Ajah, lagos, Ajah, Lagos</td>\n",
       "      <td>₦120,000,000</td>\n",
       "      <td>4.0</td>\n",
       "      <td>5.0</td>\n",
       "      <td>5.0</td>\n",
       "      <td>3.0</td>\n",
       "      <td>Ajah</td>\n",
       "      <td>Lagos</td>\n",
       "    </tr>\n",
       "    <tr>\n",
       "      <th>37586</th>\n",
       "      <td>12 bedroom house for sale</td>\n",
       "      <td>Isihor Egbaen, Off Ugbowo-lagos Road, Benin, O...</td>\n",
       "      <td>₦50,000,000</td>\n",
       "      <td>12.0</td>\n",
       "      <td>NaN</td>\n",
       "      <td>NaN</td>\n",
       "      <td>NaN</td>\n",
       "      <td>Oredo</td>\n",
       "      <td>Edo</td>\n",
       "    </tr>\n",
       "    <tr>\n",
       "      <th>53401</th>\n",
       "      <td>Industrial land for sale</td>\n",
       "      <td>Km 8, Abeokuta-lagos Expressway, Ile-ise Awo B...</td>\n",
       "      <td>₦100,000,000</td>\n",
       "      <td>NaN</td>\n",
       "      <td>NaN</td>\n",
       "      <td>NaN</td>\n",
       "      <td>NaN</td>\n",
       "      <td>Abeokuta North</td>\n",
       "      <td>Ogun</td>\n",
       "    </tr>\n",
       "    <tr>\n",
       "      <th>53911</th>\n",
       "      <td>Land for sale</td>\n",
       "      <td>Close To Oke Ogun Tennis Mins Off Abeokuta-lag...</td>\n",
       "      <td>₦900,000</td>\n",
       "      <td>NaN</td>\n",
       "      <td>NaN</td>\n",
       "      <td>NaN</td>\n",
       "      <td>NaN</td>\n",
       "      <td>Iseyin</td>\n",
       "      <td>Oyo</td>\n",
       "    </tr>\n",
       "    <tr>\n",
       "      <th>56077</th>\n",
       "      <td>Land for sale</td>\n",
       "      <td>Few Mins Off Abeokuta-lagos Road Close To Ace ...</td>\n",
       "      <td>₦900,000</td>\n",
       "      <td>NaN</td>\n",
       "      <td>NaN</td>\n",
       "      <td>NaN</td>\n",
       "      <td>NaN</td>\n",
       "      <td>Iseyin</td>\n",
       "      <td>Oyo</td>\n",
       "    </tr>\n",
       "    <tr>\n",
       "      <th>56553</th>\n",
       "      <td>Land for sale</td>\n",
       "      <td>Ogere, lagos Ibadan Express Way., Ojodu Berger...</td>\n",
       "      <td>₦60,000,000</td>\n",
       "      <td>NaN</td>\n",
       "      <td>NaN</td>\n",
       "      <td>NaN</td>\n",
       "      <td>NaN</td>\n",
       "      <td>Ojodu</td>\n",
       "      <td>Lagos</td>\n",
       "    </tr>\n",
       "    <tr>\n",
       "      <th>63936</th>\n",
       "      <td>Commercial land for sale</td>\n",
       "      <td>Along Abeokuta-lagos Road, Ado-awaye, Iseyin, Oyo</td>\n",
       "      <td>₦900,000</td>\n",
       "      <td>NaN</td>\n",
       "      <td>NaN</td>\n",
       "      <td>NaN</td>\n",
       "      <td>NaN</td>\n",
       "      <td>Iseyin</td>\n",
       "      <td>Oyo</td>\n",
       "    </tr>\n",
       "    <tr>\n",
       "      <th>70913</th>\n",
       "      <td>4 bedroom semi-detached duplex for sale</td>\n",
       "      <td>Ikate, lekki, lagos, Ikate, Lekki, Lagos</td>\n",
       "      <td>₦110,000,000</td>\n",
       "      <td>4.0</td>\n",
       "      <td>4.0</td>\n",
       "      <td>5.0</td>\n",
       "      <td>2.0</td>\n",
       "      <td>Lekki</td>\n",
       "      <td>Lagos</td>\n",
       "    </tr>\n",
       "    <tr>\n",
       "      <th>78298</th>\n",
       "      <td>Mixed-use land for sale</td>\n",
       "      <td>New Garage/lagos Ibadan Roundabout, Ibadan, Oyo</td>\n",
       "      <td>₦40,000,000</td>\n",
       "      <td>NaN</td>\n",
       "      <td>NaN</td>\n",
       "      <td>NaN</td>\n",
       "      <td>NaN</td>\n",
       "      <td>Ibadan</td>\n",
       "      <td>Oyo</td>\n",
       "    </tr>\n",
       "    <tr>\n",
       "      <th>78983</th>\n",
       "      <td>4 bedroom detached duplex for sale</td>\n",
       "      <td>Gateway Zone Magodo Gra Phase 1lagos, GRA Phas...</td>\n",
       "      <td>₦180,000,000</td>\n",
       "      <td>4.0</td>\n",
       "      <td>4.0</td>\n",
       "      <td>5.0</td>\n",
       "      <td>5.0</td>\n",
       "      <td>Magodo</td>\n",
       "      <td>Lagos</td>\n",
       "    </tr>\n",
       "  </tbody>\n",
       "</table>\n",
       "</div>"
      ],
      "text/plain": [
       "                                 type_of_house  \\\n",
       "6048                  Filling station for sale   \n",
       "10090             Commercial property for sale   \n",
       "18118                Residential land for sale   \n",
       "23022       5 bedroom detached duplex for sale   \n",
       "27831       5 bedroom detached duplex for sale   \n",
       "31112       4 bedroom detached duplex for sale   \n",
       "37586                12 bedroom house for sale   \n",
       "53401                 Industrial land for sale   \n",
       "53911                            Land for sale   \n",
       "56077                            Land for sale   \n",
       "56553                            Land for sale   \n",
       "63936                 Commercial land for sale   \n",
       "70913  4 bedroom semi-detached duplex for sale   \n",
       "78298                  Mixed-use land for sale   \n",
       "78983       4 bedroom detached duplex for sale   \n",
       "\n",
       "                                                location         price  \\\n",
       "6048   Hammadiyah B/stop, lagos-abeokuta Express, Age...  ₦600,000,000   \n",
       "10090  Ibadan-lagos Express Way, Ojodu Berger, Ojodu,...  ₦750,000,000   \n",
       "18118  Beside First Technical University, lagos Expre...   ₦25,000,000   \n",
       "23022           Osapa, lekki, lagos, Osapa, Lekki, Lagos  ₦300,000,000   \n",
       "27831  Orchid Hotel Road, lagos Ocean Bay Estate, Lek...  ₦380,000,000   \n",
       "31112                           Ajah, lagos, Ajah, Lagos  ₦120,000,000   \n",
       "37586  Isihor Egbaen, Off Ugbowo-lagos Road, Benin, O...   ₦50,000,000   \n",
       "53401  Km 8, Abeokuta-lagos Expressway, Ile-ise Awo B...  ₦100,000,000   \n",
       "53911  Close To Oke Ogun Tennis Mins Off Abeokuta-lag...      ₦900,000   \n",
       "56077  Few Mins Off Abeokuta-lagos Road Close To Ace ...      ₦900,000   \n",
       "56553  Ogere, lagos Ibadan Express Way., Ojodu Berger...   ₦60,000,000   \n",
       "63936  Along Abeokuta-lagos Road, Ado-awaye, Iseyin, Oyo      ₦900,000   \n",
       "70913           Ikate, lekki, lagos, Ikate, Lekki, Lagos  ₦110,000,000   \n",
       "78298    New Garage/lagos Ibadan Roundabout, Ibadan, Oyo   ₦40,000,000   \n",
       "78983  Gateway Zone Magodo Gra Phase 1lagos, GRA Phas...  ₦180,000,000   \n",
       "\n",
       "       bedrooms  bathrooms  toilets  parking_space            town  state  \n",
       "6048        NaN        NaN      NaN            NaN           Agege  Lagos  \n",
       "10090       NaN        NaN      NaN            NaN           Ojodu  Lagos  \n",
       "18118       NaN        NaN      NaN            NaN          Ibadan    Oyo  \n",
       "23022       5.0        5.0      6.0            3.0           Lekki  Lagos  \n",
       "27831       5.0        5.0      6.0            3.0           Lekki  Lagos  \n",
       "31112       4.0        5.0      5.0            3.0            Ajah  Lagos  \n",
       "37586      12.0        NaN      NaN            NaN           Oredo    Edo  \n",
       "53401       NaN        NaN      NaN            NaN  Abeokuta North   Ogun  \n",
       "53911       NaN        NaN      NaN            NaN          Iseyin    Oyo  \n",
       "56077       NaN        NaN      NaN            NaN          Iseyin    Oyo  \n",
       "56553       NaN        NaN      NaN            NaN           Ojodu  Lagos  \n",
       "63936       NaN        NaN      NaN            NaN          Iseyin    Oyo  \n",
       "70913       4.0        4.0      5.0            2.0           Lekki  Lagos  \n",
       "78298       NaN        NaN      NaN            NaN          Ibadan    Oyo  \n",
       "78983       4.0        4.0      5.0            5.0          Magodo  Lagos  "
      ]
     },
     "execution_count": 44,
     "metadata": {},
     "output_type": "execute_result"
    }
   ],
   "source": [
    "data[data[\"location\"].str.contains(\"lagos\")]"
   ]
  },
  {
   "cell_type": "code",
   "execution_count": 45,
   "metadata": {},
   "outputs": [],
   "source": [
    "# To reomove all white spaces\n",
    "data[\"location\"] = data[\"location\"].str.strip().replace(r'\\s+', ' ', regex=True)\n",
    "data[\"location\"] = data[\"location\"].str.replace(r'\\s*,\\s*', ', ', regex=True)"
   ]
  },
  {
   "cell_type": "code",
   "execution_count": 46,
   "metadata": {},
   "outputs": [],
   "source": [
    "def split_location(location):\n",
    "    \"\"\"Splits location into state and town.\"\"\"\n",
    "    try:\n",
    "        parts = location.rsplit(\",\", 2)  # Split from right, max 2 splits\n",
    "        state = parts[-1].strip()\n",
    "        town = parts[-2].strip()\n",
    "        return state, town\n",
    "    except IndexError:\n",
    "        # Handle cases with missing state or town\n",
    "        return None, None"
   ]
  },
  {
   "cell_type": "markdown",
   "metadata": {},
   "source": [
    "This line of code takes the `location` column, applies the split_location function to extract the state and town into tuples, unpacks those tuples into separate columns using pd.Series, and then assigns those columns to the \"state\" and \"town\" columns of the original DataFrame data."
   ]
  },
  {
   "cell_type": "code",
   "execution_count": 47,
   "metadata": {},
   "outputs": [],
   "source": [
    "data[[\"state\", \"town\"]] = data[\"location\"].apply(split_location).apply(pd.Series)"
   ]
  },
  {
   "cell_type": "code",
   "execution_count": null,
   "metadata": {},
   "outputs": [],
   "source": []
  }
 ],
 "metadata": {
  "kernelspec": {
   "display_name": "base",
   "language": "python",
   "name": "python3"
  },
  "language_info": {
   "codemirror_mode": {
    "name": "ipython",
    "version": 3
   },
   "file_extension": ".py",
   "mimetype": "text/x-python",
   "name": "python",
   "nbconvert_exporter": "python",
   "pygments_lexer": "ipython3",
   "version": "3.12.3"
  }
 },
 "nbformat": 4,
 "nbformat_minor": 2
}
