{
 "cells": [
  {
   "cell_type": "code",
   "execution_count": 597,
   "metadata": {},
   "outputs": [],
   "source": [
    "import pandas as pd\n",
    "import matplotlib.pyplot as plt\n",
    "import numpy as np\n",
    "from sklearn.ensemble import RandomForestRegressor\n",
    "from sklearn.linear_model import LinearRegression\n",
    "from sklearn.model_selection import train_test_split\n",
    "from sklearn.metrics import root_mean_squared_error, mean_absolute_error, mean_squared_error, r2_score, accuracy_score\n",
    "import seaborn as sns\n",
    "from sklearn.preprocessing import StandardScaler, MinMaxScaler, LabelEncoder\n",
    "sns.set_style(\"whitegrid\")"
   ]
  },
  {
   "cell_type": "code",
   "execution_count": 598,
   "metadata": {},
   "outputs": [],
   "source": [
    "data = pd.read_csv(\"results/properties.csv\")"
   ]
  },
  {
   "cell_type": "code",
   "execution_count": 599,
   "metadata": {},
   "outputs": [
    {
     "data": {
      "application/vnd.microsoft.datawrangler.viewer.v0+json": {
       "columns": [
        {
         "name": "index",
         "rawType": "int64",
         "type": "integer"
        },
        {
         "name": "type_of_house",
         "rawType": "object",
         "type": "string"
        },
        {
         "name": "location",
         "rawType": "object",
         "type": "string"
        },
        {
         "name": "price",
         "rawType": "object",
         "type": "string"
        },
        {
         "name": "bedrooms",
         "rawType": "float64",
         "type": "float"
        },
        {
         "name": "bathrooms",
         "rawType": "float64",
         "type": "float"
        },
        {
         "name": "toilets",
         "rawType": "float64",
         "type": "float"
        },
        {
         "name": "parking_space",
         "rawType": "float64",
         "type": "float"
        }
       ],
       "conversionMethod": "pd.DataFrame",
       "ref": "6d620916-23a3-4fa9-86ba-242f7bc210d5",
       "rows": [
        [
         "0",
         "5 bedroom detached duplex for sale",
         "Ikate, Lekki, Lagos",
         "₦750,000,000",
         "5.0",
         "5.0",
         "6.0",
         null
        ],
        [
         "1",
         "4 bedroom detached duplex for sale",
         "Oral Estate, Ikota, Lekki, Lagos",
         "₦180,000,000",
         "4.0",
         "5.0",
         "5.0",
         null
        ],
        [
         "2",
         "3 bedroom block of flats for sale",
         "Gra Estate, Abijo, Lekki, Lagos",
         "₦85,000,000",
         "3.0",
         "3.0",
         "3.0",
         "2.0"
        ],
        [
         "3",
         "6 bedroom detached duplex for sale",
         "Pinnock Beach Estate, Osapa, Lekki, Lagos",
         "₦1,500,000,000",
         "6.0",
         "7.0",
         "7.0",
         null
        ],
        [
         "4",
         "5 bedroom detached duplex for sale",
         "Osapa, Lekki, Lagos",
         "₦350,000,000",
         "5.0",
         "5.0",
         "6.0",
         null
        ],
        [
         "5",
         "5 bedroom detached duplex for sale",
         "Arcadia Grove Estate, Osapa, Lekki, Lagos",
         "₦800,000,000",
         "5.0",
         "5.0",
         "6.0",
         null
        ],
        [
         "6",
         "5 bedroom detached duplex for sale",
         "Lekki Phase 1, Lekki, Lagos",
         "₦650,000,000",
         "5.0",
         "5.0",
         "6.0",
         null
        ],
        [
         "7",
         "6 bedroom detached duplex for sale",
         "Lekki Phase 1, Lekki, Lagos",
         "₦1,600,000,000",
         "6.0",
         "6.0",
         "7.0",
         "8.0"
        ],
        [
         "8",
         "4 bedroom detached duplex for sale",
         "Banana Island, Ikoyi, Lagos",
         "₦3,500,000,000",
         "4.0",
         "4.0",
         "5.0",
         null
        ],
        [
         "9",
         "Residential land for sale",
         "Calmberwall Estate Lekki Ajah Abijo, Ajah, Lagos",
         "₦45,000,000",
         null,
         null,
         null,
         null
        ],
        [
         "10",
         "4 bedroom semi-detached duplex for sale",
         "Ajah, Lagos",
         "₦105,000,000",
         "4.0",
         "4.0",
         "5.0",
         null
        ],
        [
         "11",
         "5 bedroom detached duplex for sale",
         "Royal Garden Estate, Ajah, Lagos",
         "₦650,000,000",
         "5.0",
         "5.0",
         "6.0",
         null
        ],
        [
         "12",
         "Residential land for sale",
         "Beechwood Estate, Bogije, Ibeju Lekki, Lagos",
         "₦50,000,000",
         null,
         null,
         null,
         null
        ],
        [
         "13",
         "3 bedroom detached bungalow for sale",
         "3 Minutes Drive To The Lekki-epe Expressway, Eleko, Ibeju Lekki, Lagos",
         "₦65,000,000",
         "3.0",
         "3.0",
         "4.0",
         null
        ],
        [
         "14",
         "3 bedroom detached bungalow for sale",
         "Close To The Proposed Lekki International Airport, Idera Scheme, Eleko, Ibeju Lekki, Lagos",
         "₦58,000,000",
         "3.0",
         "3.0",
         "4.0",
         null
        ],
        [
         "15",
         "3 bedroom house for sale",
         "By Idera Scheme & Adjacent New Lekki International Airport, Eleko, Ibeju Lekki, Lagos",
         "₦58,000,000",
         "3.0",
         "3.0",
         "4.0",
         "3.0"
        ],
        [
         "16",
         "3 bedroom detached bungalow for sale",
         "By Idera Scheme & 5 Minutes The New Lekki International Airport, Eleko, Ibeju Lekki, Lagos",
         "₦58,000,000",
         "3.0",
         "3.0",
         "4.0",
         null
        ],
        [
         "17",
         "3 bedroom detached bungalow for sale",
         "Close To Pan Atlantic University, Idera Scheme, Eleko, Ibeju Lekki, Lagos",
         "₦65,000,000",
         "3.0",
         "3.0",
         "4.0",
         null
        ],
        [
         "18",
         "4 bedroom terraced duplex for sale",
         "Gbagada, Lagos",
         "₦150,000,000",
         "4.0",
         "5.0",
         "5.0",
         null
        ],
        [
         "19",
         "4 bedroom detached duplex for sale",
         "B. Akinsola Street, Osh Estate, Via Gra, Magodo, Lagos",
         "₦220,000,000",
         "4.0",
         "4.0",
         "5.0",
         null
        ],
        [
         "20",
         "5 bedroom detached duplex for sale",
         "Lekki, Lagos",
         "₦450,000,000",
         "5.0",
         "5.0",
         "6.0",
         "4.0"
        ],
        [
         "21",
         "2 bedroom flat / apartment for sale",
         "Ruby Apartment, Ologolo, Lekki, Lagos",
         "₦80,000,000",
         "2.0",
         "2.0",
         "3.0",
         null
        ],
        [
         "22",
         "2 bedroom flat / apartment for sale",
         "Thomas Estate, Lekki, Lagos",
         "₦65,000,000",
         "2.0",
         "2.0",
         "3.0",
         null
        ],
        [
         "23",
         "4 bedroom terraced duplex for sale",
         "Ikate, Lekki, Lagos",
         "₦185,000,000",
         "4.0",
         "4.0",
         "5.0",
         null
        ],
        [
         "24",
         "4 bedroom house for sale",
         "VGC, Lekki, Lagos",
         "₦205,000,000",
         "4.0",
         "4.0",
         "5.0",
         "2.0"
        ],
        [
         "25",
         "4 bedroom house for sale",
         "Lekki Phase 1, Lekki, Lagos",
         "₦400,000,000",
         "4.0",
         "4.0",
         "5.0",
         "3.0"
        ],
        [
         "26",
         "4 bedroom terraced duplex for sale",
         "Lekki Phase 1, Lekki, Lagos",
         "₦550,000,000",
         "4.0",
         "4.0",
         "5.0",
         null
        ],
        [
         "27",
         "72 bedroom hotel / guest house for sale",
         "Lekki Phase 1, Lekki, Lagos",
         "₦15,000,000,000",
         "72.0",
         "72.0",
         "80.0",
         null
        ],
        [
         "28",
         "Land for sale",
         "Off Ademola Adetokunbo, Wuse 2, Abuja",
         "₦3,000,000,000",
         null,
         null,
         null,
         null
        ],
        [
         "29",
         "Residential land for sale",
         "Top Notch Premium Luxury Estate Facilities World Class Amenities, Epe, Lagos",
         "₦20,000,000",
         null,
         null,
         null,
         "30.0"
        ],
        [
         "30",
         "Residential land for sale",
         "Bourdillon Road, Old Ikoyi, Ikoyi, Lagos",
         "₦3,000,000",
         null,
         null,
         null,
         null
        ],
        [
         "31",
         "Commercial land for sale",
         "Itaoluwo Orimedu, Odogunyan, Ikorodu, Lagos",
         "₦25,000,000",
         null,
         null,
         null,
         null
        ],
        [
         "32",
         "4 bedroom detached duplex for sale",
         "Royal Garden Estate, Ajah, Lagos",
         "₦280,000,000",
         "4.0",
         "4.0",
         "5.0",
         null
        ],
        [
         "33",
         "4 bedroom semi-detached duplex for sale",
         "Ajah, Lagos",
         "₦105,000,000",
         "4.0",
         "4.0",
         "5.0",
         "3.0"
        ],
        [
         "34",
         "4 bedroom detached duplex for sale",
         "Captains Court, Ajah, Lagos",
         "₦180,000,000",
         "4.0",
         "4.0",
         "5.0",
         "3.0"
        ],
        [
         "35",
         "4 bedroom detached duplex for sale",
         "Captains Court, Ajah, Lagos",
         "₦130,000,000",
         "4.0",
         "4.0",
         "5.0",
         "2.0"
        ],
        [
         "36",
         "4 bedroom detached duplex for sale",
         "Ajah, Lagos",
         "₦160,000,000",
         "4.0",
         "4.0",
         "5.0",
         "4.0"
        ],
        [
         "37",
         "4 bedroom terraced duplex for sale",
         "Greenland Estate , Olonkola, Sangotedo, Ajah, Lagos",
         "₦75,000,000",
         "4.0",
         "4.0",
         "5.0",
         "2.0"
        ],
        [
         "38",
         "2 bedroom detached duplex for sale",
         "Olowoira Omole Phase2 Extension, Olowora, Magodo, Lagos",
         "₦100,000,000",
         "2.0",
         "2.0",
         "3.0",
         null
        ],
        [
         "39",
         "Mixed-use land for sale",
         "In An Estate At Obadore Akesan Town  Lasu-igando Road, Igando Alimosho, Igando, Alimosho, Lagos",
         "₦4,000,000",
         null,
         null,
         null,
         "600.0"
        ],
        [
         "40",
         "4 bedroom terraced duplex for sale",
         "Chevron, Lekki, Lagos",
         "₦200,000,000",
         "4.0",
         "4.0",
         "5.0",
         "2.0"
        ],
        [
         "41",
         "5 bedroom detached duplex for sale",
         "Chevron Drive, Lekki, Lagos",
         "₦850,000,000",
         "5.0",
         "5.0",
         "6.0",
         "4.0"
        ],
        [
         "42",
         "2 bedroom flat / apartment for sale",
         "Ikate, Lekki, Lagos",
         "₦150,000,000",
         "2.0",
         "2.0",
         "3.0",
         null
        ],
        [
         "43",
         "2 bedroom block of flats for sale",
         "Ikate, Lekki, Lagos",
         "₦60,000,000",
         "2.0",
         "2.0",
         "3.0",
         "1.0"
        ],
        [
         "44",
         "5 bedroom detached duplex for sale",
         "Lekki County, Ikota, Lekki, Lagos",
         "₦230,000,000",
         "5.0",
         "5.0",
         "6.0",
         "9.0"
        ],
        [
         "45",
         "4 bedroom semi-detached duplex for sale",
         "Ikota, Lekki, Lagos",
         "₦180,000,000",
         "4.0",
         "4.0",
         "5.0",
         "2.0"
        ],
        [
         "46",
         "5 bedroom detached duplex for sale",
         "Lekky County Homes, Ikota, Lekki, Lagos",
         "₦400,000,000",
         "5.0",
         "5.0",
         "6.0",
         "4.0"
        ],
        [
         "47",
         "Residential land for sale",
         "Orchid Road, Lafiaji, Lekki, Lagos",
         "₦100,000,000",
         null,
         null,
         null,
         null
        ],
        [
         "48",
         "4 bedroom terraced duplex for sale",
         "Orchid Road, Lafiaji, Lekki, Lagos",
         "₦115,000,000",
         "4.0",
         "4.0",
         "5.0",
         "2.0"
        ],
        [
         "49",
         "2 bedroom flat / apartment for sale",
         "Orchid Road, Lafiaji, Lekki, Lagos",
         "₦90,000,000",
         "2.0",
         "2.0",
         "3.0",
         "2.0"
        ]
       ],
       "shape": {
        "columns": 7,
        "rows": 80689
       }
      },
      "text/html": [
       "<div>\n",
       "<style scoped>\n",
       "    .dataframe tbody tr th:only-of-type {\n",
       "        vertical-align: middle;\n",
       "    }\n",
       "\n",
       "    .dataframe tbody tr th {\n",
       "        vertical-align: top;\n",
       "    }\n",
       "\n",
       "    .dataframe thead th {\n",
       "        text-align: right;\n",
       "    }\n",
       "</style>\n",
       "<table border=\"1\" class=\"dataframe\">\n",
       "  <thead>\n",
       "    <tr style=\"text-align: right;\">\n",
       "      <th></th>\n",
       "      <th>type_of_house</th>\n",
       "      <th>location</th>\n",
       "      <th>price</th>\n",
       "      <th>bedrooms</th>\n",
       "      <th>bathrooms</th>\n",
       "      <th>toilets</th>\n",
       "      <th>parking_space</th>\n",
       "    </tr>\n",
       "  </thead>\n",
       "  <tbody>\n",
       "    <tr>\n",
       "      <th>0</th>\n",
       "      <td>5 bedroom detached duplex for sale</td>\n",
       "      <td>Ikate, Lekki, Lagos</td>\n",
       "      <td>₦750,000,000</td>\n",
       "      <td>5.0</td>\n",
       "      <td>5.0</td>\n",
       "      <td>6.0</td>\n",
       "      <td>NaN</td>\n",
       "    </tr>\n",
       "    <tr>\n",
       "      <th>1</th>\n",
       "      <td>4 bedroom detached duplex for sale</td>\n",
       "      <td>Oral Estate, Ikota, Lekki, Lagos</td>\n",
       "      <td>₦180,000,000</td>\n",
       "      <td>4.0</td>\n",
       "      <td>5.0</td>\n",
       "      <td>5.0</td>\n",
       "      <td>NaN</td>\n",
       "    </tr>\n",
       "    <tr>\n",
       "      <th>2</th>\n",
       "      <td>3 bedroom block of flats for sale</td>\n",
       "      <td>Gra Estate, Abijo, Lekki, Lagos</td>\n",
       "      <td>₦85,000,000</td>\n",
       "      <td>3.0</td>\n",
       "      <td>3.0</td>\n",
       "      <td>3.0</td>\n",
       "      <td>2.0</td>\n",
       "    </tr>\n",
       "    <tr>\n",
       "      <th>3</th>\n",
       "      <td>6 bedroom detached duplex for sale</td>\n",
       "      <td>Pinnock Beach Estate, Osapa, Lekki, Lagos</td>\n",
       "      <td>₦1,500,000,000</td>\n",
       "      <td>6.0</td>\n",
       "      <td>7.0</td>\n",
       "      <td>7.0</td>\n",
       "      <td>NaN</td>\n",
       "    </tr>\n",
       "    <tr>\n",
       "      <th>4</th>\n",
       "      <td>5 bedroom detached duplex for sale</td>\n",
       "      <td>Osapa, Lekki, Lagos</td>\n",
       "      <td>₦350,000,000</td>\n",
       "      <td>5.0</td>\n",
       "      <td>5.0</td>\n",
       "      <td>6.0</td>\n",
       "      <td>NaN</td>\n",
       "    </tr>\n",
       "    <tr>\n",
       "      <th>...</th>\n",
       "      <td>...</td>\n",
       "      <td>...</td>\n",
       "      <td>...</td>\n",
       "      <td>...</td>\n",
       "      <td>...</td>\n",
       "      <td>...</td>\n",
       "      <td>...</td>\n",
       "    </tr>\n",
       "    <tr>\n",
       "      <th>80684</th>\n",
       "      <td>2 bedroom flat / apartment for sale</td>\n",
       "      <td>Donatus Odum Street, Seagate Estate, Ikate Ele...</td>\n",
       "      <td>₦130,000,000</td>\n",
       "      <td>2.0</td>\n",
       "      <td>2.0</td>\n",
       "      <td>3.0</td>\n",
       "      <td>2.0</td>\n",
       "    </tr>\n",
       "    <tr>\n",
       "      <th>80685</th>\n",
       "      <td>6 bedroom detached duplex for sale</td>\n",
       "      <td>Apo, Abuja</td>\n",
       "      <td>₦570,000,000</td>\n",
       "      <td>6.0</td>\n",
       "      <td>7.0</td>\n",
       "      <td>7.0</td>\n",
       "      <td>10.0</td>\n",
       "    </tr>\n",
       "    <tr>\n",
       "      <th>80686</th>\n",
       "      <td>4 bedroom terraced duplex for sale</td>\n",
       "      <td>Plot 134, Ayodele Odubiyi Street, Pinnacle Gas...</td>\n",
       "      <td>₦1,200,000,000</td>\n",
       "      <td>4.0</td>\n",
       "      <td>16.0</td>\n",
       "      <td>20.0</td>\n",
       "      <td>12.0</td>\n",
       "    </tr>\n",
       "    <tr>\n",
       "      <th>80687</th>\n",
       "      <td>3 bedroom flat / apartment for sale</td>\n",
       "      <td>Off Oladipo Diya Road, Gaduwa, Abuja</td>\n",
       "      <td>₦180,000,000</td>\n",
       "      <td>3.0</td>\n",
       "      <td>3.0</td>\n",
       "      <td>4.0</td>\n",
       "      <td>2.0</td>\n",
       "    </tr>\n",
       "    <tr>\n",
       "      <th>80688</th>\n",
       "      <td>5 bedroom detached duplex for sale</td>\n",
       "      <td>3rd Avenue, Banana Island, Ikoyi, Lagos</td>\n",
       "      <td>$4,000,000</td>\n",
       "      <td>5.0</td>\n",
       "      <td>5.0</td>\n",
       "      <td>6.0</td>\n",
       "      <td>NaN</td>\n",
       "    </tr>\n",
       "  </tbody>\n",
       "</table>\n",
       "<p>80689 rows × 7 columns</p>\n",
       "</div>"
      ],
      "text/plain": [
       "                             type_of_house  \\\n",
       "0       5 bedroom detached duplex for sale   \n",
       "1       4 bedroom detached duplex for sale   \n",
       "2        3 bedroom block of flats for sale   \n",
       "3       6 bedroom detached duplex for sale   \n",
       "4       5 bedroom detached duplex for sale   \n",
       "...                                    ...   \n",
       "80684  2 bedroom flat / apartment for sale   \n",
       "80685   6 bedroom detached duplex for sale   \n",
       "80686   4 bedroom terraced duplex for sale   \n",
       "80687  3 bedroom flat / apartment for sale   \n",
       "80688   5 bedroom detached duplex for sale   \n",
       "\n",
       "                                                location           price  \\\n",
       "0                                    Ikate, Lekki, Lagos    ₦750,000,000   \n",
       "1                       Oral Estate, Ikota, Lekki, Lagos    ₦180,000,000   \n",
       "2                        Gra Estate, Abijo, Lekki, Lagos     ₦85,000,000   \n",
       "3              Pinnock Beach Estate, Osapa, Lekki, Lagos  ₦1,500,000,000   \n",
       "4                                    Osapa, Lekki, Lagos    ₦350,000,000   \n",
       "...                                                  ...             ...   \n",
       "80684  Donatus Odum Street, Seagate Estate, Ikate Ele...    ₦130,000,000   \n",
       "80685                                         Apo, Abuja    ₦570,000,000   \n",
       "80686  Plot 134, Ayodele Odubiyi Street, Pinnacle Gas...  ₦1,200,000,000   \n",
       "80687               Off Oladipo Diya Road, Gaduwa, Abuja    ₦180,000,000   \n",
       "80688            3rd Avenue, Banana Island, Ikoyi, Lagos      $4,000,000   \n",
       "\n",
       "       bedrooms  bathrooms  toilets  parking_space  \n",
       "0           5.0        5.0      6.0            NaN  \n",
       "1           4.0        5.0      5.0            NaN  \n",
       "2           3.0        3.0      3.0            2.0  \n",
       "3           6.0        7.0      7.0            NaN  \n",
       "4           5.0        5.0      6.0            NaN  \n",
       "...         ...        ...      ...            ...  \n",
       "80684       2.0        2.0      3.0            2.0  \n",
       "80685       6.0        7.0      7.0           10.0  \n",
       "80686       4.0       16.0     20.0           12.0  \n",
       "80687       3.0        3.0      4.0            2.0  \n",
       "80688       5.0        5.0      6.0            NaN  \n",
       "\n",
       "[80689 rows x 7 columns]"
      ]
     },
     "execution_count": 599,
     "metadata": {},
     "output_type": "execute_result"
    }
   ],
   "source": [
    "data"
   ]
  },
  {
   "cell_type": "code",
   "execution_count": 600,
   "metadata": {},
   "outputs": [
    {
     "data": {
      "text/plain": [
       "(80689, 7)"
      ]
     },
     "execution_count": 600,
     "metadata": {},
     "output_type": "execute_result"
    }
   ],
   "source": [
    "data.shape"
   ]
  },
  {
   "cell_type": "code",
   "execution_count": 601,
   "metadata": {},
   "outputs": [
    {
     "name": "stdout",
     "output_type": "stream",
     "text": [
      "<class 'pandas.core.frame.DataFrame'>\n",
      "RangeIndex: 80689 entries, 0 to 80688\n",
      "Data columns (total 7 columns):\n",
      " #   Column         Non-Null Count  Dtype  \n",
      "---  ------         --------------  -----  \n",
      " 0   type_of_house  80689 non-null  object \n",
      " 1   location       80689 non-null  object \n",
      " 2   price          80689 non-null  object \n",
      " 3   bedrooms       58725 non-null  float64\n",
      " 4   bathrooms      51543 non-null  float64\n",
      " 5   toilets        53044 non-null  float64\n",
      " 6   parking_space  33765 non-null  float64\n",
      "dtypes: float64(4), object(3)\n",
      "memory usage: 4.3+ MB\n"
     ]
    }
   ],
   "source": [
    "data.info()"
   ]
  },
  {
   "cell_type": "code",
   "execution_count": 602,
   "metadata": {},
   "outputs": [
    {
     "data": {
      "application/vnd.microsoft.datawrangler.viewer.v0+json": {
       "columns": [
        {
         "name": "index",
         "rawType": "object",
         "type": "string"
        },
        {
         "name": "bedrooms",
         "rawType": "float64",
         "type": "float"
        },
        {
         "name": "bathrooms",
         "rawType": "float64",
         "type": "float"
        },
        {
         "name": "toilets",
         "rawType": "float64",
         "type": "float"
        },
        {
         "name": "parking_space",
         "rawType": "float64",
         "type": "float"
        }
       ],
       "conversionMethod": "pd.DataFrame",
       "ref": "9244dad1-0e08-4e0a-acc2-bc95c7598f7f",
       "rows": [
        [
         "count",
         "58725.0",
         "51543.0",
         "53044.0",
         "33765.0"
        ],
        [
         "mean",
         "4.9829374201788",
         "4.794288264167783",
         "5.511292511876932",
         "93.36010661928032"
        ],
        [
         "std",
         "85.14171553587154",
         "19.13062742409032",
         "11.537306616214451",
         "6027.323821154247"
        ],
        [
         "min",
         "1.0",
         "1.0",
         "1.0",
         "1.0"
        ],
        [
         "25%",
         "3.0",
         "3.0",
         "4.0",
         "3.0"
        ],
        [
         "50%",
         "4.0",
         "4.0",
         "5.0",
         "4.0"
        ],
        [
         "75%",
         "5.0",
         "5.0",
         "6.0",
         "5.0"
        ],
        [
         "max",
         "20540.0",
         "3157.0",
         "2000.0",
         "1000000.0"
        ]
       ],
       "shape": {
        "columns": 4,
        "rows": 8
       }
      },
      "text/html": [
       "<div>\n",
       "<style scoped>\n",
       "    .dataframe tbody tr th:only-of-type {\n",
       "        vertical-align: middle;\n",
       "    }\n",
       "\n",
       "    .dataframe tbody tr th {\n",
       "        vertical-align: top;\n",
       "    }\n",
       "\n",
       "    .dataframe thead th {\n",
       "        text-align: right;\n",
       "    }\n",
       "</style>\n",
       "<table border=\"1\" class=\"dataframe\">\n",
       "  <thead>\n",
       "    <tr style=\"text-align: right;\">\n",
       "      <th></th>\n",
       "      <th>bedrooms</th>\n",
       "      <th>bathrooms</th>\n",
       "      <th>toilets</th>\n",
       "      <th>parking_space</th>\n",
       "    </tr>\n",
       "  </thead>\n",
       "  <tbody>\n",
       "    <tr>\n",
       "      <th>count</th>\n",
       "      <td>58725.000000</td>\n",
       "      <td>51543.000000</td>\n",
       "      <td>53044.000000</td>\n",
       "      <td>33765.000000</td>\n",
       "    </tr>\n",
       "    <tr>\n",
       "      <th>mean</th>\n",
       "      <td>4.982937</td>\n",
       "      <td>4.794288</td>\n",
       "      <td>5.511293</td>\n",
       "      <td>93.360107</td>\n",
       "    </tr>\n",
       "    <tr>\n",
       "      <th>std</th>\n",
       "      <td>85.141716</td>\n",
       "      <td>19.130627</td>\n",
       "      <td>11.537307</td>\n",
       "      <td>6027.323821</td>\n",
       "    </tr>\n",
       "    <tr>\n",
       "      <th>min</th>\n",
       "      <td>1.000000</td>\n",
       "      <td>1.000000</td>\n",
       "      <td>1.000000</td>\n",
       "      <td>1.000000</td>\n",
       "    </tr>\n",
       "    <tr>\n",
       "      <th>25%</th>\n",
       "      <td>3.000000</td>\n",
       "      <td>3.000000</td>\n",
       "      <td>4.000000</td>\n",
       "      <td>3.000000</td>\n",
       "    </tr>\n",
       "    <tr>\n",
       "      <th>50%</th>\n",
       "      <td>4.000000</td>\n",
       "      <td>4.000000</td>\n",
       "      <td>5.000000</td>\n",
       "      <td>4.000000</td>\n",
       "    </tr>\n",
       "    <tr>\n",
       "      <th>75%</th>\n",
       "      <td>5.000000</td>\n",
       "      <td>5.000000</td>\n",
       "      <td>6.000000</td>\n",
       "      <td>5.000000</td>\n",
       "    </tr>\n",
       "    <tr>\n",
       "      <th>max</th>\n",
       "      <td>20540.000000</td>\n",
       "      <td>3157.000000</td>\n",
       "      <td>2000.000000</td>\n",
       "      <td>1000000.000000</td>\n",
       "    </tr>\n",
       "  </tbody>\n",
       "</table>\n",
       "</div>"
      ],
      "text/plain": [
       "           bedrooms     bathrooms       toilets   parking_space\n",
       "count  58725.000000  51543.000000  53044.000000    33765.000000\n",
       "mean       4.982937      4.794288      5.511293       93.360107\n",
       "std       85.141716     19.130627     11.537307     6027.323821\n",
       "min        1.000000      1.000000      1.000000        1.000000\n",
       "25%        3.000000      3.000000      4.000000        3.000000\n",
       "50%        4.000000      4.000000      5.000000        4.000000\n",
       "75%        5.000000      5.000000      6.000000        5.000000\n",
       "max    20540.000000   3157.000000   2000.000000  1000000.000000"
      ]
     },
     "execution_count": 602,
     "metadata": {},
     "output_type": "execute_result"
    }
   ],
   "source": [
    "data.describe()"
   ]
  },
  {
   "cell_type": "markdown",
   "metadata": {},
   "source": [
    "### Data Cleaning and Normalization"
   ]
  },
  {
   "cell_type": "markdown",
   "metadata": {},
   "source": [
    "Firstly, it would be more suitable to pull out the `state` and `town` from the location column"
   ]
  },
  {
   "cell_type": "code",
   "execution_count": 603,
   "metadata": {},
   "outputs": [
    {
     "data": {
      "text/plain": [
       "location\n",
       " Lekki          26624\n",
       " Ajah            4868\n",
       " Ikeja           4322\n",
       " Ikoyi           4217\n",
       "Ajah             2926\n",
       "                ...  \n",
       "Uruan               1\n",
       " Ikot Ekpene        1\n",
       " Awgu               1\n",
       " Ilesa East         1\n",
       " Idemili            1\n",
       "Name: count, Length: 448, dtype: int64"
      ]
     },
     "execution_count": 603,
     "metadata": {},
     "output_type": "execute_result"
    }
   ],
   "source": [
    "data[\"location\"].str.split(\",\").str[-2].value_counts()"
   ]
  },
  {
   "cell_type": "code",
   "execution_count": 604,
   "metadata": {},
   "outputs": [
    {
     "data": {
      "application/vnd.microsoft.datawrangler.viewer.v0+json": {
       "columns": [
        {
         "name": "index",
         "rawType": "int64",
         "type": "integer"
        },
        {
         "name": "type_of_house",
         "rawType": "object",
         "type": "string"
        },
        {
         "name": "location",
         "rawType": "object",
         "type": "string"
        },
        {
         "name": "price",
         "rawType": "object",
         "type": "string"
        },
        {
         "name": "bedrooms",
         "rawType": "float64",
         "type": "float"
        },
        {
         "name": "bathrooms",
         "rawType": "float64",
         "type": "float"
        },
        {
         "name": "toilets",
         "rawType": "float64",
         "type": "float"
        },
        {
         "name": "parking_space",
         "rawType": "float64",
         "type": "float"
        }
       ],
       "conversionMethod": "pd.DataFrame",
       "ref": "8cf8dcb1-d427-4ad5-b026-c9f90c9a76a7",
       "rows": [
        [
         "6048",
         "Filling station for sale",
         "Hammadiyah B/stop,lagos-abeokuta Express, Agege, Lagos",
         "₦600,000,000",
         null,
         null,
         null,
         null
        ],
        [
         "10090",
         "Commercial property for sale",
         "Ibadan-lagos Express Way, Ojodu Berger, Ojodu, Lagos",
         "₦750,000,000",
         null,
         null,
         null,
         null
        ],
        [
         "18118",
         "Residential land for sale",
         "Beside First Technical University,lagos Express, Ibadan, Oyo",
         "₦25,000,000",
         null,
         null,
         null,
         null
        ],
        [
         "23022",
         "5 bedroom detached duplex for sale",
         "Osapa,lekki,lagos, Osapa, Lekki, Lagos",
         "₦300,000,000",
         "5.0",
         "5.0",
         "6.0",
         "3.0"
        ],
        [
         "27831",
         "5 bedroom detached duplex for sale",
         "Orchid Hotel Road ,lagos Ocean Bay Estate, Lekki, Lagos",
         "₦380,000,000",
         "5.0",
         "5.0",
         "6.0",
         "3.0"
        ],
        [
         "31112",
         "4 bedroom detached duplex for sale",
         "Ajah ,lagos, Ajah, Lagos",
         "₦120,000,000",
         "4.0",
         "5.0",
         "5.0",
         "3.0"
        ],
        [
         "37586",
         "12 bedroom house for sale",
         "Isihor Egbaen, Off Ugbowo-lagos Road, Benin, Oredo, Edo",
         "₦50,000,000",
         "12.0",
         null,
         null,
         null
        ],
        [
         "53401",
         "Industrial land for sale",
         "Km 8, Abeokuta-lagos Expressway, Ile-ise Awo Bus-stop, Abeokuta North, Ogun",
         "₦100,000,000",
         null,
         null,
         null,
         null
        ],
        [
         "53911",
         "Land for sale",
         "Close To Oke Ogun Tennis Mins Off Abeokuta-lagos Road And Ace Mall, Iseyin, Oyo",
         "₦900,000",
         null,
         null,
         null,
         null
        ],
        [
         "56077",
         "Land for sale",
         "Few Mins Off Abeokuta-lagos Road Close To Ace Mall And Saf Polytechnic, Iseyin, Oyo",
         "₦900,000",
         null,
         null,
         null,
         null
        ],
        [
         "56553",
         "Land for sale",
         "Ogere ,lagos Ibadan Express Way., Ojodu Berger, Ojodu, Lagos",
         "₦60,000,000",
         null,
         null,
         null,
         null
        ],
        [
         "63936",
         "Commercial land for sale",
         "Along Abeokuta-lagos Road, Ado-awaye, Iseyin, Oyo",
         "₦900,000",
         null,
         null,
         null,
         null
        ],
        [
         "70913",
         "4 bedroom semi-detached duplex for sale",
         "Ikate,lekki,lagos, Ikate, Lekki, Lagos",
         "₦110,000,000",
         "4.0",
         "4.0",
         "5.0",
         "2.0"
        ],
        [
         "78298",
         "Mixed-use land for sale",
         "New Garage/lagos Ibadan Roundabout, Ibadan, Oyo",
         "₦40,000,000",
         null,
         null,
         null,
         null
        ],
        [
         "78983",
         "4 bedroom detached duplex for sale",
         "Gateway Zone Magodo Gra Phase 1lagos, GRA Phase 1, Magodo, Lagos",
         "₦180,000,000",
         "4.0",
         "4.0",
         "5.0",
         "5.0"
        ]
       ],
       "shape": {
        "columns": 7,
        "rows": 15
       }
      },
      "text/html": [
       "<div>\n",
       "<style scoped>\n",
       "    .dataframe tbody tr th:only-of-type {\n",
       "        vertical-align: middle;\n",
       "    }\n",
       "\n",
       "    .dataframe tbody tr th {\n",
       "        vertical-align: top;\n",
       "    }\n",
       "\n",
       "    .dataframe thead th {\n",
       "        text-align: right;\n",
       "    }\n",
       "</style>\n",
       "<table border=\"1\" class=\"dataframe\">\n",
       "  <thead>\n",
       "    <tr style=\"text-align: right;\">\n",
       "      <th></th>\n",
       "      <th>type_of_house</th>\n",
       "      <th>location</th>\n",
       "      <th>price</th>\n",
       "      <th>bedrooms</th>\n",
       "      <th>bathrooms</th>\n",
       "      <th>toilets</th>\n",
       "      <th>parking_space</th>\n",
       "    </tr>\n",
       "  </thead>\n",
       "  <tbody>\n",
       "    <tr>\n",
       "      <th>6048</th>\n",
       "      <td>Filling station for sale</td>\n",
       "      <td>Hammadiyah B/stop,lagos-abeokuta Express, Ageg...</td>\n",
       "      <td>₦600,000,000</td>\n",
       "      <td>NaN</td>\n",
       "      <td>NaN</td>\n",
       "      <td>NaN</td>\n",
       "      <td>NaN</td>\n",
       "    </tr>\n",
       "    <tr>\n",
       "      <th>10090</th>\n",
       "      <td>Commercial property for sale</td>\n",
       "      <td>Ibadan-lagos Express Way, Ojodu Berger, Ojodu,...</td>\n",
       "      <td>₦750,000,000</td>\n",
       "      <td>NaN</td>\n",
       "      <td>NaN</td>\n",
       "      <td>NaN</td>\n",
       "      <td>NaN</td>\n",
       "    </tr>\n",
       "    <tr>\n",
       "      <th>18118</th>\n",
       "      <td>Residential land for sale</td>\n",
       "      <td>Beside First Technical University,lagos Expres...</td>\n",
       "      <td>₦25,000,000</td>\n",
       "      <td>NaN</td>\n",
       "      <td>NaN</td>\n",
       "      <td>NaN</td>\n",
       "      <td>NaN</td>\n",
       "    </tr>\n",
       "    <tr>\n",
       "      <th>23022</th>\n",
       "      <td>5 bedroom detached duplex for sale</td>\n",
       "      <td>Osapa,lekki,lagos, Osapa, Lekki, Lagos</td>\n",
       "      <td>₦300,000,000</td>\n",
       "      <td>5.0</td>\n",
       "      <td>5.0</td>\n",
       "      <td>6.0</td>\n",
       "      <td>3.0</td>\n",
       "    </tr>\n",
       "    <tr>\n",
       "      <th>27831</th>\n",
       "      <td>5 bedroom detached duplex for sale</td>\n",
       "      <td>Orchid Hotel Road ,lagos Ocean Bay Estate, Lek...</td>\n",
       "      <td>₦380,000,000</td>\n",
       "      <td>5.0</td>\n",
       "      <td>5.0</td>\n",
       "      <td>6.0</td>\n",
       "      <td>3.0</td>\n",
       "    </tr>\n",
       "    <tr>\n",
       "      <th>31112</th>\n",
       "      <td>4 bedroom detached duplex for sale</td>\n",
       "      <td>Ajah ,lagos, Ajah, Lagos</td>\n",
       "      <td>₦120,000,000</td>\n",
       "      <td>4.0</td>\n",
       "      <td>5.0</td>\n",
       "      <td>5.0</td>\n",
       "      <td>3.0</td>\n",
       "    </tr>\n",
       "    <tr>\n",
       "      <th>37586</th>\n",
       "      <td>12 bedroom house for sale</td>\n",
       "      <td>Isihor Egbaen, Off Ugbowo-lagos Road, Benin, O...</td>\n",
       "      <td>₦50,000,000</td>\n",
       "      <td>12.0</td>\n",
       "      <td>NaN</td>\n",
       "      <td>NaN</td>\n",
       "      <td>NaN</td>\n",
       "    </tr>\n",
       "    <tr>\n",
       "      <th>53401</th>\n",
       "      <td>Industrial land for sale</td>\n",
       "      <td>Km 8, Abeokuta-lagos Expressway, Ile-ise Awo B...</td>\n",
       "      <td>₦100,000,000</td>\n",
       "      <td>NaN</td>\n",
       "      <td>NaN</td>\n",
       "      <td>NaN</td>\n",
       "      <td>NaN</td>\n",
       "    </tr>\n",
       "    <tr>\n",
       "      <th>53911</th>\n",
       "      <td>Land for sale</td>\n",
       "      <td>Close To Oke Ogun Tennis Mins Off Abeokuta-lag...</td>\n",
       "      <td>₦900,000</td>\n",
       "      <td>NaN</td>\n",
       "      <td>NaN</td>\n",
       "      <td>NaN</td>\n",
       "      <td>NaN</td>\n",
       "    </tr>\n",
       "    <tr>\n",
       "      <th>56077</th>\n",
       "      <td>Land for sale</td>\n",
       "      <td>Few Mins Off Abeokuta-lagos Road Close To Ace ...</td>\n",
       "      <td>₦900,000</td>\n",
       "      <td>NaN</td>\n",
       "      <td>NaN</td>\n",
       "      <td>NaN</td>\n",
       "      <td>NaN</td>\n",
       "    </tr>\n",
       "    <tr>\n",
       "      <th>56553</th>\n",
       "      <td>Land for sale</td>\n",
       "      <td>Ogere ,lagos Ibadan Express Way., Ojodu Berger...</td>\n",
       "      <td>₦60,000,000</td>\n",
       "      <td>NaN</td>\n",
       "      <td>NaN</td>\n",
       "      <td>NaN</td>\n",
       "      <td>NaN</td>\n",
       "    </tr>\n",
       "    <tr>\n",
       "      <th>63936</th>\n",
       "      <td>Commercial land for sale</td>\n",
       "      <td>Along Abeokuta-lagos Road, Ado-awaye, Iseyin, Oyo</td>\n",
       "      <td>₦900,000</td>\n",
       "      <td>NaN</td>\n",
       "      <td>NaN</td>\n",
       "      <td>NaN</td>\n",
       "      <td>NaN</td>\n",
       "    </tr>\n",
       "    <tr>\n",
       "      <th>70913</th>\n",
       "      <td>4 bedroom semi-detached duplex for sale</td>\n",
       "      <td>Ikate,lekki,lagos, Ikate, Lekki, Lagos</td>\n",
       "      <td>₦110,000,000</td>\n",
       "      <td>4.0</td>\n",
       "      <td>4.0</td>\n",
       "      <td>5.0</td>\n",
       "      <td>2.0</td>\n",
       "    </tr>\n",
       "    <tr>\n",
       "      <th>78298</th>\n",
       "      <td>Mixed-use land for sale</td>\n",
       "      <td>New Garage/lagos Ibadan Roundabout, Ibadan, Oyo</td>\n",
       "      <td>₦40,000,000</td>\n",
       "      <td>NaN</td>\n",
       "      <td>NaN</td>\n",
       "      <td>NaN</td>\n",
       "      <td>NaN</td>\n",
       "    </tr>\n",
       "    <tr>\n",
       "      <th>78983</th>\n",
       "      <td>4 bedroom detached duplex for sale</td>\n",
       "      <td>Gateway Zone Magodo Gra Phase 1lagos, GRA Phas...</td>\n",
       "      <td>₦180,000,000</td>\n",
       "      <td>4.0</td>\n",
       "      <td>4.0</td>\n",
       "      <td>5.0</td>\n",
       "      <td>5.0</td>\n",
       "    </tr>\n",
       "  </tbody>\n",
       "</table>\n",
       "</div>"
      ],
      "text/plain": [
       "                                 type_of_house  \\\n",
       "6048                  Filling station for sale   \n",
       "10090             Commercial property for sale   \n",
       "18118                Residential land for sale   \n",
       "23022       5 bedroom detached duplex for sale   \n",
       "27831       5 bedroom detached duplex for sale   \n",
       "31112       4 bedroom detached duplex for sale   \n",
       "37586                12 bedroom house for sale   \n",
       "53401                 Industrial land for sale   \n",
       "53911                            Land for sale   \n",
       "56077                            Land for sale   \n",
       "56553                            Land for sale   \n",
       "63936                 Commercial land for sale   \n",
       "70913  4 bedroom semi-detached duplex for sale   \n",
       "78298                  Mixed-use land for sale   \n",
       "78983       4 bedroom detached duplex for sale   \n",
       "\n",
       "                                                location         price  \\\n",
       "6048   Hammadiyah B/stop,lagos-abeokuta Express, Ageg...  ₦600,000,000   \n",
       "10090  Ibadan-lagos Express Way, Ojodu Berger, Ojodu,...  ₦750,000,000   \n",
       "18118  Beside First Technical University,lagos Expres...   ₦25,000,000   \n",
       "23022             Osapa,lekki,lagos, Osapa, Lekki, Lagos  ₦300,000,000   \n",
       "27831  Orchid Hotel Road ,lagos Ocean Bay Estate, Lek...  ₦380,000,000   \n",
       "31112                           Ajah ,lagos, Ajah, Lagos  ₦120,000,000   \n",
       "37586  Isihor Egbaen, Off Ugbowo-lagos Road, Benin, O...   ₦50,000,000   \n",
       "53401  Km 8, Abeokuta-lagos Expressway, Ile-ise Awo B...  ₦100,000,000   \n",
       "53911  Close To Oke Ogun Tennis Mins Off Abeokuta-lag...      ₦900,000   \n",
       "56077  Few Mins Off Abeokuta-lagos Road Close To Ace ...      ₦900,000   \n",
       "56553  Ogere ,lagos Ibadan Express Way., Ojodu Berger...   ₦60,000,000   \n",
       "63936  Along Abeokuta-lagos Road, Ado-awaye, Iseyin, Oyo      ₦900,000   \n",
       "70913             Ikate,lekki,lagos, Ikate, Lekki, Lagos  ₦110,000,000   \n",
       "78298    New Garage/lagos Ibadan Roundabout, Ibadan, Oyo   ₦40,000,000   \n",
       "78983  Gateway Zone Magodo Gra Phase 1lagos, GRA Phas...  ₦180,000,000   \n",
       "\n",
       "       bedrooms  bathrooms  toilets  parking_space  \n",
       "6048        NaN        NaN      NaN            NaN  \n",
       "10090       NaN        NaN      NaN            NaN  \n",
       "18118       NaN        NaN      NaN            NaN  \n",
       "23022       5.0        5.0      6.0            3.0  \n",
       "27831       5.0        5.0      6.0            3.0  \n",
       "31112       4.0        5.0      5.0            3.0  \n",
       "37586      12.0        NaN      NaN            NaN  \n",
       "53401       NaN        NaN      NaN            NaN  \n",
       "53911       NaN        NaN      NaN            NaN  \n",
       "56077       NaN        NaN      NaN            NaN  \n",
       "56553       NaN        NaN      NaN            NaN  \n",
       "63936       NaN        NaN      NaN            NaN  \n",
       "70913       4.0        4.0      5.0            2.0  \n",
       "78298       NaN        NaN      NaN            NaN  \n",
       "78983       4.0        4.0      5.0            5.0  "
      ]
     },
     "execution_count": 604,
     "metadata": {},
     "output_type": "execute_result"
    }
   ],
   "source": [
    "data[data[\"location\"].str.contains(\"lagos\")]"
   ]
  },
  {
   "cell_type": "code",
   "execution_count": 605,
   "metadata": {},
   "outputs": [],
   "source": [
    "# To remove all white spaces\n",
    "data[\"location\"] = data[\"location\"].str.strip().replace(r'\\s+', ' ', regex=True)\n",
    "data[\"location\"] = data[\"location\"].str.replace(r'\\s*,\\s*', ', ', regex=True)"
   ]
  },
  {
   "cell_type": "code",
   "execution_count": 606,
   "metadata": {},
   "outputs": [],
   "source": [
    "def split_location(location):\n",
    "    \"\"\"Splits location into state and town.\"\"\"\n",
    "    try:\n",
    "        parts = location.rsplit(\",\", 2)  # Split from right, max 2 splits\n",
    "        state = parts[-1].strip()\n",
    "        town = parts[-2].strip()\n",
    "        return state, town\n",
    "    except IndexError:\n",
    "        # Handle cases with missing state or town\n",
    "        return None, None"
   ]
  },
  {
   "cell_type": "markdown",
   "metadata": {},
   "source": [
    "This line of code takes the `location` column, applies the split_location function to extract the state and town into tuples, unpacks those tuples into separate columns using pd.Series, and then assigns those columns to the \"state\" and \"town\" columns of the original DataFrame data."
   ]
  },
  {
   "cell_type": "code",
   "execution_count": 607,
   "metadata": {},
   "outputs": [],
   "source": [
    "data[[\"state\", \"town\"]] = data[\"location\"].apply(split_location).apply(pd.Series)"
   ]
  },
  {
   "cell_type": "code",
   "execution_count": 608,
   "metadata": {},
   "outputs": [],
   "source": [
    "data['state'] = data['state'].str.title()\n",
    "data['town'] = data['town'].str.title()"
   ]
  },
  {
   "cell_type": "code",
   "execution_count": 609,
   "metadata": {},
   "outputs": [
    {
     "data": {
      "text/plain": [
       "31"
      ]
     },
     "execution_count": 609,
     "metadata": {},
     "output_type": "execute_result"
    }
   ],
   "source": [
    "len(data[\"state\"].unique())"
   ]
  },
  {
   "cell_type": "code",
   "execution_count": 610,
   "metadata": {},
   "outputs": [
    {
     "data": {
      "application/vnd.microsoft.datawrangler.viewer.v0+json": {
       "columns": [
        {
         "name": "index",
         "rawType": "int64",
         "type": "integer"
        },
        {
         "name": "type_of_house",
         "rawType": "object",
         "type": "string"
        },
        {
         "name": "location",
         "rawType": "object",
         "type": "string"
        },
        {
         "name": "price",
         "rawType": "object",
         "type": "string"
        },
        {
         "name": "bedrooms",
         "rawType": "float64",
         "type": "float"
        },
        {
         "name": "bathrooms",
         "rawType": "float64",
         "type": "float"
        },
        {
         "name": "toilets",
         "rawType": "float64",
         "type": "float"
        },
        {
         "name": "parking_space",
         "rawType": "float64",
         "type": "float"
        },
        {
         "name": "state",
         "rawType": "object",
         "type": "string"
        },
        {
         "name": "town",
         "rawType": "object",
         "type": "string"
        }
       ],
       "conversionMethod": "pd.DataFrame",
       "ref": "5f58a4e0-ff09-4fbf-a8cc-2a2375274d05",
       "rows": [
        [
         "158",
         "2 bedroom flat / apartment for sale",
         "Tm Highgardens, Harbour Lights District, Eko Atlantic City, Lagos",
         "$270,000",
         "2.0",
         "2.0",
         "3.0",
         "2.0",
         "Lagos",
         "Eko Atlantic City"
        ],
        [
         "328",
         "6 bedroom house for sale",
         "Old Ikoyi, Ikoyi, Lagos",
         "$2,500,000",
         "6.0",
         null,
         "6.0",
         null,
         "Lagos",
         "Ikoyi"
        ],
        [
         "334",
         "Mixed-use land for sale",
         "Ahmadu Bello Way, Victoria Island (VI), Lagos",
         "$4,000,000,000",
         null,
         null,
         null,
         null,
         "Lagos",
         "Victoria Island (Vi)"
        ],
        [
         "343",
         "3 bedroom flat / apartment for sale",
         "Marion Apartment, Banana Island, Ikoyi, Lagos",
         "$1,300,000",
         "3.0",
         "3.0",
         "4.0",
         null,
         "Lagos",
         "Ikoyi"
        ],
        [
         "344",
         "5 bedroom detached duplex for sale",
         "Banana Island, Ikoyi, Lagos",
         "$1,500,000",
         "5.0",
         "5.0",
         "6.0",
         null,
         "Lagos",
         "Ikoyi"
        ],
        [
         "387",
         "3 bedroom flat / apartment for sale",
         "A&a Tower, Eko Atlantic City, Lagos",
         "$477,300",
         "3.0",
         null,
         null,
         null,
         "Lagos",
         "Eko Atlantic City"
        ],
        [
         "391",
         "Mixed-use land for sale",
         "Along Ozumba Mbadiwe, Victoria Island (VI), Lagos",
         "$25,000,000",
         null,
         null,
         null,
         null,
         "Lagos",
         "Victoria Island (Vi)"
        ],
        [
         "394",
         "3 bedroom flat / apartment for sale",
         "Victoria Island (VI), Lagos",
         "$600,000",
         "3.0",
         "3.0",
         "4.0",
         "2.0",
         "Lagos",
         "Victoria Island (Vi)"
        ],
        [
         "412",
         "6 bedroom detached duplex for sale",
         "Ikoyi, Lagos",
         "$2,000,000",
         "6.0",
         "6.0",
         "7.0",
         null,
         "Lagos",
         "Ikoyi"
        ],
        [
         "415",
         "3 bedroom flat / apartment for sale",
         "Ikoyi, Lagos",
         "$600,000",
         "3.0",
         "3.0",
         "4.0",
         null,
         "Lagos",
         "Ikoyi"
        ],
        [
         "418",
         "3 bedroom flat / apartment for sale",
         "Ikoyi, Lagos",
         "$1,100,000",
         "3.0",
         "3.0",
         "4.0",
         null,
         "Lagos",
         "Ikoyi"
        ],
        [
         "424",
         "4 bedroom flat / apartment for sale",
         "Banana Island, Ikoyi, Lagos",
         "$1,500,000",
         "4.0",
         "3.0",
         "4.0",
         null,
         "Lagos",
         "Ikoyi"
        ],
        [
         "436",
         "4 bedroom terraced duplex for sale",
         "Ikoyi, Lagos",
         "$1,200,000",
         "4.0",
         "4.0",
         "5.0",
         null,
         "Lagos",
         "Ikoyi"
        ],
        [
         "461",
         "5 bedroom detached duplex for sale",
         "3rd Avenue, Banana Island, Ikoyi, Lagos",
         "$4,200,000",
         "5.0",
         "5.0",
         "6.0",
         null,
         "Lagos",
         "Ikoyi"
        ],
        [
         "480",
         "5 bedroom flat / apartment for sale",
         "Banana Island, Ikoyi, Lagos",
         "$1,500,000",
         "5.0",
         "5.0",
         "6.0",
         null,
         "Lagos",
         "Ikoyi"
        ],
        [
         "487",
         "3 bedroom flat / apartment for sale",
         "Ikoyi, Lagos",
         "$850,000",
         "3.0",
         "2.0",
         "3.0",
         null,
         "Lagos",
         "Ikoyi"
        ],
        [
         "489",
         "4 bedroom terraced duplex for sale",
         "Ikoyi, Lagos",
         "$750,000",
         "4.0",
         "4.0",
         "5.0",
         null,
         "Lagos",
         "Ikoyi"
        ],
        [
         "490",
         "2 bedroom flat / apartment for sale",
         "Ikoyi, Lagos",
         "$1,700,000",
         "2.0",
         "2.0",
         "3.0",
         null,
         "Lagos",
         "Ikoyi"
        ],
        [
         "497",
         "Land for sale",
         "Ikoyi, Lagos",
         "$25,000,000",
         null,
         null,
         null,
         null,
         "Lagos",
         "Ikoyi"
        ],
        [
         "541",
         "5 bedroom detached duplex for sale",
         "Banana Island, Ikoyi, Lagos",
         "$3,500,000",
         "5.0",
         "5.0",
         "6.0",
         "4.0",
         "Lagos",
         "Ikoyi"
        ],
        [
         "617",
         "5 bedroom flat / apartment for sale",
         "Olawale Dawodu, Ikoyi, Lagos",
         "$1,500,000",
         "5.0",
         "6.0",
         "6.0",
         "8.0",
         "Lagos",
         "Ikoyi"
        ],
        [
         "663",
         "5 bedroom detached duplex for sale",
         "Lekki Phase 2, Lekki, Lagos",
         "$1,000,000",
         "5.0",
         "5.0",
         "6.0",
         null,
         "Lagos",
         "Lekki"
        ],
        [
         "715",
         "3 bedroom flat / apartment for sale",
         "Ikoyi, Lagos",
         "$550,000",
         "3.0",
         "3.0",
         "4.0",
         null,
         "Lagos",
         "Ikoyi"
        ],
        [
         "753",
         "6 bedroom detached duplex for sale",
         "Off Bourdillon, Old Ikoyi, Ikoyi, Lagos",
         "$1,700,000",
         "6.0",
         "6.0",
         "5.0",
         null,
         "Lagos",
         "Ikoyi"
        ],
        [
         "798",
         "Office space for sale",
         "Victoria Island (VI), Lagos",
         "$75,000,000",
         null,
         null,
         null,
         null,
         "Lagos",
         "Victoria Island (Vi)"
        ],
        [
         "807",
         "4 bedroom house for sale",
         "Old Ikoyi, Ikoyi, Lagos",
         "$1,200,000",
         "4.0",
         "4.0",
         "5.0",
         null,
         "Lagos",
         "Ikoyi"
        ],
        [
         "828",
         "5 bedroom terraced duplex for sale",
         "Banana Island, Ikoyi, Lagos",
         "$1,500,000",
         "5.0",
         "5.0",
         "6.0",
         "3.0",
         "Lagos",
         "Ikoyi"
        ],
        [
         "849",
         "4 bedroom terraced duplex for sale",
         "Ikoyi, Lagos",
         "$750,000",
         "4.0",
         "4.0",
         "5.0",
         "3.0",
         "Lagos",
         "Ikoyi"
        ],
        [
         "886",
         "6 bedroom detached duplex for sale",
         "Old Ikoyi, Ikoyi, Lagos",
         "$1,700,000",
         "6.0",
         "6.0",
         "7.0",
         "3.0",
         "Lagos",
         "Ikoyi"
        ],
        [
         "904",
         "3 bedroom flat / apartment for sale",
         "Azuri Towers, Eko Atlantic City, Lagos",
         "$1,000,000",
         "3.0",
         "4.0",
         "4.0",
         null,
         "Lagos",
         "Eko Atlantic City"
        ],
        [
         "905",
         "5 bedroom detached duplex for sale",
         "Banana Island, Ikoyi, Lagos",
         "$4,500,000",
         "5.0",
         "5.0",
         "6.0",
         null,
         "Lagos",
         "Ikoyi"
        ],
        [
         "912",
         "Commercial land for sale",
         "Along Ozumba Mbadiwe, Victoria Island (VI), Lagos",
         "$25,000,000",
         null,
         null,
         null,
         null,
         "Lagos",
         "Victoria Island (Vi)"
        ],
        [
         "920",
         "Mixed-use land for sale",
         "Ozumba Mbadiwe, Victoria Island (VI), Lagos",
         "$25,000,000",
         null,
         null,
         null,
         null,
         "Lagos",
         "Victoria Island (Vi)"
        ],
        [
         "1096",
         "Land for sale",
         "Ozumba Mbadiwe, Victoria Island (VI), Lagos",
         "$25,000,000",
         null,
         null,
         null,
         null,
         "Lagos",
         "Victoria Island (Vi)"
        ],
        [
         "1144",
         "Land for sale",
         "Twin Lake Estate, Lekki, Lagos",
         "$450,000",
         null,
         null,
         null,
         null,
         "Lagos",
         "Lekki"
        ],
        [
         "1145",
         "4 bedroom terraced duplex for sale",
         "Ikoyi Lagos, Ikoyi, Lagos",
         "$750,000",
         "4.0",
         "5.0",
         "6.0",
         "4.0",
         "Lagos",
         "Ikoyi"
        ],
        [
         "1146",
         "5 bedroom house for sale",
         "Next To American Embassy, Eko Atlantic City, Lagos",
         "$2,000,000",
         "5.0",
         "5.0",
         "3.0",
         "8.0",
         "Lagos",
         "Eko Atlantic City"
        ],
        [
         "1329",
         "3 bedroom flat / apartment for sale",
         "Old Ikoyi, Ikoyi, Lagos",
         "$1,200,000,000",
         "3.0",
         "4.0",
         "5.0",
         null,
         "Lagos",
         "Ikoyi"
        ],
        [
         "1332",
         "5 bedroom detached duplex for sale",
         "Old Ikoyi, Ikoyi, Lagos",
         "$2,000,000",
         "5.0",
         null,
         null,
         null,
         "Lagos",
         "Ikoyi"
        ],
        [
         "1333",
         "5 bedroom house for sale",
         "Banana Island, Ikoyi, Lagos",
         "$1,500,000",
         "5.0",
         "5.0",
         "6.0",
         null,
         "Lagos",
         "Ikoyi"
        ],
        [
         "1338",
         "5 bedroom detached duplex for sale",
         "Banana Island, Ikoyi, Lagos",
         "$5,300,000",
         "5.0",
         "5.0",
         "6.0",
         null,
         "Lagos",
         "Ikoyi"
        ],
        [
         "1351",
         "5 bedroom detached duplex for sale",
         "3rd Avenue, Banana Island, Ikoyi, Lagos",
         "$4,000,000",
         "5.0",
         "5.0",
         "6.0",
         null,
         "Lagos",
         "Ikoyi"
        ],
        [
         "1434",
         "Commercial land for sale",
         "Eko Atlantic City, Lagos",
         "$1,300",
         null,
         null,
         null,
         null,
         "Lagos",
         "Eko Atlantic City"
        ],
        [
         "1436",
         "5 bedroom semi-detached duplex for sale",
         "Banana Island, Ikoyi, Lagos",
         "$800,000",
         "5.0",
         "5.0",
         "6.0",
         null,
         "Lagos",
         "Ikoyi"
        ],
        [
         "1458",
         "4 bedroom house for sale",
         "Banana Island, Ikoyi, Lagos",
         "$1,300,000",
         "4.0",
         "4.0",
         "5.0",
         null,
         "Lagos",
         "Ikoyi"
        ],
        [
         "1475",
         "154 bedroom hostel for sale",
         "Owerri West By Imo Polytechnic Nekede & Futo, Ihiagwa, Owerri Municipal, Imo",
         "$1,500,000",
         "154.0",
         "160.0",
         "170.0",
         "10000.0",
         "Imo",
         "Owerri Municipal"
        ],
        [
         "1512",
         "Mixed-use land for sale",
         "Victoria Island (VI), Lagos",
         "$25,000,000",
         null,
         null,
         null,
         null,
         "Lagos",
         "Victoria Island (Vi)"
        ],
        [
         "1571",
         "Mixed-use land for sale",
         "Victoria Island (VI), Lagos",
         "$40,000,000",
         null,
         null,
         null,
         null,
         "Lagos",
         "Victoria Island (Vi)"
        ],
        [
         "1737",
         "5 bedroom detached duplex for sale",
         "Ikoyi, Lagos",
         "$2,000,000",
         "5.0",
         "5.0",
         "6.0",
         null,
         "Lagos",
         "Ikoyi"
        ],
        [
         "1748",
         "4 bedroom house for sale",
         "Banana Island, Ikoyi, Lagos",
         "$2,500,000",
         "4.0",
         "5.0",
         "5.0",
         "3.0",
         "Lagos",
         "Ikoyi"
        ]
       ],
       "shape": {
        "columns": 9,
        "rows": 2137
       }
      },
      "text/html": [
       "<div>\n",
       "<style scoped>\n",
       "    .dataframe tbody tr th:only-of-type {\n",
       "        vertical-align: middle;\n",
       "    }\n",
       "\n",
       "    .dataframe tbody tr th {\n",
       "        vertical-align: top;\n",
       "    }\n",
       "\n",
       "    .dataframe thead th {\n",
       "        text-align: right;\n",
       "    }\n",
       "</style>\n",
       "<table border=\"1\" class=\"dataframe\">\n",
       "  <thead>\n",
       "    <tr style=\"text-align: right;\">\n",
       "      <th></th>\n",
       "      <th>type_of_house</th>\n",
       "      <th>location</th>\n",
       "      <th>price</th>\n",
       "      <th>bedrooms</th>\n",
       "      <th>bathrooms</th>\n",
       "      <th>toilets</th>\n",
       "      <th>parking_space</th>\n",
       "      <th>state</th>\n",
       "      <th>town</th>\n",
       "    </tr>\n",
       "  </thead>\n",
       "  <tbody>\n",
       "    <tr>\n",
       "      <th>158</th>\n",
       "      <td>2 bedroom flat / apartment for sale</td>\n",
       "      <td>Tm Highgardens, Harbour Lights District, Eko A...</td>\n",
       "      <td>$270,000</td>\n",
       "      <td>2.0</td>\n",
       "      <td>2.0</td>\n",
       "      <td>3.0</td>\n",
       "      <td>2.0</td>\n",
       "      <td>Lagos</td>\n",
       "      <td>Eko Atlantic City</td>\n",
       "    </tr>\n",
       "    <tr>\n",
       "      <th>328</th>\n",
       "      <td>6 bedroom house for sale</td>\n",
       "      <td>Old Ikoyi, Ikoyi, Lagos</td>\n",
       "      <td>$2,500,000</td>\n",
       "      <td>6.0</td>\n",
       "      <td>NaN</td>\n",
       "      <td>6.0</td>\n",
       "      <td>NaN</td>\n",
       "      <td>Lagos</td>\n",
       "      <td>Ikoyi</td>\n",
       "    </tr>\n",
       "    <tr>\n",
       "      <th>334</th>\n",
       "      <td>Mixed-use land for sale</td>\n",
       "      <td>Ahmadu Bello Way, Victoria Island (VI), Lagos</td>\n",
       "      <td>$4,000,000,000</td>\n",
       "      <td>NaN</td>\n",
       "      <td>NaN</td>\n",
       "      <td>NaN</td>\n",
       "      <td>NaN</td>\n",
       "      <td>Lagos</td>\n",
       "      <td>Victoria Island (Vi)</td>\n",
       "    </tr>\n",
       "    <tr>\n",
       "      <th>343</th>\n",
       "      <td>3 bedroom flat / apartment for sale</td>\n",
       "      <td>Marion Apartment, Banana Island, Ikoyi, Lagos</td>\n",
       "      <td>$1,300,000</td>\n",
       "      <td>3.0</td>\n",
       "      <td>3.0</td>\n",
       "      <td>4.0</td>\n",
       "      <td>NaN</td>\n",
       "      <td>Lagos</td>\n",
       "      <td>Ikoyi</td>\n",
       "    </tr>\n",
       "    <tr>\n",
       "      <th>344</th>\n",
       "      <td>5 bedroom detached duplex for sale</td>\n",
       "      <td>Banana Island, Ikoyi, Lagos</td>\n",
       "      <td>$1,500,000</td>\n",
       "      <td>5.0</td>\n",
       "      <td>5.0</td>\n",
       "      <td>6.0</td>\n",
       "      <td>NaN</td>\n",
       "      <td>Lagos</td>\n",
       "      <td>Ikoyi</td>\n",
       "    </tr>\n",
       "    <tr>\n",
       "      <th>...</th>\n",
       "      <td>...</td>\n",
       "      <td>...</td>\n",
       "      <td>...</td>\n",
       "      <td>...</td>\n",
       "      <td>...</td>\n",
       "      <td>...</td>\n",
       "      <td>...</td>\n",
       "      <td>...</td>\n",
       "      <td>...</td>\n",
       "    </tr>\n",
       "    <tr>\n",
       "      <th>80657</th>\n",
       "      <td>5 bedroom detached duplex for sale</td>\n",
       "      <td>3rd Avenue, Banana Island, Ikoyi, Lagos</td>\n",
       "      <td>$4,000,000</td>\n",
       "      <td>5.0</td>\n",
       "      <td>5.0</td>\n",
       "      <td>6.0</td>\n",
       "      <td>NaN</td>\n",
       "      <td>Lagos</td>\n",
       "      <td>Ikoyi</td>\n",
       "    </tr>\n",
       "    <tr>\n",
       "      <th>80662</th>\n",
       "      <td>6 bedroom detached duplex for sale</td>\n",
       "      <td>Naf Valley Estate, Asokoro District, Abuja</td>\n",
       "      <td>$550,000</td>\n",
       "      <td>6.0</td>\n",
       "      <td>6.0</td>\n",
       "      <td>7.0</td>\n",
       "      <td>3.0</td>\n",
       "      <td>Abuja</td>\n",
       "      <td>Asokoro District</td>\n",
       "    </tr>\n",
       "    <tr>\n",
       "      <th>80670</th>\n",
       "      <td>6 bedroom detached duplex for sale</td>\n",
       "      <td>Naf Valley Estate, Asokoro District, Abuja</td>\n",
       "      <td>$550,000</td>\n",
       "      <td>6.0</td>\n",
       "      <td>6.0</td>\n",
       "      <td>7.0</td>\n",
       "      <td>3.0</td>\n",
       "      <td>Abuja</td>\n",
       "      <td>Asokoro District</td>\n",
       "    </tr>\n",
       "    <tr>\n",
       "      <th>80672</th>\n",
       "      <td>5 bedroom detached duplex for sale</td>\n",
       "      <td>3rd Avenue, Banana Island, Ikoyi, Lagos</td>\n",
       "      <td>$4,000,000</td>\n",
       "      <td>5.0</td>\n",
       "      <td>5.0</td>\n",
       "      <td>6.0</td>\n",
       "      <td>NaN</td>\n",
       "      <td>Lagos</td>\n",
       "      <td>Ikoyi</td>\n",
       "    </tr>\n",
       "    <tr>\n",
       "      <th>80688</th>\n",
       "      <td>5 bedroom detached duplex for sale</td>\n",
       "      <td>3rd Avenue, Banana Island, Ikoyi, Lagos</td>\n",
       "      <td>$4,000,000</td>\n",
       "      <td>5.0</td>\n",
       "      <td>5.0</td>\n",
       "      <td>6.0</td>\n",
       "      <td>NaN</td>\n",
       "      <td>Lagos</td>\n",
       "      <td>Ikoyi</td>\n",
       "    </tr>\n",
       "  </tbody>\n",
       "</table>\n",
       "<p>2137 rows × 9 columns</p>\n",
       "</div>"
      ],
      "text/plain": [
       "                             type_of_house  \\\n",
       "158    2 bedroom flat / apartment for sale   \n",
       "328               6 bedroom house for sale   \n",
       "334                Mixed-use land for sale   \n",
       "343    3 bedroom flat / apartment for sale   \n",
       "344     5 bedroom detached duplex for sale   \n",
       "...                                    ...   \n",
       "80657   5 bedroom detached duplex for sale   \n",
       "80662   6 bedroom detached duplex for sale   \n",
       "80670   6 bedroom detached duplex for sale   \n",
       "80672   5 bedroom detached duplex for sale   \n",
       "80688   5 bedroom detached duplex for sale   \n",
       "\n",
       "                                                location           price  \\\n",
       "158    Tm Highgardens, Harbour Lights District, Eko A...        $270,000   \n",
       "328                              Old Ikoyi, Ikoyi, Lagos      $2,500,000   \n",
       "334        Ahmadu Bello Way, Victoria Island (VI), Lagos  $4,000,000,000   \n",
       "343        Marion Apartment, Banana Island, Ikoyi, Lagos      $1,300,000   \n",
       "344                          Banana Island, Ikoyi, Lagos      $1,500,000   \n",
       "...                                                  ...             ...   \n",
       "80657            3rd Avenue, Banana Island, Ikoyi, Lagos      $4,000,000   \n",
       "80662         Naf Valley Estate, Asokoro District, Abuja        $550,000   \n",
       "80670         Naf Valley Estate, Asokoro District, Abuja        $550,000   \n",
       "80672            3rd Avenue, Banana Island, Ikoyi, Lagos      $4,000,000   \n",
       "80688            3rd Avenue, Banana Island, Ikoyi, Lagos      $4,000,000   \n",
       "\n",
       "       bedrooms  bathrooms  toilets  parking_space  state  \\\n",
       "158         2.0        2.0      3.0            2.0  Lagos   \n",
       "328         6.0        NaN      6.0            NaN  Lagos   \n",
       "334         NaN        NaN      NaN            NaN  Lagos   \n",
       "343         3.0        3.0      4.0            NaN  Lagos   \n",
       "344         5.0        5.0      6.0            NaN  Lagos   \n",
       "...         ...        ...      ...            ...    ...   \n",
       "80657       5.0        5.0      6.0            NaN  Lagos   \n",
       "80662       6.0        6.0      7.0            3.0  Abuja   \n",
       "80670       6.0        6.0      7.0            3.0  Abuja   \n",
       "80672       5.0        5.0      6.0            NaN  Lagos   \n",
       "80688       5.0        5.0      6.0            NaN  Lagos   \n",
       "\n",
       "                       town  \n",
       "158       Eko Atlantic City  \n",
       "328                   Ikoyi  \n",
       "334    Victoria Island (Vi)  \n",
       "343                   Ikoyi  \n",
       "344                   Ikoyi  \n",
       "...                     ...  \n",
       "80657                 Ikoyi  \n",
       "80662      Asokoro District  \n",
       "80670      Asokoro District  \n",
       "80672                 Ikoyi  \n",
       "80688                 Ikoyi  \n",
       "\n",
       "[2137 rows x 9 columns]"
      ]
     },
     "execution_count": 610,
     "metadata": {},
     "output_type": "execute_result"
    }
   ],
   "source": [
    "data[~data[\"price\"].str.contains(\"₦\")]"
   ]
  },
  {
   "cell_type": "code",
   "execution_count": 611,
   "metadata": {},
   "outputs": [
    {
     "data": {
      "text/plain": [
       "type_of_house    Block of flats for sale\n",
       "location          Sangotedo, Ajah, Lagos\n",
       "price                            Unknown\n",
       "bedrooms                             NaN\n",
       "bathrooms                            NaN\n",
       "toilets                              NaN\n",
       "parking_space                        NaN\n",
       "state                              Lagos\n",
       "town                                Ajah\n",
       "Name: 48141, dtype: object"
      ]
     },
     "execution_count": 611,
     "metadata": {},
     "output_type": "execute_result"
    }
   ],
   "source": [
    "data.iloc[48141]"
   ]
  },
  {
   "cell_type": "markdown",
   "metadata": {},
   "source": [
    "Converting all dollar denominated pricing to naira"
   ]
  },
  {
   "cell_type": "code",
   "execution_count": 612,
   "metadata": {},
   "outputs": [],
   "source": [
    "import re"
   ]
  },
  {
   "cell_type": "code",
   "execution_count": 613,
   "metadata": {},
   "outputs": [],
   "source": [
    "def convert_price(price):\n",
    "    \"\"\"\n",
    "    converts price from string to float.\n",
    "    And also converts dollar prices to naira.\n",
    "    \"\"\"\n",
    "    if \"₦\" in price:\n",
    "        price = price.replace(\"₦\", \"\").replace(\",\", \"\")\n",
    "        return float(price)\n",
    "    elif \"$\" in price:\n",
    "        price = price.replace(\"$\", \"\").replace(\",\", \"\")\n",
    "        return float(price) * 1500\n",
    "    else:\n",
    "        return None"
   ]
  },
  {
   "cell_type": "code",
   "execution_count": 614,
   "metadata": {},
   "outputs": [],
   "source": [
    "data[\"price\"] = data[\"price\"].apply(convert_price)"
   ]
  },
  {
   "cell_type": "code",
   "execution_count": 615,
   "metadata": {},
   "outputs": [],
   "source": [
    "data = data[~data[\"price\"].isna()]"
   ]
  },
  {
   "cell_type": "markdown",
   "metadata": {},
   "source": [
    "Detecting and removing outliers"
   ]
  },
  {
   "cell_type": "code",
   "execution_count": 616,
   "metadata": {},
   "outputs": [],
   "source": [
    "data = data[data[\"bedrooms\"] < 20]\n",
    "data = data[data[\"bathrooms\"] < 20]\n",
    "data = data[data[\"toilets\"] < 20]\n",
    "data = data[data[\"parking_space\"] < 20]"
   ]
  },
  {
   "cell_type": "code",
   "execution_count": 628,
   "metadata": {},
   "outputs": [
    {
     "data": {
      "text/plain": [
       "<Axes: >"
      ]
     },
     "execution_count": 628,
     "metadata": {},
     "output_type": "execute_result"
    },
    {
     "data": {
      "image/png": "[encoded data removed]",
      "text/plain": [
       "<Figure size 640x480 with 1 Axes>"
      ]
     },
     "metadata": {},
     "output_type": "display_data"
    }
   ],
   "source": [
    "data[\"price\"].plot(kind=\"box\")"
   ]
  },
  {
   "cell_type": "code",
   "execution_count": 618,
   "metadata": {},
   "outputs": [
    {
     "data": {
      "text/plain": [
       "<Axes: >"
      ]
     },
     "execution_count": 618,
     "metadata": {},
     "output_type": "execute_result"
    },
    {
     "data": {
      "image/png": "[encoded data removed]",
      "text/plain": [
       "<Figure size 640x480 with 1 Axes>"
      ]
     },
     "metadata": {},
     "output_type": "display_data"
    }
   ],
   "source": [
    "data[\"bedrooms\"].plot(kind=\"box\")"
   ]
  },
  {
   "cell_type": "code",
   "execution_count": 629,
   "metadata": {},
   "outputs": [
    {
     "data": {
      "application/vnd.microsoft.datawrangler.viewer.v0+json": {
       "columns": [
        {
         "name": "index",
         "rawType": "object",
         "type": "string"
        },
        {
         "name": "price",
         "rawType": "float64",
         "type": "float"
        },
        {
         "name": "bedrooms",
         "rawType": "float64",
         "type": "float"
        },
        {
         "name": "bathrooms",
         "rawType": "float64",
         "type": "float"
        },
        {
         "name": "toilets",
         "rawType": "float64",
         "type": "float"
        },
        {
         "name": "parking_space",
         "rawType": "float64",
         "type": "float"
        }
       ],
       "conversionMethod": "pd.DataFrame",
       "ref": "ec73cee7-2d0b-455d-89bd-5ce159e93bfb",
       "rows": [
        [
         "count",
         "28925.0",
         "28925.0",
         "28925.0",
         "28925.0",
         "28925.0"
        ],
        [
         "mean",
         "355779117.09258425",
         "4.019740708729473",
         "4.201970613656007",
         "4.9831979256698355",
         "3.9340708729472773"
        ],
        [
         "std",
         "461465230.6990425",
         "1.3652761556941744",
         "1.4657865485413477",
         "1.511169795651329",
         "2.277654109105072"
        ],
        [
         "min",
         "100000.0",
         "1.0",
         "1.0",
         "1.0",
         "1.0"
        ],
        [
         "25%",
         "120000000.0",
         "3.0",
         "3.0",
         "4.0",
         "2.0"
        ],
        [
         "50%",
         "220000000.0",
         "4.0",
         "4.0",
         "5.0",
         "3.0"
        ],
        [
         "75%",
         "400000000.0",
         "5.0",
         "5.0",
         "6.0",
         "5.0"
        ],
        [
         "max",
         "3950000000.0",
         "18.0",
         "18.0",
         "19.0",
         "19.0"
        ]
       ],
       "shape": {
        "columns": 5,
        "rows": 8
       }
      },
      "text/html": [
       "<div>\n",
       "<style scoped>\n",
       "    .dataframe tbody tr th:only-of-type {\n",
       "        vertical-align: middle;\n",
       "    }\n",
       "\n",
       "    .dataframe tbody tr th {\n",
       "        vertical-align: top;\n",
       "    }\n",
       "\n",
       "    .dataframe thead th {\n",
       "        text-align: right;\n",
       "    }\n",
       "</style>\n",
       "<table border=\"1\" class=\"dataframe\">\n",
       "  <thead>\n",
       "    <tr style=\"text-align: right;\">\n",
       "      <th></th>\n",
       "      <th>price</th>\n",
       "      <th>bedrooms</th>\n",
       "      <th>bathrooms</th>\n",
       "      <th>toilets</th>\n",
       "      <th>parking_space</th>\n",
       "    </tr>\n",
       "  </thead>\n",
       "  <tbody>\n",
       "    <tr>\n",
       "      <th>count</th>\n",
       "      <td>2.892500e+04</td>\n",
       "      <td>28925.000000</td>\n",
       "      <td>28925.000000</td>\n",
       "      <td>28925.000000</td>\n",
       "      <td>28925.000000</td>\n",
       "    </tr>\n",
       "    <tr>\n",
       "      <th>mean</th>\n",
       "      <td>3.557791e+08</td>\n",
       "      <td>4.019741</td>\n",
       "      <td>4.201971</td>\n",
       "      <td>4.983198</td>\n",
       "      <td>3.934071</td>\n",
       "    </tr>\n",
       "    <tr>\n",
       "      <th>std</th>\n",
       "      <td>4.614652e+08</td>\n",
       "      <td>1.365276</td>\n",
       "      <td>1.465787</td>\n",
       "      <td>1.511170</td>\n",
       "      <td>2.277654</td>\n",
       "    </tr>\n",
       "    <tr>\n",
       "      <th>min</th>\n",
       "      <td>1.000000e+05</td>\n",
       "      <td>1.000000</td>\n",
       "      <td>1.000000</td>\n",
       "      <td>1.000000</td>\n",
       "      <td>1.000000</td>\n",
       "    </tr>\n",
       "    <tr>\n",
       "      <th>25%</th>\n",
       "      <td>1.200000e+08</td>\n",
       "      <td>3.000000</td>\n",
       "      <td>3.000000</td>\n",
       "      <td>4.000000</td>\n",
       "      <td>2.000000</td>\n",
       "    </tr>\n",
       "    <tr>\n",
       "      <th>50%</th>\n",
       "      <td>2.200000e+08</td>\n",
       "      <td>4.000000</td>\n",
       "      <td>4.000000</td>\n",
       "      <td>5.000000</td>\n",
       "      <td>3.000000</td>\n",
       "    </tr>\n",
       "    <tr>\n",
       "      <th>75%</th>\n",
       "      <td>4.000000e+08</td>\n",
       "      <td>5.000000</td>\n",
       "      <td>5.000000</td>\n",
       "      <td>6.000000</td>\n",
       "      <td>5.000000</td>\n",
       "    </tr>\n",
       "    <tr>\n",
       "      <th>max</th>\n",
       "      <td>3.950000e+09</td>\n",
       "      <td>18.000000</td>\n",
       "      <td>18.000000</td>\n",
       "      <td>19.000000</td>\n",
       "      <td>19.000000</td>\n",
       "    </tr>\n",
       "  </tbody>\n",
       "</table>\n",
       "</div>"
      ],
      "text/plain": [
       "              price      bedrooms     bathrooms       toilets  parking_space\n",
       "count  2.892500e+04  28925.000000  28925.000000  28925.000000   28925.000000\n",
       "mean   3.557791e+08      4.019741      4.201971      4.983198       3.934071\n",
       "std    4.614652e+08      1.365276      1.465787      1.511170       2.277654\n",
       "min    1.000000e+05      1.000000      1.000000      1.000000       1.000000\n",
       "25%    1.200000e+08      3.000000      3.000000      4.000000       2.000000\n",
       "50%    2.200000e+08      4.000000      4.000000      5.000000       3.000000\n",
       "75%    4.000000e+08      5.000000      5.000000      6.000000       5.000000\n",
       "max    3.950000e+09     18.000000     18.000000     19.000000      19.000000"
      ]
     },
     "execution_count": 629,
     "metadata": {},
     "output_type": "execute_result"
    }
   ],
   "source": [
    "data.describe() "
   ]
  },
  {
   "cell_type": "code",
   "execution_count": 622,
   "metadata": {},
   "outputs": [
    {
     "data": {
      "application/vnd.microsoft.datawrangler.viewer.v0+json": {
       "columns": [
        {
         "name": "index",
         "rawType": "int64",
         "type": "integer"
        },
        {
         "name": "type_of_house",
         "rawType": "object",
         "type": "string"
        },
        {
         "name": "location",
         "rawType": "object",
         "type": "string"
        },
        {
         "name": "price",
         "rawType": "float64",
         "type": "float"
        },
        {
         "name": "bedrooms",
         "rawType": "float64",
         "type": "float"
        },
        {
         "name": "bathrooms",
         "rawType": "float64",
         "type": "float"
        },
        {
         "name": "toilets",
         "rawType": "float64",
         "type": "float"
        },
        {
         "name": "parking_space",
         "rawType": "float64",
         "type": "float"
        },
        {
         "name": "state",
         "rawType": "object",
         "type": "string"
        },
        {
         "name": "town",
         "rawType": "object",
         "type": "string"
        }
       ],
       "conversionMethod": "pd.DataFrame",
       "ref": "35fbf1ef-95f6-4a77-b0d2-2126c01af783",
       "rows": [
        [
         "399",
         "12 bedroom detached bungalow for sale",
         "Gwarimpa Main By 3rd Avenue, Gwarinpa, Abuja",
         "450000000.0",
         "12.0",
         "12.0",
         "18.0",
         "15.0",
         "Abuja",
         "Gwarinpa"
        ],
        [
         "1154",
         "14 bedroom detached duplex for sale",
         "Off Ligali Ayorinde Street, Victoria Island Lagos, Victoria Island (VI), Lagos",
         "2400000000.0",
         "14.0",
         "16.0",
         "18.0",
         "15.0",
         "Lagos",
         "Victoria Island (Vi)"
        ],
        [
         "2320",
         "13 bedroom semi-detached duplex for sale",
         "Mercy Land Extension, Rumuigbo, Port Harcourt, Rivers",
         "250000000.0",
         "13.0",
         "17.0",
         "17.0",
         "10.0",
         "Rivers",
         "Port Harcourt"
        ],
        [
         "2552",
         "12 bedroom block of flats for sale",
         "Short Drive From Ojodu Berger, Arepo, Magboro, Ogun",
         "65000000.0",
         "12.0",
         "12.0",
         "17.0",
         "6.0",
         "Ogun",
         "Magboro"
        ],
        [
         "4022",
         "12 bedroom detached duplex for sale",
         "Gra, Back Of Excellence Hotel, Ogba, Ikeja, Lagos",
         "500000000.0",
         "12.0",
         "12.0",
         "14.0",
         "10.0",
         "Lagos",
         "Ikeja"
        ],
        [
         "4092",
         "11 bedroom detached duplex for sale",
         "Guzape District, Abuja",
         "3000000000.0",
         "11.0",
         "12.0",
         "12.0",
         "10.0",
         "Abuja",
         "Guzape District"
        ],
        [
         "4354",
         "11 bedroom hotel / guest house for sale",
         "(off 3rd Avenue), Gwarinpa, Abuja",
         "500000000.0",
         "11.0",
         "15.0",
         "15.0",
         "15.0",
         "Abuja",
         "Gwarinpa"
        ],
        [
         "4860",
         "13 bedroom block of flats for sale",
         "Alhaji Estate, Rumuodomaya, Port Harcourt, Rivers",
         "100000000.0",
         "13.0",
         "14.0",
         "19.0",
         "10.0",
         "Rivers",
         "Port Harcourt"
        ],
        [
         "4975",
         "11 bedroom commercial property for sale",
         "Victoria Island (VI), Lagos",
         "2400000000.0",
         "11.0",
         "9.0",
         "8.0",
         "10.0",
         "Lagos",
         "Victoria Island (Vi)"
        ],
        [
         "5022",
         "12 bedroom flat / apartment for sale",
         "Area 8, Garki, Abuja",
         "550000000.0",
         "12.0",
         "12.0",
         "16.0",
         "10.0",
         "Abuja",
         "Garki"
        ],
        [
         "5349",
         "15 bedroom hotel / guest house for sale",
         "Trans Ekulu, Enugu, Enugu",
         "300000000.0",
         "15.0",
         "16.0",
         "16.0",
         "10.0",
         "Enugu",
         "Enugu"
        ],
        [
         "5479",
         "13 bedroom detached duplex for sale",
         "Between Games Village And Prince And Princess Estate, Kaura, Abuja",
         "650000000.0",
         "13.0",
         "13.0",
         "15.0",
         "12.0",
         "Abuja",
         "Kaura"
        ],
        [
         "5489",
         "15 bedroom hotel / guest house for sale",
         "Wuye, Abuja",
         "900000000.0",
         "15.0",
         "18.0",
         "18.0",
         "15.0",
         "Abuja",
         "Wuye"
        ],
        [
         "6952",
         "16 bedroom hotel / guest house for sale",
         "Gwarinpa, Abuja",
         "700000000.0",
         "16.0",
         "16.0",
         "16.0",
         "16.0",
         "Abuja",
         "Gwarinpa"
        ],
        [
         "7419",
         "12 bedroom house for sale",
         "Surulere, Lagos",
         "220000000.0",
         "12.0",
         "12.0",
         "12.0",
         "15.0",
         "Lagos",
         "Surulere"
        ],
        [
         "8166",
         "12 bedroom detached duplex for sale",
         "Lekki Enclave Opposite Earls Court Estate., Ikate Elegushi, Lekki, Lagos",
         "700000000.0",
         "12.0",
         "14.0",
         "14.0",
         "8.0",
         "Lagos",
         "Lekki"
        ],
        [
         "8249",
         "13 bedroom detached duplex for sale",
         "Maitama District, Abuja",
         "6000000000.0",
         "13.0",
         "13.0",
         "14.0",
         "9.0",
         "Abuja",
         "Maitama District"
        ],
        [
         "8535",
         "12 bedroom block of flats for sale",
         "Gbada - Salami Street, Idimu, Lagos",
         "150000000.0",
         "12.0",
         "8.0",
         "12.0",
         "8.0",
         "Lagos",
         "Idimu"
        ],
        [
         "9686",
         "16 bedroom house for sale",
         "Ikeja GRA, Ikeja, Lagos",
         "800000000.0",
         "16.0",
         "16.0",
         "16.0",
         "8.0",
         "Lagos",
         "Ikeja"
        ],
        [
         "9980",
         "12 bedroom detached duplex for sale",
         "Wempco, Agidingbi, Ikeja, Lagos",
         "650000000.0",
         "12.0",
         "13.0",
         "13.0",
         "12.0",
         "Lagos",
         "Ikeja"
        ],
        [
         "10212",
         "12 bedroom flat / apartment for sale",
         "Jahi, Abuja",
         "580000000.0",
         "12.0",
         "12.0",
         "18.0",
         "12.0",
         "Abuja",
         "Jahi"
        ],
        [
         "10478",
         "14 bedroom house for sale",
         "Onitsha, Anambra",
         "240000000.0",
         "14.0",
         "14.0",
         "15.0",
         "8.0",
         "Anambra",
         "Onitsha"
        ],
        [
         "11356",
         "14 bedroom house for sale",
         "Abaranje, Ikotun, Lagos",
         "85000000.0",
         "14.0",
         "18.0",
         "18.0",
         "7.0",
         "Lagos",
         "Ikotun"
        ],
        [
         "11729",
         "12 bedroom house for sale",
         "Baruwa, Ipaja, Lagos",
         "55000000.0",
         "12.0",
         "16.0",
         "16.0",
         "6.0",
         "Lagos",
         "Ipaja"
        ],
        [
         "12159",
         "12 bedroom house for sale",
         "Off Orisumibare Road, Idimu, Lagos",
         "90000000.0",
         "12.0",
         "12.0",
         "16.0",
         "7.0",
         "Lagos",
         "Idimu"
        ],
        [
         "12234",
         "11 bedroom detached duplex for sale",
         "Diamond Estate, Ipaja, Lagos",
         "280000000.0",
         "11.0",
         "11.0",
         "11.0",
         "5.0",
         "Lagos",
         "Ipaja"
        ],
        [
         "14370",
         "12 bedroom flat / apartment for sale",
         "Wuye, Abuja",
         "580000000.0",
         "12.0",
         "12.0",
         "18.0",
         "14.0",
         "Abuja",
         "Wuye"
        ],
        [
         "15864",
         "13 bedroom detached duplex for sale",
         "Oba Akran, Ikeja, Lagos",
         "600000000.0",
         "13.0",
         "13.0",
         "14.0",
         "8.0",
         "Lagos",
         "Ikeja"
        ],
        [
         "16531",
         "12 bedroom block of flats for sale",
         "Off Mobil Road, Ilaje, Ajah, Lagos",
         "180000000.0",
         "12.0",
         "12.0",
         "14.0",
         "12.0",
         "Lagos",
         "Ajah"
        ],
        [
         "16630",
         "13 bedroom detached duplex for sale",
         "Victoria Island (VI), Lagos",
         "3000000000.0",
         "13.0",
         "4.0",
         "14.0",
         "15.0",
         "Lagos",
         "Victoria Island (Vi)"
        ],
        [
         "16865",
         "17 bedroom hotel / guest house for sale",
         "Trans Ekulu, Enugu, Enugu",
         "250000000.0",
         "17.0",
         "18.0",
         "10.0",
         "14.0",
         "Enugu",
         "Enugu"
        ],
        [
         "17006",
         "12 bedroom block of flats for sale",
         "2 Olufunke Abeke Close, Greenville Estate, Badore, Ajah, Lagos",
         "150000000.0",
         "12.0",
         "12.0",
         "12.0",
         "6.0",
         "Lagos",
         "Ajah"
        ],
        [
         "17171",
         "14 bedroom detached duplex for sale",
         "Off Arida Bus Stop, Ikotun, Lagos",
         "500000000.0",
         "14.0",
         "14.0",
         "14.0",
         "14.0",
         "Lagos",
         "Ikotun"
        ],
        [
         "17566",
         "12 bedroom flat / apartment for sale",
         "Maya, Ikorodu, Lagos",
         "60000000.0",
         "12.0",
         "11.0",
         "11.0",
         "5.0",
         "Lagos",
         "Ikorodu"
        ],
        [
         "18710",
         "12 bedroom block of flats for sale",
         "Oakland Estate, Sangotedo, Ajah, Lagos",
         "180000000.0",
         "12.0",
         "12.0",
         "16.0",
         "8.0",
         "Lagos",
         "Ajah"
        ],
        [
         "19459",
         "11 bedroom detached duplex for sale",
         "Victoria Island (VI), Lagos",
         "2400000000.0",
         "11.0",
         "11.0",
         "12.0",
         "11.0",
         "Lagos",
         "Victoria Island (Vi)"
        ],
        [
         "19640",
         "18 bedroom hotel / guest house for sale",
         "By Shoprite, Alausa, Ikeja, Lagos",
         "70000000.0",
         "18.0",
         "18.0",
         "18.0",
         "18.0",
         "Lagos",
         "Ikeja"
        ],
        [
         "19696",
         "12 bedroom house for sale",
         "Surulere, Lagos",
         "140000000.0",
         "12.0",
         "8.0",
         "8.0",
         "4.0",
         "Lagos",
         "Surulere"
        ],
        [
         "19997",
         "13 bedroom block of flats for sale",
         "Off Gana Street, Maitama District, Abuja",
         "1800000000.0",
         "13.0",
         "13.0",
         "19.0",
         "7.0",
         "Abuja",
         "Maitama District"
        ],
        [
         "20351",
         "16 bedroom hotel / guest house for sale",
         "Main, Gwarinpa, Abuja",
         "550000000.0",
         "16.0",
         "16.0",
         "16.0",
         "16.0",
         "Abuja",
         "Gwarinpa"
        ],
        [
         "21968",
         "18 bedroom block of flats for sale",
         "Ajao Estate, Papa Ajao, Mushin, Lagos",
         "500000000.0",
         "18.0",
         "18.0",
         "19.0",
         "10.0",
         "Lagos",
         "Mushin"
        ],
        [
         "22470",
         "15 bedroom block of flats for sale",
         "Araromi, Iyana Ipaja, Ipaja, Lagos",
         "95000000.0",
         "15.0",
         "15.0",
         "15.0",
         "5.0",
         "Lagos",
         "Ipaja"
        ],
        [
         "24107",
         "11 bedroom hotel / guest house for sale",
         "Corner Stone Estate Nta Road, Ozuoba, Port Harcourt, Rivers",
         "110000000.0",
         "11.0",
         "11.0",
         "14.0",
         "16.0",
         "Rivers",
         "Port Harcourt"
        ],
        [
         "24161",
         "15 bedroom detached duplex for sale",
         "Awuse, Opebi, Ikeja, Lagos",
         "600000000.0",
         "15.0",
         "15.0",
         "18.0",
         "17.0",
         "Lagos",
         "Ikeja"
        ],
        [
         "24349",
         "12 bedroom flat / apartment for sale",
         "First Unity Estate, Badore, Ajah, Lagos",
         "110000000.0",
         "12.0",
         "8.0",
         "12.0",
         "8.0",
         "Lagos",
         "Ajah"
        ],
        [
         "25109",
         "17 bedroom hotel / guest house for sale",
         "Off Liasu Road, Egbe / Idimu, Ikotun, Lagos",
         "250000000.0",
         "17.0",
         "18.0",
         "18.0",
         "8.0",
         "Lagos",
         "Ikotun"
        ],
        [
         "25194",
         "12 bedroom detached bungalow for sale",
         "Off Papaa Bus-stop, Elebute, Ifo, Ogun",
         "15000000.0",
         "12.0",
         "3.0",
         "3.0",
         "8.0",
         "Ogun",
         "Ifo"
        ],
        [
         "25410",
         "14 bedroom house for sale",
         "Victoria Island (VI), Lagos",
         "2400000000.0",
         "14.0",
         "14.0",
         "15.0",
         "9.0",
         "Lagos",
         "Victoria Island (Vi)"
        ],
        [
         "29046",
         "14 bedroom house for sale",
         "Ligali Ayorinde Street, Victoria Island Extension, Victoria Island (VI), Lagos",
         "2400000000.0",
         "14.0",
         "12.0",
         "13.0",
         "10.0",
         "Lagos",
         "Victoria Island (Vi)"
        ],
        [
         "29505",
         "18 bedroom hotel / guest house for sale",
         "Golf Estate Phase 1, Old Gra, GRA, Enugu, Enugu",
         "400000000.0",
         "18.0",
         "18.0",
         "18.0",
         "10.0",
         "Enugu",
         "Enugu"
        ]
       ],
       "shape": {
        "columns": 9,
        "rows": 156
       }
      },
      "text/html": [
       "<div>\n",
       "<style scoped>\n",
       "    .dataframe tbody tr th:only-of-type {\n",
       "        vertical-align: middle;\n",
       "    }\n",
       "\n",
       "    .dataframe tbody tr th {\n",
       "        vertical-align: top;\n",
       "    }\n",
       "\n",
       "    .dataframe thead th {\n",
       "        text-align: right;\n",
       "    }\n",
       "</style>\n",
       "<table border=\"1\" class=\"dataframe\">\n",
       "  <thead>\n",
       "    <tr style=\"text-align: right;\">\n",
       "      <th></th>\n",
       "      <th>type_of_house</th>\n",
       "      <th>location</th>\n",
       "      <th>price</th>\n",
       "      <th>bedrooms</th>\n",
       "      <th>bathrooms</th>\n",
       "      <th>toilets</th>\n",
       "      <th>parking_space</th>\n",
       "      <th>state</th>\n",
       "      <th>town</th>\n",
       "    </tr>\n",
       "  </thead>\n",
       "  <tbody>\n",
       "    <tr>\n",
       "      <th>399</th>\n",
       "      <td>12 bedroom detached bungalow for sale</td>\n",
       "      <td>Gwarimpa Main By 3rd Avenue, Gwarinpa, Abuja</td>\n",
       "      <td>4.500000e+08</td>\n",
       "      <td>12.0</td>\n",
       "      <td>12.0</td>\n",
       "      <td>18.0</td>\n",
       "      <td>15.0</td>\n",
       "      <td>Abuja</td>\n",
       "      <td>Gwarinpa</td>\n",
       "    </tr>\n",
       "    <tr>\n",
       "      <th>1154</th>\n",
       "      <td>14 bedroom detached duplex for sale</td>\n",
       "      <td>Off Ligali Ayorinde Street, Victoria Island La...</td>\n",
       "      <td>2.400000e+09</td>\n",
       "      <td>14.0</td>\n",
       "      <td>16.0</td>\n",
       "      <td>18.0</td>\n",
       "      <td>15.0</td>\n",
       "      <td>Lagos</td>\n",
       "      <td>Victoria Island (Vi)</td>\n",
       "    </tr>\n",
       "    <tr>\n",
       "      <th>2320</th>\n",
       "      <td>13 bedroom semi-detached duplex for sale</td>\n",
       "      <td>Mercy Land Extension, Rumuigbo, Port Harcourt,...</td>\n",
       "      <td>2.500000e+08</td>\n",
       "      <td>13.0</td>\n",
       "      <td>17.0</td>\n",
       "      <td>17.0</td>\n",
       "      <td>10.0</td>\n",
       "      <td>Rivers</td>\n",
       "      <td>Port Harcourt</td>\n",
       "    </tr>\n",
       "    <tr>\n",
       "      <th>2552</th>\n",
       "      <td>12 bedroom block of flats for sale</td>\n",
       "      <td>Short Drive From Ojodu Berger, Arepo, Magboro,...</td>\n",
       "      <td>6.500000e+07</td>\n",
       "      <td>12.0</td>\n",
       "      <td>12.0</td>\n",
       "      <td>17.0</td>\n",
       "      <td>6.0</td>\n",
       "      <td>Ogun</td>\n",
       "      <td>Magboro</td>\n",
       "    </tr>\n",
       "    <tr>\n",
       "      <th>4022</th>\n",
       "      <td>12 bedroom detached duplex for sale</td>\n",
       "      <td>Gra, Back Of Excellence Hotel, Ogba, Ikeja, Lagos</td>\n",
       "      <td>5.000000e+08</td>\n",
       "      <td>12.0</td>\n",
       "      <td>12.0</td>\n",
       "      <td>14.0</td>\n",
       "      <td>10.0</td>\n",
       "      <td>Lagos</td>\n",
       "      <td>Ikeja</td>\n",
       "    </tr>\n",
       "    <tr>\n",
       "      <th>...</th>\n",
       "      <td>...</td>\n",
       "      <td>...</td>\n",
       "      <td>...</td>\n",
       "      <td>...</td>\n",
       "      <td>...</td>\n",
       "      <td>...</td>\n",
       "      <td>...</td>\n",
       "      <td>...</td>\n",
       "      <td>...</td>\n",
       "    </tr>\n",
       "    <tr>\n",
       "      <th>77749</th>\n",
       "      <td>12 bedroom detached duplex for sale</td>\n",
       "      <td>Guzape District, Abuja</td>\n",
       "      <td>1.200000e+09</td>\n",
       "      <td>12.0</td>\n",
       "      <td>13.0</td>\n",
       "      <td>13.0</td>\n",
       "      <td>10.0</td>\n",
       "      <td>Abuja</td>\n",
       "      <td>Guzape District</td>\n",
       "    </tr>\n",
       "    <tr>\n",
       "      <th>77779</th>\n",
       "      <td>12 bedroom block of flats for sale</td>\n",
       "      <td>Agbede Village Funaab, Abeokuta South, Ogun</td>\n",
       "      <td>2.000000e+07</td>\n",
       "      <td>12.0</td>\n",
       "      <td>12.0</td>\n",
       "      <td>12.0</td>\n",
       "      <td>4.0</td>\n",
       "      <td>Ogun</td>\n",
       "      <td>Abeokuta South</td>\n",
       "    </tr>\n",
       "    <tr>\n",
       "      <th>78038</th>\n",
       "      <td>12 bedroom block of flats for sale</td>\n",
       "      <td>Alafara, Ologuneru, Ibadan, Oyo</td>\n",
       "      <td>1.200000e+08</td>\n",
       "      <td>12.0</td>\n",
       "      <td>12.0</td>\n",
       "      <td>16.0</td>\n",
       "      <td>8.0</td>\n",
       "      <td>Oyo</td>\n",
       "      <td>Ibadan</td>\n",
       "    </tr>\n",
       "    <tr>\n",
       "      <th>79728</th>\n",
       "      <td>12 bedroom detached bungalow for sale</td>\n",
       "      <td>Adeyefa Estate, Iyana Ipaja, Ipaja, Lagos</td>\n",
       "      <td>3.500000e+07</td>\n",
       "      <td>12.0</td>\n",
       "      <td>12.0</td>\n",
       "      <td>13.0</td>\n",
       "      <td>10.0</td>\n",
       "      <td>Lagos</td>\n",
       "      <td>Ipaja</td>\n",
       "    </tr>\n",
       "    <tr>\n",
       "      <th>80408</th>\n",
       "      <td>16 bedroom detached duplex for sale</td>\n",
       "      <td>Jahi, Abuja</td>\n",
       "      <td>7.000000e+08</td>\n",
       "      <td>16.0</td>\n",
       "      <td>16.0</td>\n",
       "      <td>17.0</td>\n",
       "      <td>15.0</td>\n",
       "      <td>Abuja</td>\n",
       "      <td>Jahi</td>\n",
       "    </tr>\n",
       "  </tbody>\n",
       "</table>\n",
       "<p>156 rows × 9 columns</p>\n",
       "</div>"
      ],
      "text/plain": [
       "                                  type_of_house  \\\n",
       "399       12 bedroom detached bungalow for sale   \n",
       "1154        14 bedroom detached duplex for sale   \n",
       "2320   13 bedroom semi-detached duplex for sale   \n",
       "2552         12 bedroom block of flats for sale   \n",
       "4022        12 bedroom detached duplex for sale   \n",
       "...                                         ...   \n",
       "77749       12 bedroom detached duplex for sale   \n",
       "77779        12 bedroom block of flats for sale   \n",
       "78038        12 bedroom block of flats for sale   \n",
       "79728     12 bedroom detached bungalow for sale   \n",
       "80408       16 bedroom detached duplex for sale   \n",
       "\n",
       "                                                location         price  \\\n",
       "399         Gwarimpa Main By 3rd Avenue, Gwarinpa, Abuja  4.500000e+08   \n",
       "1154   Off Ligali Ayorinde Street, Victoria Island La...  2.400000e+09   \n",
       "2320   Mercy Land Extension, Rumuigbo, Port Harcourt,...  2.500000e+08   \n",
       "2552   Short Drive From Ojodu Berger, Arepo, Magboro,...  6.500000e+07   \n",
       "4022   Gra, Back Of Excellence Hotel, Ogba, Ikeja, Lagos  5.000000e+08   \n",
       "...                                                  ...           ...   \n",
       "77749                             Guzape District, Abuja  1.200000e+09   \n",
       "77779        Agbede Village Funaab, Abeokuta South, Ogun  2.000000e+07   \n",
       "78038                    Alafara, Ologuneru, Ibadan, Oyo  1.200000e+08   \n",
       "79728          Adeyefa Estate, Iyana Ipaja, Ipaja, Lagos  3.500000e+07   \n",
       "80408                                        Jahi, Abuja  7.000000e+08   \n",
       "\n",
       "       bedrooms  bathrooms  toilets  parking_space   state  \\\n",
       "399        12.0       12.0     18.0           15.0   Abuja   \n",
       "1154       14.0       16.0     18.0           15.0   Lagos   \n",
       "2320       13.0       17.0     17.0           10.0  Rivers   \n",
       "2552       12.0       12.0     17.0            6.0    Ogun   \n",
       "4022       12.0       12.0     14.0           10.0   Lagos   \n",
       "...         ...        ...      ...            ...     ...   \n",
       "77749      12.0       13.0     13.0           10.0   Abuja   \n",
       "77779      12.0       12.0     12.0            4.0    Ogun   \n",
       "78038      12.0       12.0     16.0            8.0     Oyo   \n",
       "79728      12.0       12.0     13.0           10.0   Lagos   \n",
       "80408      16.0       16.0     17.0           15.0   Abuja   \n",
       "\n",
       "                       town  \n",
       "399                Gwarinpa  \n",
       "1154   Victoria Island (Vi)  \n",
       "2320          Port Harcourt  \n",
       "2552                Magboro  \n",
       "4022                  Ikeja  \n",
       "...                     ...  \n",
       "77749       Guzape District  \n",
       "77779        Abeokuta South  \n",
       "78038                Ibadan  \n",
       "79728                 Ipaja  \n",
       "80408                  Jahi  \n",
       "\n",
       "[156 rows x 9 columns]"
      ]
     },
     "execution_count": 622,
     "metadata": {},
     "output_type": "execute_result"
    }
   ],
   "source": [
    "data[data[\"bedrooms\"] > 10]"
   ]
  },
  {
   "cell_type": "code",
   "execution_count": 627,
   "metadata": {},
   "outputs": [
    {
     "data": {
      "text/plain": [
       "<Axes: >"
      ]
     },
     "execution_count": 627,
     "metadata": {},
     "output_type": "execute_result"
    },
    {
     "data": {
      "image/png": "[encoded data removed]",
      "text/plain": [
       "<Figure size 640x480 with 1 Axes>"
      ]
     },
     "metadata": {},
     "output_type": "display_data"
    }
   ],
   "source": [
    "data[\"price\"].hist()"
   ]
  },
  {
   "cell_type": "code",
   "execution_count": 624,
   "metadata": {},
   "outputs": [],
   "source": [
    "data = data[data[\"price\"] < 4000000000]"
   ]
  },
  {
   "cell_type": "code",
   "execution_count": 625,
   "metadata": {},
   "outputs": [
    {
     "data": {
      "text/plain": [
       "<Axes: >"
      ]
     },
     "execution_count": 625,
     "metadata": {},
     "output_type": "execute_result"
    },
    {
     "data": {
      "image/png": "[encoded data removed]",
      "text/plain": [
       "<Figure size 640x480 with 1 Axes>"
      ]
     },
     "metadata": {},
     "output_type": "display_data"
    }
   ],
   "source": [
    "data[\"price\"].plot(kind=\"box\")"
   ]
  },
  {
   "cell_type": "code",
   "execution_count": 626,
   "metadata": {},
   "outputs": [
    {
     "data": {
      "image/png": "[encoded data removed]",
      "text/plain": [
       "<Figure size 1000x500 with 1 Axes>"
      ]
     },
     "metadata": {},
     "output_type": "display_data"
    }
   ],
   "source": [
    "plt.figure(figsize=(10, 5))\n",
    "sns.histplot(data[\"price\"], bins=30, kde=True)\n",
    "plt.title(\"Distribution of House prices\")\n",
    "plt.xlabel(\"Price in Naira\")\n",
    "plt.show()"
   ]
  },
  {
   "cell_type": "code",
   "execution_count": 630,
   "metadata": {},
   "outputs": [],
   "source": [
    "data['price_log'] = np.log1p(data['price'])"
   ]
  },
  {
   "cell_type": "code",
   "execution_count": 632,
   "metadata": {},
   "outputs": [
    {
     "data": {
      "image/png": "[encoded data removed]",
      "text/plain": [
       "<Figure size 1000x500 with 1 Axes>"
      ]
     },
     "metadata": {},
     "output_type": "display_data"
    }
   ],
   "source": [
    "plt.figure(figsize=(10, 5))\n",
    "sns.histplot(data[\"price_log\"], bins=30, kde=True)\n",
    "plt.title(\"Distribution of House prices\")\n",
    "plt.xlabel(\"Price in Naira\")\n",
    "plt.show()"
   ]
  },
  {
   "cell_type": "code",
   "execution_count": 633,
   "metadata": {},
   "outputs": [
    {
     "data": {
      "application/vnd.microsoft.datawrangler.viewer.v0+json": {
       "columns": [
        {
         "name": "index",
         "rawType": "object",
         "type": "string"
        },
        {
         "name": "price",
         "rawType": "float64",
         "type": "float"
        },
        {
         "name": "bedrooms",
         "rawType": "float64",
         "type": "float"
        },
        {
         "name": "bathrooms",
         "rawType": "float64",
         "type": "float"
        },
        {
         "name": "toilets",
         "rawType": "float64",
         "type": "float"
        },
        {
         "name": "parking_space",
         "rawType": "float64",
         "type": "float"
        },
        {
         "name": "price_log",
         "rawType": "float64",
         "type": "float"
        }
       ],
       "conversionMethod": "pd.DataFrame",
       "ref": "90027f09-3d64-4fc6-97b8-fe23c398af56",
       "rows": [
        [
         "count",
         "28925.0",
         "28925.0",
         "28925.0",
         "28925.0",
         "28925.0",
         "28925.0"
        ],
        [
         "mean",
         "355779117.09258425",
         "4.019740708729473",
         "4.201970613656007",
         "4.9831979256698355",
         "3.9340708729472773",
         "19.22830437168383"
        ],
        [
         "std",
         "461465230.6990425",
         "1.3652761556941744",
         "1.4657865485413477",
         "1.511169795651329",
         "2.277654109105072",
         "0.9383524361682525"
        ],
        [
         "min",
         "100000.0",
         "1.0",
         "1.0",
         "1.0",
         "1.0",
         "11.51293546492023"
        ],
        [
         "25%",
         "120000000.0",
         "3.0",
         "3.0",
         "4.0",
         "2.0",
         "18.603002309079653"
        ],
        [
         "50%",
         "220000000.0",
         "4.0",
         "4.0",
         "5.0",
         "3.0",
         "19.20913810886209"
        ],
        [
         "75%",
         "400000000.0",
         "5.0",
         "5.0",
         "6.0",
         "5.0",
         "19.806975107572256"
        ],
        [
         "max",
         "3950000000.0",
         "18.0",
         "18.0",
         "19.0",
         "19.0",
         "22.096981416112605"
        ]
       ],
       "shape": {
        "columns": 6,
        "rows": 8
       }
      },
      "text/html": [
       "<div>\n",
       "<style scoped>\n",
       "    .dataframe tbody tr th:only-of-type {\n",
       "        vertical-align: middle;\n",
       "    }\n",
       "\n",
       "    .dataframe tbody tr th {\n",
       "        vertical-align: top;\n",
       "    }\n",
       "\n",
       "    .dataframe thead th {\n",
       "        text-align: right;\n",
       "    }\n",
       "</style>\n",
       "<table border=\"1\" class=\"dataframe\">\n",
       "  <thead>\n",
       "    <tr style=\"text-align: right;\">\n",
       "      <th></th>\n",
       "      <th>price</th>\n",
       "      <th>bedrooms</th>\n",
       "      <th>bathrooms</th>\n",
       "      <th>toilets</th>\n",
       "      <th>parking_space</th>\n",
       "      <th>price_log</th>\n",
       "    </tr>\n",
       "  </thead>\n",
       "  <tbody>\n",
       "    <tr>\n",
       "      <th>count</th>\n",
       "      <td>2.892500e+04</td>\n",
       "      <td>28925.000000</td>\n",
       "      <td>28925.000000</td>\n",
       "      <td>28925.000000</td>\n",
       "      <td>28925.000000</td>\n",
       "      <td>28925.000000</td>\n",
       "    </tr>\n",
       "    <tr>\n",
       "      <th>mean</th>\n",
       "      <td>3.557791e+08</td>\n",
       "      <td>4.019741</td>\n",
       "      <td>4.201971</td>\n",
       "      <td>4.983198</td>\n",
       "      <td>3.934071</td>\n",
       "      <td>19.228304</td>\n",
       "    </tr>\n",
       "    <tr>\n",
       "      <th>std</th>\n",
       "      <td>4.614652e+08</td>\n",
       "      <td>1.365276</td>\n",
       "      <td>1.465787</td>\n",
       "      <td>1.511170</td>\n",
       "      <td>2.277654</td>\n",
       "      <td>0.938352</td>\n",
       "    </tr>\n",
       "    <tr>\n",
       "      <th>min</th>\n",
       "      <td>1.000000e+05</td>\n",
       "      <td>1.000000</td>\n",
       "      <td>1.000000</td>\n",
       "      <td>1.000000</td>\n",
       "      <td>1.000000</td>\n",
       "      <td>11.512935</td>\n",
       "    </tr>\n",
       "    <tr>\n",
       "      <th>25%</th>\n",
       "      <td>1.200000e+08</td>\n",
       "      <td>3.000000</td>\n",
       "      <td>3.000000</td>\n",
       "      <td>4.000000</td>\n",
       "      <td>2.000000</td>\n",
       "      <td>18.603002</td>\n",
       "    </tr>\n",
       "    <tr>\n",
       "      <th>50%</th>\n",
       "      <td>2.200000e+08</td>\n",
       "      <td>4.000000</td>\n",
       "      <td>4.000000</td>\n",
       "      <td>5.000000</td>\n",
       "      <td>3.000000</td>\n",
       "      <td>19.209138</td>\n",
       "    </tr>\n",
       "    <tr>\n",
       "      <th>75%</th>\n",
       "      <td>4.000000e+08</td>\n",
       "      <td>5.000000</td>\n",
       "      <td>5.000000</td>\n",
       "      <td>6.000000</td>\n",
       "      <td>5.000000</td>\n",
       "      <td>19.806975</td>\n",
       "    </tr>\n",
       "    <tr>\n",
       "      <th>max</th>\n",
       "      <td>3.950000e+09</td>\n",
       "      <td>18.000000</td>\n",
       "      <td>18.000000</td>\n",
       "      <td>19.000000</td>\n",
       "      <td>19.000000</td>\n",
       "      <td>22.096981</td>\n",
       "    </tr>\n",
       "  </tbody>\n",
       "</table>\n",
       "</div>"
      ],
      "text/plain": [
       "              price      bedrooms     bathrooms       toilets  parking_space  \\\n",
       "count  2.892500e+04  28925.000000  28925.000000  28925.000000   28925.000000   \n",
       "mean   3.557791e+08      4.019741      4.201971      4.983198       3.934071   \n",
       "std    4.614652e+08      1.365276      1.465787      1.511170       2.277654   \n",
       "min    1.000000e+05      1.000000      1.000000      1.000000       1.000000   \n",
       "25%    1.200000e+08      3.000000      3.000000      4.000000       2.000000   \n",
       "50%    2.200000e+08      4.000000      4.000000      5.000000       3.000000   \n",
       "75%    4.000000e+08      5.000000      5.000000      6.000000       5.000000   \n",
       "max    3.950000e+09     18.000000     18.000000     19.000000      19.000000   \n",
       "\n",
       "          price_log  \n",
       "count  28925.000000  \n",
       "mean      19.228304  \n",
       "std        0.938352  \n",
       "min       11.512935  \n",
       "25%       18.603002  \n",
       "50%       19.209138  \n",
       "75%       19.806975  \n",
       "max       22.096981  "
      ]
     },
     "execution_count": 633,
     "metadata": {},
     "output_type": "execute_result"
    }
   ],
   "source": [
    "data.describe()\n"
   ]
  },
  {
   "cell_type": "code",
   "execution_count": 634,
   "metadata": {},
   "outputs": [],
   "source": [
    "data[\"type_of_house\"] = data[\"type_of_house\"].str.replace(\" for sale\", \"\")"
   ]
  }
 ],
 "metadata": {
  "kernelspec": {
   "display_name": "base",
   "language": "python",
   "name": "python3"
  },
  "language_info": {
   "codemirror_mode": {
    "name": "ipython",
    "version": 3
   },
   "file_extension": ".py",
   "mimetype": "text/x-python",
   "name": "python",
   "nbconvert_exporter": "python",
   "pygments_lexer": "ipython3",
   "version": "3.12.3"
  }
 },
 "nbformat": 4,
 "nbformat_minor": 2
}
